{
 "cells": [
  {
   "cell_type": "markdown",
   "metadata": {},
   "source": [
    "<hr style=\"margin-bottom: 40px;\">\n",
    "\n",
    "<img src=\"images/cryptocurrency.jpg\"\n",
    "    style=\"width:400px; float: right; margin: 0 40px 40px 40px;\"></img>\n",
    "\n",
    "# Crypto base data analysis\n",
    "\n",
    "Base data analysis on top five cryptocurrencies by market share. \n",
    "\n",
    "* Bitcoin (38.96%)\n",
    "* Ethreum (17.32%)\n",
    "* BNB (4.77%)\n",
    "* ADA (1.67%)\n",
    "* SOL (1.27%)\n",
    "* Others coins (36%)\n"
   ]
  },
  {
   "cell_type": "markdown",
   "metadata": {},
   "source": [
    "![purple-divider](https://user-images.githubusercontent.com/7065401/52071927-c1cd7100-2562-11e9-908a-dde91ba14e59.png)\n",
    "\n",
    "## Hands on !"
   ]
  },
  {
   "cell_type": "code",
   "execution_count": 22,
   "metadata": {},
   "outputs": [],
   "source": [
    "import wikipedia\n",
    "import pandas as pd\n",
    "import yaml\n",
    "from bokeh.plotting import figure, output_file, show\n",
    "from bokeh.io import output_notebook\n",
    "from utils import get_historic_price\n",
    "from utils import BNB_DESCRIPTION\n",
    "import matplotlib.pyplot as plt\n",
    "\n",
    "%matplotlib inline\n",
    "\n",
    "# Constants\n",
    "last_week = (pd.Timestamp.now() - pd.offsets.Day(7))"
   ]
  },
  {
   "cell_type": "markdown",
   "metadata": {},
   "source": [
    "## Loading data"
   ]
  },
  {
   "cell_type": "code",
   "execution_count": 23,
   "metadata": {},
   "outputs": [],
   "source": [
    "btc_ohlc_1h = get_historic_price(\"btc\", \"binance\", after = last_week)\n",
    "eth_ohlc_1h = get_historic_price(\"eth\",\"Binance\", after=last_week)\n",
    "bnb_ohlc_1h = get_historic_price(\"bnb\", \"binance\", after = last_week)\n",
    "sol_ohlc_1h = get_historic_price(\"sol\", \"binance\", after = last_week)\n",
    "ada_ohlc_1h = get_historic_price(\"ada\", \"binance\", after = last_week)\n",
    "\n",
    "coin_descriptions = {\n",
    "    \"btc\" : wikipedia.summary(\"Bitcoin\"),\n",
    "    \"eth\" : wikipedia.summary(\"Ethereum coin\"),\n",
    "    \"bnb\" : BNB_DESCRIPTION,\n",
    "    \"ada\" : wikipedia.summary(\"Cardano blockchain\"),\n",
    "    \"sol\" : wikipedia.summary(\"Solana coin\", sentences=10)\n",
    "}\n",
    "\n",
    "\n"
   ]
  },
  {
   "cell_type": "markdown",
   "metadata": {},
   "source": [
    "![green-divider](https://user-images.githubusercontent.com/7065401/52071924-c003ad80-2562-11e9-8297-1c6595f8a7ff.png)\n",
    "\n",
    "## Description coins"
   ]
  },
  {
   "cell_type": "markdown",
   "metadata": {},
   "source": [
    "### Bitcoin"
   ]
  },
  {
   "cell_type": "code",
   "execution_count": 24,
   "metadata": {},
   "outputs": [
    {
     "data": {
      "text/plain": [
       "'Bitcoin (Abbreviation: BTC; sign: ₿) is a decentralized digital currency that can be transferred on the peer-to-peer bitcoin network. Bitcoin transactions are verified by network nodes through cryptography and recorded in a public distributed ledger called a blockchain. The cryptocurrency was invented in 2008 by an unknown person or group of people using the name Satoshi Nakamoto. The currency began use in 2009, when its implementation was released as open-source software.:\\u200ach. 1\\u200aBitcoin has been described as an economic bubble by at least eight Nobel Memorial Prize in Economic Sciences recipients.The word bitcoin was defined in a white paper published on 31 October 2008. It is a compound of the words bit and coin. No uniform convention for bitcoin capitalization exists; some sources use Bitcoin, capitalized, to refer to the technology and network and bitcoin, lowercase, for the unit of account. The Wall Street Journal, The Chronicle of Higher Education, and the Oxford English Dictionary advocate the use of lowercase bitcoin in all cases.\\nThe legality of bitcoin varies by region. Nine countries have fully banned bitcoin use, while a further fifteen have implicitly banned it. A few governments have used bitcoin in some capacity. El Salvador has adopted Bitcoin as legal tender, although use by merchants remains low. Ukraine has accepted cryptocurrency donations to fund the resistance to the 2022 Russian invasion. Iran has used bitcoin to bypass sanctions.'"
      ]
     },
     "execution_count": 24,
     "metadata": {},
     "output_type": "execute_result"
    }
   ],
   "source": [
    "coin_descriptions[\"btc\"]"
   ]
  },
  {
   "cell_type": "markdown",
   "metadata": {},
   "source": [
    "### Ethereum"
   ]
  },
  {
   "cell_type": "code",
   "execution_count": 25,
   "metadata": {},
   "outputs": [
    {
     "data": {
      "text/plain": [
       "'Ethereum is a decentralized, open-source blockchain with smart contract functionality. Ether (Abbreviation: ETH;  sign: Ξ) is the native cryptocurrency of the platform. Among cryptocurrencies, ether is second only to bitcoin in market capitalization.Ethereum was conceived in 2013 by programmer Vitalik Buterin. Additional founders of Ethereum included Gavin Wood, Charles Hoskinson, Anthony Di Iorio and Joseph Lubin. In 2014, development work began and was crowdfunded, and the network went live on 30 July 2015. Ethereum allows anyone to deploy permanent and immutable decentralized applications onto it, with which users can interact. Decentralized finance (DeFi) applications provide a broad array of financial services without the need for typical financial intermediaries like brokerages, exchanges, or banks, such as allowing cryptocurrency users to borrow against their holdings or lend them out for interest. Ethereum also allows users to create and exchange NFTs, which are unique tokens representing ownership of an associated asset or privilege, as recognized by any number of institutions. Additionally, many other cryptocurrencies utilize the ERC-20 token standard on top of the Ethereum blockchain and have utilized the platform for initial coin offerings.\\nOn 15 September 2022, Ethereum transitioned its consensus mechanism from proof-of-work (PoW) to proof-of-stake (PoS) in an upgrade process known as \"the Merge\". Consequently, Ethereum\\'s energy consumption rate was reduced by about 99.95%, translating to an estimated 110 TWh of annual energy savings (110 billion kilowatt-hours). The upgrade required no actions from Ethereum\\'s users. During the Merge, Ethereum\\'s proof-of-work mining mechanism was replaced with the Beacon Chain, a proof-of-stake blockchain network secured by validators staking ether.\\n\\n'"
      ]
     },
     "execution_count": 25,
     "metadata": {},
     "output_type": "execute_result"
    }
   ],
   "source": [
    "coin_descriptions[\"eth\"]"
   ]
  },
  {
   "cell_type": "markdown",
   "metadata": {},
   "source": [
    "### Binance coin"
   ]
  },
  {
   "cell_type": "code",
   "execution_count": 26,
   "metadata": {},
   "outputs": [
    {
     "data": {
      "text/plain": [
       "'\\nBinance coin (BNB) is the exchange token of the Binance crypto exchange. It was launched originally on the Ethereum blockchain but later migrated to the Binance Smart Chain, now called BNB Chain.\\n\\nHolders of BNB with Binance accounts can access discounted fees on the exchange. That means demand for the token is linked to demand for the exchange’s services. Therefore, buying BNB can be seen as a bet on the success of the exchange, in a similar way to buying a share in a company, except that owning the token comes with no ownership rights in the exchange.\\n'"
      ]
     },
     "execution_count": 26,
     "metadata": {},
     "output_type": "execute_result"
    }
   ],
   "source": [
    "coin_descriptions[\"bnb\"]"
   ]
  },
  {
   "cell_type": "markdown",
   "metadata": {},
   "source": [
    "### Cardano"
   ]
  },
  {
   "cell_type": "code",
   "execution_count": 27,
   "metadata": {},
   "outputs": [
    {
     "data": {
      "text/plain": [
       "'Cardano is a public blockchain platform. It is open-source and decentralized, with consensus achieved using proof of stake. It can facilitate peer-to-peer transactions with its internal cryptocurrency, ADA.Cardano was founded in 2015 by Ethereum co-founder Charles Hoskinson. The development of the project is overseen and supervised by the Cardano Foundation based in Zug, Switzerland. It is the largest cryptocurrency to use a proof-of-stake blockchain, which is seen as a greener alternative to proof-of-work protocols.\\n\\n'"
      ]
     },
     "execution_count": 27,
     "metadata": {},
     "output_type": "execute_result"
    }
   ],
   "source": [
    "coin_descriptions[\"ada\"]"
   ]
  },
  {
   "cell_type": "markdown",
   "metadata": {},
   "source": [
    "### Solana"
   ]
  },
  {
   "cell_type": "code",
   "execution_count": 28,
   "metadata": {},
   "outputs": [
    {
     "data": {
      "text/plain": [
       "'Solana is a public blockchain platform with smart contract functionality. Its native cryptocurrency is SOL.\\n\\n\\n== History ==\\nSolana was proposed in a white paper Anatoly Yakovenko published in November 2017. This paper described a technique called \"proof of history\".On 16 March 2020, Solana\\'s first block was created.In September 2021, Bloomberg journalist Joanna Ossinger said investors argued that Solana was \"a potential long-term rival for Ethereum\", citing superior transaction speeds and lower associated costs.On 14 September 2021, the Solana blockchain went offline after a surge of transactions caused the network to fork, and different validators had different views of the state of the network. The network was brought back online the next day on 15 September 2021.On 16 December 2021, the former First Lady of the United States Melania Trump announced her plans to use Solana to launch a non-fungible token (NFT). The Solana Foundation issued a press release to clarify that her choice of the platform was not officially \"part of any Solana-led initiative.\"The Solana blockchain again went offline on May 1st, 2022 and May 31st, 2022. The outage at the beginning of the month lasted roughly seven hours, and the one at the end of the month lasted about four and a half hours.On the 3 August 2022, it was announced that the Solana ecosystem had been targeted by hackers, affecting 9,231 Solana wallets. Four Solana wallet addresses took approximately $4.1 million in total from victims. All wallets affected were at one point created, imported, or used in the Slope wallet applications on iOS and Android.  Security researchers discovered that Slope wallet sent sensitive account data to its remote servers in clear text.\\n\\n\\n=== Lawsuit ===\\nOn July 1, 2022, a class action lawsuit was filed against Solana.'"
      ]
     },
     "execution_count": 28,
     "metadata": {},
     "output_type": "execute_result"
    }
   ],
   "source": [
    "coin_descriptions[\"sol\"]"
   ]
  },
  {
   "cell_type": "markdown",
   "metadata": {},
   "source": [
    "![green-divider](https://user-images.githubusercontent.com/7065401/52071924-c003ad80-2562-11e9-8297-1c6595f8a7ff.png)\n",
    "\n",
    "## The data at a glance"
   ]
  },
  {
   "cell_type": "markdown",
   "metadata": {},
   "source": [
    "### Bitcoin"
   ]
  },
  {
   "cell_type": "code",
   "execution_count": 29,
   "metadata": {},
   "outputs": [
    {
     "data": {
      "text/html": [
       "<div>\n",
       "<style scoped>\n",
       "    .dataframe tbody tr th:only-of-type {\n",
       "        vertical-align: middle;\n",
       "    }\n",
       "\n",
       "    .dataframe tbody tr th {\n",
       "        vertical-align: top;\n",
       "    }\n",
       "\n",
       "    .dataframe thead th {\n",
       "        text-align: right;\n",
       "    }\n",
       "</style>\n",
       "<table border=\"1\" class=\"dataframe\">\n",
       "  <thead>\n",
       "    <tr style=\"text-align: right;\">\n",
       "      <th></th>\n",
       "      <th>OpenPrice</th>\n",
       "      <th>HighPrice</th>\n",
       "      <th>LowPrice</th>\n",
       "      <th>ClosePrice</th>\n",
       "      <th>Volume</th>\n",
       "      <th>NA</th>\n",
       "    </tr>\n",
       "    <tr>\n",
       "      <th>CloseTime</th>\n",
       "      <th></th>\n",
       "      <th></th>\n",
       "      <th></th>\n",
       "      <th></th>\n",
       "      <th></th>\n",
       "      <th></th>\n",
       "    </tr>\n",
       "  </thead>\n",
       "  <tbody>\n",
       "    <tr>\n",
       "      <th>2022-09-25 14:00:00</th>\n",
       "      <td>19088.25</td>\n",
       "      <td>19089.19</td>\n",
       "      <td>18870.00</td>\n",
       "      <td>18922.69</td>\n",
       "      <td>9098.02752</td>\n",
       "      <td>1.728077e+08</td>\n",
       "    </tr>\n",
       "    <tr>\n",
       "      <th>2022-09-25 13:00:00</th>\n",
       "      <td>19117.95</td>\n",
       "      <td>19144.23</td>\n",
       "      <td>19049.00</td>\n",
       "      <td>19087.88</td>\n",
       "      <td>7755.04779</td>\n",
       "      <td>1.481494e+08</td>\n",
       "    </tr>\n",
       "    <tr>\n",
       "      <th>2022-09-25 12:00:00</th>\n",
       "      <td>19070.06</td>\n",
       "      <td>19180.21</td>\n",
       "      <td>19067.00</td>\n",
       "      <td>19117.94</td>\n",
       "      <td>8172.18621</td>\n",
       "      <td>1.561577e+08</td>\n",
       "    </tr>\n",
       "    <tr>\n",
       "      <th>2022-09-25 11:00:00</th>\n",
       "      <td>19042.73</td>\n",
       "      <td>19103.59</td>\n",
       "      <td>18982.00</td>\n",
       "      <td>19069.47</td>\n",
       "      <td>6677.81579</td>\n",
       "      <td>1.272444e+08</td>\n",
       "    </tr>\n",
       "    <tr>\n",
       "      <th>2022-09-25 10:00:00</th>\n",
       "      <td>19082.37</td>\n",
       "      <td>19092.69</td>\n",
       "      <td>19027.80</td>\n",
       "      <td>19041.88</td>\n",
       "      <td>5827.03901</td>\n",
       "      <td>1.110786e+08</td>\n",
       "    </tr>\n",
       "    <tr>\n",
       "      <th>2022-09-25 09:00:00</th>\n",
       "      <td>19098.09</td>\n",
       "      <td>19123.57</td>\n",
       "      <td>19072.71</td>\n",
       "      <td>19083.33</td>\n",
       "      <td>5703.62232</td>\n",
       "      <td>1.088991e+08</td>\n",
       "    </tr>\n",
       "    <tr>\n",
       "      <th>2022-09-25 08:00:00</th>\n",
       "      <td>19024.91</td>\n",
       "      <td>19132.21</td>\n",
       "      <td>19006.61</td>\n",
       "      <td>19098.09</td>\n",
       "      <td>7522.17882</td>\n",
       "      <td>1.435028e+08</td>\n",
       "    </tr>\n",
       "    <tr>\n",
       "      <th>2022-09-25 07:00:00</th>\n",
       "      <td>18992.75</td>\n",
       "      <td>19067.62</td>\n",
       "      <td>18983.14</td>\n",
       "      <td>19024.31</td>\n",
       "      <td>4954.86243</td>\n",
       "      <td>9.426829e+07</td>\n",
       "    </tr>\n",
       "    <tr>\n",
       "      <th>2022-09-25 06:00:00</th>\n",
       "      <td>19008.91</td>\n",
       "      <td>19037.00</td>\n",
       "      <td>18937.62</td>\n",
       "      <td>18992.75</td>\n",
       "      <td>5859.99293</td>\n",
       "      <td>1.112774e+08</td>\n",
       "    </tr>\n",
       "    <tr>\n",
       "      <th>2022-09-25 05:00:00</th>\n",
       "      <td>19052.83</td>\n",
       "      <td>19070.10</td>\n",
       "      <td>19002.64</td>\n",
       "      <td>19008.91</td>\n",
       "      <td>4721.69840</td>\n",
       "      <td>8.984193e+07</td>\n",
       "    </tr>\n",
       "  </tbody>\n",
       "</table>\n",
       "</div>"
      ],
      "text/plain": [
       "                     OpenPrice  HighPrice  LowPrice  ClosePrice      Volume  \\\n",
       "CloseTime                                                                     \n",
       "2022-09-25 14:00:00   19088.25   19089.19  18870.00    18922.69  9098.02752   \n",
       "2022-09-25 13:00:00   19117.95   19144.23  19049.00    19087.88  7755.04779   \n",
       "2022-09-25 12:00:00   19070.06   19180.21  19067.00    19117.94  8172.18621   \n",
       "2022-09-25 11:00:00   19042.73   19103.59  18982.00    19069.47  6677.81579   \n",
       "2022-09-25 10:00:00   19082.37   19092.69  19027.80    19041.88  5827.03901   \n",
       "2022-09-25 09:00:00   19098.09   19123.57  19072.71    19083.33  5703.62232   \n",
       "2022-09-25 08:00:00   19024.91   19132.21  19006.61    19098.09  7522.17882   \n",
       "2022-09-25 07:00:00   18992.75   19067.62  18983.14    19024.31  4954.86243   \n",
       "2022-09-25 06:00:00   19008.91   19037.00  18937.62    18992.75  5859.99293   \n",
       "2022-09-25 05:00:00   19052.83   19070.10  19002.64    19008.91  4721.69840   \n",
       "\n",
       "                               NA  \n",
       "CloseTime                          \n",
       "2022-09-25 14:00:00  1.728077e+08  \n",
       "2022-09-25 13:00:00  1.481494e+08  \n",
       "2022-09-25 12:00:00  1.561577e+08  \n",
       "2022-09-25 11:00:00  1.272444e+08  \n",
       "2022-09-25 10:00:00  1.110786e+08  \n",
       "2022-09-25 09:00:00  1.088991e+08  \n",
       "2022-09-25 08:00:00  1.435028e+08  \n",
       "2022-09-25 07:00:00  9.426829e+07  \n",
       "2022-09-25 06:00:00  1.112774e+08  \n",
       "2022-09-25 05:00:00  8.984193e+07  "
      ]
     },
     "execution_count": 29,
     "metadata": {},
     "output_type": "execute_result"
    }
   ],
   "source": [
    "btc_ohlc_1h.sort_values(\"CloseTime\", ascending=False).head(10)"
   ]
  },
  {
   "cell_type": "markdown",
   "metadata": {},
   "source": [
    "### Ethereum"
   ]
  },
  {
   "cell_type": "code",
   "execution_count": 30,
   "metadata": {},
   "outputs": [
    {
     "data": {
      "text/html": [
       "<div>\n",
       "<style scoped>\n",
       "    .dataframe tbody tr th:only-of-type {\n",
       "        vertical-align: middle;\n",
       "    }\n",
       "\n",
       "    .dataframe tbody tr th {\n",
       "        vertical-align: top;\n",
       "    }\n",
       "\n",
       "    .dataframe thead th {\n",
       "        text-align: right;\n",
       "    }\n",
       "</style>\n",
       "<table border=\"1\" class=\"dataframe\">\n",
       "  <thead>\n",
       "    <tr style=\"text-align: right;\">\n",
       "      <th></th>\n",
       "      <th>OpenPrice</th>\n",
       "      <th>HighPrice</th>\n",
       "      <th>LowPrice</th>\n",
       "      <th>ClosePrice</th>\n",
       "      <th>Volume</th>\n",
       "      <th>NA</th>\n",
       "    </tr>\n",
       "    <tr>\n",
       "      <th>CloseTime</th>\n",
       "      <th></th>\n",
       "      <th></th>\n",
       "      <th></th>\n",
       "      <th></th>\n",
       "      <th></th>\n",
       "      <th></th>\n",
       "    </tr>\n",
       "  </thead>\n",
       "  <tbody>\n",
       "    <tr>\n",
       "      <th>2022-09-25 14:00:00</th>\n",
       "      <td>1323.57</td>\n",
       "      <td>1323.84</td>\n",
       "      <td>1301.02</td>\n",
       "      <td>1307.63</td>\n",
       "      <td>47866.3850</td>\n",
       "      <td>6.287226e+07</td>\n",
       "    </tr>\n",
       "    <tr>\n",
       "      <th>2022-09-25 13:00:00</th>\n",
       "      <td>1329.33</td>\n",
       "      <td>1331.49</td>\n",
       "      <td>1322.22</td>\n",
       "      <td>1323.57</td>\n",
       "      <td>10620.6299</td>\n",
       "      <td>1.408855e+07</td>\n",
       "    </tr>\n",
       "    <tr>\n",
       "      <th>2022-09-25 12:00:00</th>\n",
       "      <td>1325.32</td>\n",
       "      <td>1332.00</td>\n",
       "      <td>1325.08</td>\n",
       "      <td>1329.33</td>\n",
       "      <td>13772.0807</td>\n",
       "      <td>1.829258e+07</td>\n",
       "    </tr>\n",
       "    <tr>\n",
       "      <th>2022-09-25 11:00:00</th>\n",
       "      <td>1323.10</td>\n",
       "      <td>1327.18</td>\n",
       "      <td>1316.74</td>\n",
       "      <td>1325.31</td>\n",
       "      <td>13135.9838</td>\n",
       "      <td>1.738277e+07</td>\n",
       "    </tr>\n",
       "    <tr>\n",
       "      <th>2022-09-25 10:00:00</th>\n",
       "      <td>1330.54</td>\n",
       "      <td>1332.26</td>\n",
       "      <td>1321.89</td>\n",
       "      <td>1323.11</td>\n",
       "      <td>14174.1495</td>\n",
       "      <td>1.881765e+07</td>\n",
       "    </tr>\n",
       "    <tr>\n",
       "      <th>2022-09-25 09:00:00</th>\n",
       "      <td>1332.83</td>\n",
       "      <td>1334.45</td>\n",
       "      <td>1328.06</td>\n",
       "      <td>1330.55</td>\n",
       "      <td>22619.2800</td>\n",
       "      <td>3.011080e+07</td>\n",
       "    </tr>\n",
       "    <tr>\n",
       "      <th>2022-09-25 08:00:00</th>\n",
       "      <td>1326.32</td>\n",
       "      <td>1337.00</td>\n",
       "      <td>1324.18</td>\n",
       "      <td>1332.84</td>\n",
       "      <td>19390.0125</td>\n",
       "      <td>2.581923e+07</td>\n",
       "    </tr>\n",
       "    <tr>\n",
       "      <th>2022-09-25 07:00:00</th>\n",
       "      <td>1322.68</td>\n",
       "      <td>1328.43</td>\n",
       "      <td>1321.70</td>\n",
       "      <td>1326.31</td>\n",
       "      <td>7414.0464</td>\n",
       "      <td>9.829907e+06</td>\n",
       "    </tr>\n",
       "    <tr>\n",
       "      <th>2022-09-25 06:00:00</th>\n",
       "      <td>1327.64</td>\n",
       "      <td>1329.43</td>\n",
       "      <td>1319.58</td>\n",
       "      <td>1322.68</td>\n",
       "      <td>10403.1724</td>\n",
       "      <td>1.376230e+07</td>\n",
       "    </tr>\n",
       "    <tr>\n",
       "      <th>2022-09-25 05:00:00</th>\n",
       "      <td>1329.37</td>\n",
       "      <td>1330.12</td>\n",
       "      <td>1325.00</td>\n",
       "      <td>1327.64</td>\n",
       "      <td>9439.9714</td>\n",
       "      <td>1.253114e+07</td>\n",
       "    </tr>\n",
       "  </tbody>\n",
       "</table>\n",
       "</div>"
      ],
      "text/plain": [
       "                     OpenPrice  HighPrice  LowPrice  ClosePrice      Volume  \\\n",
       "CloseTime                                                                     \n",
       "2022-09-25 14:00:00    1323.57    1323.84   1301.02     1307.63  47866.3850   \n",
       "2022-09-25 13:00:00    1329.33    1331.49   1322.22     1323.57  10620.6299   \n",
       "2022-09-25 12:00:00    1325.32    1332.00   1325.08     1329.33  13772.0807   \n",
       "2022-09-25 11:00:00    1323.10    1327.18   1316.74     1325.31  13135.9838   \n",
       "2022-09-25 10:00:00    1330.54    1332.26   1321.89     1323.11  14174.1495   \n",
       "2022-09-25 09:00:00    1332.83    1334.45   1328.06     1330.55  22619.2800   \n",
       "2022-09-25 08:00:00    1326.32    1337.00   1324.18     1332.84  19390.0125   \n",
       "2022-09-25 07:00:00    1322.68    1328.43   1321.70     1326.31   7414.0464   \n",
       "2022-09-25 06:00:00    1327.64    1329.43   1319.58     1322.68  10403.1724   \n",
       "2022-09-25 05:00:00    1329.37    1330.12   1325.00     1327.64   9439.9714   \n",
       "\n",
       "                               NA  \n",
       "CloseTime                          \n",
       "2022-09-25 14:00:00  6.287226e+07  \n",
       "2022-09-25 13:00:00  1.408855e+07  \n",
       "2022-09-25 12:00:00  1.829258e+07  \n",
       "2022-09-25 11:00:00  1.738277e+07  \n",
       "2022-09-25 10:00:00  1.881765e+07  \n",
       "2022-09-25 09:00:00  3.011080e+07  \n",
       "2022-09-25 08:00:00  2.581923e+07  \n",
       "2022-09-25 07:00:00  9.829907e+06  \n",
       "2022-09-25 06:00:00  1.376230e+07  \n",
       "2022-09-25 05:00:00  1.253114e+07  "
      ]
     },
     "execution_count": 30,
     "metadata": {},
     "output_type": "execute_result"
    }
   ],
   "source": [
    "eth_ohlc_1h.sort_values(\"CloseTime\", ascending=False).head(10)"
   ]
  },
  {
   "cell_type": "markdown",
   "metadata": {},
   "source": [
    "### Binance coin"
   ]
  },
  {
   "cell_type": "code",
   "execution_count": 31,
   "metadata": {},
   "outputs": [
    {
     "data": {
      "text/html": [
       "<div>\n",
       "<style scoped>\n",
       "    .dataframe tbody tr th:only-of-type {\n",
       "        vertical-align: middle;\n",
       "    }\n",
       "\n",
       "    .dataframe tbody tr th {\n",
       "        vertical-align: top;\n",
       "    }\n",
       "\n",
       "    .dataframe thead th {\n",
       "        text-align: right;\n",
       "    }\n",
       "</style>\n",
       "<table border=\"1\" class=\"dataframe\">\n",
       "  <thead>\n",
       "    <tr style=\"text-align: right;\">\n",
       "      <th></th>\n",
       "      <th>OpenPrice</th>\n",
       "      <th>HighPrice</th>\n",
       "      <th>LowPrice</th>\n",
       "      <th>ClosePrice</th>\n",
       "      <th>Volume</th>\n",
       "      <th>NA</th>\n",
       "    </tr>\n",
       "    <tr>\n",
       "      <th>CloseTime</th>\n",
       "      <th></th>\n",
       "      <th></th>\n",
       "      <th></th>\n",
       "      <th></th>\n",
       "      <th></th>\n",
       "      <th></th>\n",
       "    </tr>\n",
       "  </thead>\n",
       "  <tbody>\n",
       "    <tr>\n",
       "      <th>2022-09-25 14:00:00</th>\n",
       "      <td>276.9</td>\n",
       "      <td>277.9</td>\n",
       "      <td>275.4</td>\n",
       "      <td>276.1</td>\n",
       "      <td>12042.408</td>\n",
       "      <td>3.331738e+06</td>\n",
       "    </tr>\n",
       "    <tr>\n",
       "      <th>2022-09-25 13:00:00</th>\n",
       "      <td>278.3</td>\n",
       "      <td>279.3</td>\n",
       "      <td>276.7</td>\n",
       "      <td>276.8</td>\n",
       "      <td>8982.797</td>\n",
       "      <td>2.495903e+06</td>\n",
       "    </tr>\n",
       "    <tr>\n",
       "      <th>2022-09-25 12:00:00</th>\n",
       "      <td>278.5</td>\n",
       "      <td>279.0</td>\n",
       "      <td>277.6</td>\n",
       "      <td>278.2</td>\n",
       "      <td>6645.402</td>\n",
       "      <td>1.850024e+06</td>\n",
       "    </tr>\n",
       "    <tr>\n",
       "      <th>2022-09-25 11:00:00</th>\n",
       "      <td>277.0</td>\n",
       "      <td>278.8</td>\n",
       "      <td>276.3</td>\n",
       "      <td>278.5</td>\n",
       "      <td>6748.279</td>\n",
       "      <td>1.872816e+06</td>\n",
       "    </tr>\n",
       "    <tr>\n",
       "      <th>2022-09-25 10:00:00</th>\n",
       "      <td>278.8</td>\n",
       "      <td>280.0</td>\n",
       "      <td>277.0</td>\n",
       "      <td>277.1</td>\n",
       "      <td>13543.084</td>\n",
       "      <td>3.774938e+06</td>\n",
       "    </tr>\n",
       "    <tr>\n",
       "      <th>2022-09-25 09:00:00</th>\n",
       "      <td>278.0</td>\n",
       "      <td>278.9</td>\n",
       "      <td>277.5</td>\n",
       "      <td>278.7</td>\n",
       "      <td>11238.130</td>\n",
       "      <td>3.128049e+06</td>\n",
       "    </tr>\n",
       "    <tr>\n",
       "      <th>2022-09-25 08:00:00</th>\n",
       "      <td>276.5</td>\n",
       "      <td>278.1</td>\n",
       "      <td>276.3</td>\n",
       "      <td>277.9</td>\n",
       "      <td>8433.078</td>\n",
       "      <td>2.339990e+06</td>\n",
       "    </tr>\n",
       "    <tr>\n",
       "      <th>2022-09-25 07:00:00</th>\n",
       "      <td>275.8</td>\n",
       "      <td>277.0</td>\n",
       "      <td>275.6</td>\n",
       "      <td>276.5</td>\n",
       "      <td>4583.567</td>\n",
       "      <td>1.266997e+06</td>\n",
       "    </tr>\n",
       "    <tr>\n",
       "      <th>2022-09-25 06:00:00</th>\n",
       "      <td>275.6</td>\n",
       "      <td>276.0</td>\n",
       "      <td>274.4</td>\n",
       "      <td>275.9</td>\n",
       "      <td>5750.984</td>\n",
       "      <td>1.582809e+06</td>\n",
       "    </tr>\n",
       "    <tr>\n",
       "      <th>2022-09-25 05:00:00</th>\n",
       "      <td>276.4</td>\n",
       "      <td>276.4</td>\n",
       "      <td>275.2</td>\n",
       "      <td>275.5</td>\n",
       "      <td>3854.995</td>\n",
       "      <td>1.062686e+06</td>\n",
       "    </tr>\n",
       "  </tbody>\n",
       "</table>\n",
       "</div>"
      ],
      "text/plain": [
       "                     OpenPrice  HighPrice  LowPrice  ClosePrice     Volume  \\\n",
       "CloseTime                                                                    \n",
       "2022-09-25 14:00:00      276.9      277.9     275.4       276.1  12042.408   \n",
       "2022-09-25 13:00:00      278.3      279.3     276.7       276.8   8982.797   \n",
       "2022-09-25 12:00:00      278.5      279.0     277.6       278.2   6645.402   \n",
       "2022-09-25 11:00:00      277.0      278.8     276.3       278.5   6748.279   \n",
       "2022-09-25 10:00:00      278.8      280.0     277.0       277.1  13543.084   \n",
       "2022-09-25 09:00:00      278.0      278.9     277.5       278.7  11238.130   \n",
       "2022-09-25 08:00:00      276.5      278.1     276.3       277.9   8433.078   \n",
       "2022-09-25 07:00:00      275.8      277.0     275.6       276.5   4583.567   \n",
       "2022-09-25 06:00:00      275.6      276.0     274.4       275.9   5750.984   \n",
       "2022-09-25 05:00:00      276.4      276.4     275.2       275.5   3854.995   \n",
       "\n",
       "                               NA  \n",
       "CloseTime                          \n",
       "2022-09-25 14:00:00  3.331738e+06  \n",
       "2022-09-25 13:00:00  2.495903e+06  \n",
       "2022-09-25 12:00:00  1.850024e+06  \n",
       "2022-09-25 11:00:00  1.872816e+06  \n",
       "2022-09-25 10:00:00  3.774938e+06  \n",
       "2022-09-25 09:00:00  3.128049e+06  \n",
       "2022-09-25 08:00:00  2.339990e+06  \n",
       "2022-09-25 07:00:00  1.266997e+06  \n",
       "2022-09-25 06:00:00  1.582809e+06  \n",
       "2022-09-25 05:00:00  1.062686e+06  "
      ]
     },
     "execution_count": 31,
     "metadata": {},
     "output_type": "execute_result"
    }
   ],
   "source": [
    "bnb_ohlc_1h.sort_values(\"CloseTime\", ascending=False).head(10)"
   ]
  },
  {
   "cell_type": "markdown",
   "metadata": {},
   "source": [
    "### Cardano"
   ]
  },
  {
   "cell_type": "code",
   "execution_count": 32,
   "metadata": {},
   "outputs": [
    {
     "data": {
      "text/html": [
       "<div>\n",
       "<style scoped>\n",
       "    .dataframe tbody tr th:only-of-type {\n",
       "        vertical-align: middle;\n",
       "    }\n",
       "\n",
       "    .dataframe tbody tr th {\n",
       "        vertical-align: top;\n",
       "    }\n",
       "\n",
       "    .dataframe thead th {\n",
       "        text-align: right;\n",
       "    }\n",
       "</style>\n",
       "<table border=\"1\" class=\"dataframe\">\n",
       "  <thead>\n",
       "    <tr style=\"text-align: right;\">\n",
       "      <th></th>\n",
       "      <th>OpenPrice</th>\n",
       "      <th>HighPrice</th>\n",
       "      <th>LowPrice</th>\n",
       "      <th>ClosePrice</th>\n",
       "      <th>Volume</th>\n",
       "      <th>NA</th>\n",
       "    </tr>\n",
       "    <tr>\n",
       "      <th>CloseTime</th>\n",
       "      <th></th>\n",
       "      <th></th>\n",
       "      <th></th>\n",
       "      <th></th>\n",
       "      <th></th>\n",
       "      <th></th>\n",
       "    </tr>\n",
       "  </thead>\n",
       "  <tbody>\n",
       "    <tr>\n",
       "      <th>2022-09-25 14:00:00</th>\n",
       "      <td>0.4591</td>\n",
       "      <td>0.4592</td>\n",
       "      <td>0.4517</td>\n",
       "      <td>0.4537</td>\n",
       "      <td>5666908.1</td>\n",
       "      <td>2.581776e+06</td>\n",
       "    </tr>\n",
       "    <tr>\n",
       "      <th>2022-09-25 13:00:00</th>\n",
       "      <td>0.4591</td>\n",
       "      <td>0.4628</td>\n",
       "      <td>0.4589</td>\n",
       "      <td>0.4591</td>\n",
       "      <td>4459670.3</td>\n",
       "      <td>2.054770e+06</td>\n",
       "    </tr>\n",
       "    <tr>\n",
       "      <th>2022-09-25 12:00:00</th>\n",
       "      <td>0.4591</td>\n",
       "      <td>0.4599</td>\n",
       "      <td>0.4571</td>\n",
       "      <td>0.4591</td>\n",
       "      <td>2542142.0</td>\n",
       "      <td>1.166391e+06</td>\n",
       "    </tr>\n",
       "    <tr>\n",
       "      <th>2022-09-25 11:00:00</th>\n",
       "      <td>0.4572</td>\n",
       "      <td>0.4595</td>\n",
       "      <td>0.4553</td>\n",
       "      <td>0.4590</td>\n",
       "      <td>3006958.9</td>\n",
       "      <td>1.376138e+06</td>\n",
       "    </tr>\n",
       "    <tr>\n",
       "      <th>2022-09-25 10:00:00</th>\n",
       "      <td>0.4596</td>\n",
       "      <td>0.4610</td>\n",
       "      <td>0.4568</td>\n",
       "      <td>0.4572</td>\n",
       "      <td>3284717.8</td>\n",
       "      <td>1.507919e+06</td>\n",
       "    </tr>\n",
       "    <tr>\n",
       "      <th>2022-09-25 09:00:00</th>\n",
       "      <td>0.4575</td>\n",
       "      <td>0.4603</td>\n",
       "      <td>0.4572</td>\n",
       "      <td>0.4596</td>\n",
       "      <td>3642785.8</td>\n",
       "      <td>1.671840e+06</td>\n",
       "    </tr>\n",
       "    <tr>\n",
       "      <th>2022-09-25 08:00:00</th>\n",
       "      <td>0.4547</td>\n",
       "      <td>0.4577</td>\n",
       "      <td>0.4545</td>\n",
       "      <td>0.4575</td>\n",
       "      <td>2852731.5</td>\n",
       "      <td>1.301585e+06</td>\n",
       "    </tr>\n",
       "    <tr>\n",
       "      <th>2022-09-25 07:00:00</th>\n",
       "      <td>0.4556</td>\n",
       "      <td>0.4582</td>\n",
       "      <td>0.4541</td>\n",
       "      <td>0.4547</td>\n",
       "      <td>7353127.1</td>\n",
       "      <td>3.353281e+06</td>\n",
       "    </tr>\n",
       "    <tr>\n",
       "      <th>2022-09-25 06:00:00</th>\n",
       "      <td>0.4560</td>\n",
       "      <td>0.4561</td>\n",
       "      <td>0.4534</td>\n",
       "      <td>0.4556</td>\n",
       "      <td>2252444.6</td>\n",
       "      <td>1.024369e+06</td>\n",
       "    </tr>\n",
       "    <tr>\n",
       "      <th>2022-09-25 05:00:00</th>\n",
       "      <td>0.4568</td>\n",
       "      <td>0.4570</td>\n",
       "      <td>0.4549</td>\n",
       "      <td>0.4561</td>\n",
       "      <td>2622554.3</td>\n",
       "      <td>1.195205e+06</td>\n",
       "    </tr>\n",
       "  </tbody>\n",
       "</table>\n",
       "</div>"
      ],
      "text/plain": [
       "                     OpenPrice  HighPrice  LowPrice  ClosePrice     Volume  \\\n",
       "CloseTime                                                                    \n",
       "2022-09-25 14:00:00     0.4591     0.4592    0.4517      0.4537  5666908.1   \n",
       "2022-09-25 13:00:00     0.4591     0.4628    0.4589      0.4591  4459670.3   \n",
       "2022-09-25 12:00:00     0.4591     0.4599    0.4571      0.4591  2542142.0   \n",
       "2022-09-25 11:00:00     0.4572     0.4595    0.4553      0.4590  3006958.9   \n",
       "2022-09-25 10:00:00     0.4596     0.4610    0.4568      0.4572  3284717.8   \n",
       "2022-09-25 09:00:00     0.4575     0.4603    0.4572      0.4596  3642785.8   \n",
       "2022-09-25 08:00:00     0.4547     0.4577    0.4545      0.4575  2852731.5   \n",
       "2022-09-25 07:00:00     0.4556     0.4582    0.4541      0.4547  7353127.1   \n",
       "2022-09-25 06:00:00     0.4560     0.4561    0.4534      0.4556  2252444.6   \n",
       "2022-09-25 05:00:00     0.4568     0.4570    0.4549      0.4561  2622554.3   \n",
       "\n",
       "                               NA  \n",
       "CloseTime                          \n",
       "2022-09-25 14:00:00  2.581776e+06  \n",
       "2022-09-25 13:00:00  2.054770e+06  \n",
       "2022-09-25 12:00:00  1.166391e+06  \n",
       "2022-09-25 11:00:00  1.376138e+06  \n",
       "2022-09-25 10:00:00  1.507919e+06  \n",
       "2022-09-25 09:00:00  1.671840e+06  \n",
       "2022-09-25 08:00:00  1.301585e+06  \n",
       "2022-09-25 07:00:00  3.353281e+06  \n",
       "2022-09-25 06:00:00  1.024369e+06  \n",
       "2022-09-25 05:00:00  1.195205e+06  "
      ]
     },
     "execution_count": 32,
     "metadata": {},
     "output_type": "execute_result"
    }
   ],
   "source": [
    "ada_ohlc_1h.sort_values(\"CloseTime\", ascending=False).head(10)"
   ]
  },
  {
   "cell_type": "markdown",
   "metadata": {},
   "source": [
    "### Solana"
   ]
  },
  {
   "cell_type": "code",
   "execution_count": 33,
   "metadata": {},
   "outputs": [
    {
     "data": {
      "text/html": [
       "<div>\n",
       "<style scoped>\n",
       "    .dataframe tbody tr th:only-of-type {\n",
       "        vertical-align: middle;\n",
       "    }\n",
       "\n",
       "    .dataframe tbody tr th {\n",
       "        vertical-align: top;\n",
       "    }\n",
       "\n",
       "    .dataframe thead th {\n",
       "        text-align: right;\n",
       "    }\n",
       "</style>\n",
       "<table border=\"1\" class=\"dataframe\">\n",
       "  <thead>\n",
       "    <tr style=\"text-align: right;\">\n",
       "      <th></th>\n",
       "      <th>OpenPrice</th>\n",
       "      <th>HighPrice</th>\n",
       "      <th>LowPrice</th>\n",
       "      <th>ClosePrice</th>\n",
       "      <th>Volume</th>\n",
       "      <th>NA</th>\n",
       "    </tr>\n",
       "    <tr>\n",
       "      <th>CloseTime</th>\n",
       "      <th></th>\n",
       "      <th></th>\n",
       "      <th></th>\n",
       "      <th></th>\n",
       "      <th></th>\n",
       "      <th></th>\n",
       "    </tr>\n",
       "  </thead>\n",
       "  <tbody>\n",
       "    <tr>\n",
       "      <th>2022-09-25 14:00:00</th>\n",
       "      <td>33.59</td>\n",
       "      <td>33.67</td>\n",
       "      <td>33.26</td>\n",
       "      <td>33.36</td>\n",
       "      <td>72586.92</td>\n",
       "      <td>2.428568e+06</td>\n",
       "    </tr>\n",
       "    <tr>\n",
       "      <th>2022-09-25 13:00:00</th>\n",
       "      <td>33.63</td>\n",
       "      <td>33.80</td>\n",
       "      <td>33.54</td>\n",
       "      <td>33.60</td>\n",
       "      <td>47437.16</td>\n",
       "      <td>1.596803e+06</td>\n",
       "    </tr>\n",
       "    <tr>\n",
       "      <th>2022-09-25 12:00:00</th>\n",
       "      <td>33.68</td>\n",
       "      <td>33.72</td>\n",
       "      <td>33.55</td>\n",
       "      <td>33.64</td>\n",
       "      <td>41585.95</td>\n",
       "      <td>1.398681e+06</td>\n",
       "    </tr>\n",
       "    <tr>\n",
       "      <th>2022-09-25 11:00:00</th>\n",
       "      <td>33.64</td>\n",
       "      <td>33.71</td>\n",
       "      <td>33.46</td>\n",
       "      <td>33.68</td>\n",
       "      <td>46521.83</td>\n",
       "      <td>1.563037e+06</td>\n",
       "    </tr>\n",
       "    <tr>\n",
       "      <th>2022-09-25 10:00:00</th>\n",
       "      <td>33.80</td>\n",
       "      <td>33.92</td>\n",
       "      <td>33.55</td>\n",
       "      <td>33.65</td>\n",
       "      <td>134158.41</td>\n",
       "      <td>4.532586e+06</td>\n",
       "    </tr>\n",
       "    <tr>\n",
       "      <th>2022-09-25 09:00:00</th>\n",
       "      <td>33.96</td>\n",
       "      <td>33.99</td>\n",
       "      <td>33.79</td>\n",
       "      <td>33.80</td>\n",
       "      <td>49668.07</td>\n",
       "      <td>1.684259e+06</td>\n",
       "    </tr>\n",
       "    <tr>\n",
       "      <th>2022-09-25 08:00:00</th>\n",
       "      <td>33.81</td>\n",
       "      <td>34.00</td>\n",
       "      <td>33.69</td>\n",
       "      <td>33.97</td>\n",
       "      <td>60737.88</td>\n",
       "      <td>2.059831e+06</td>\n",
       "    </tr>\n",
       "    <tr>\n",
       "      <th>2022-09-25 07:00:00</th>\n",
       "      <td>33.79</td>\n",
       "      <td>33.88</td>\n",
       "      <td>33.71</td>\n",
       "      <td>33.81</td>\n",
       "      <td>35184.37</td>\n",
       "      <td>1.188373e+06</td>\n",
       "    </tr>\n",
       "    <tr>\n",
       "      <th>2022-09-25 06:00:00</th>\n",
       "      <td>34.00</td>\n",
       "      <td>34.02</td>\n",
       "      <td>33.62</td>\n",
       "      <td>33.80</td>\n",
       "      <td>59467.29</td>\n",
       "      <td>2.009218e+06</td>\n",
       "    </tr>\n",
       "    <tr>\n",
       "      <th>2022-09-25 05:00:00</th>\n",
       "      <td>33.70</td>\n",
       "      <td>34.05</td>\n",
       "      <td>33.64</td>\n",
       "      <td>34.00</td>\n",
       "      <td>103911.77</td>\n",
       "      <td>3.519755e+06</td>\n",
       "    </tr>\n",
       "  </tbody>\n",
       "</table>\n",
       "</div>"
      ],
      "text/plain": [
       "                     OpenPrice  HighPrice  LowPrice  ClosePrice     Volume  \\\n",
       "CloseTime                                                                    \n",
       "2022-09-25 14:00:00      33.59      33.67     33.26       33.36   72586.92   \n",
       "2022-09-25 13:00:00      33.63      33.80     33.54       33.60   47437.16   \n",
       "2022-09-25 12:00:00      33.68      33.72     33.55       33.64   41585.95   \n",
       "2022-09-25 11:00:00      33.64      33.71     33.46       33.68   46521.83   \n",
       "2022-09-25 10:00:00      33.80      33.92     33.55       33.65  134158.41   \n",
       "2022-09-25 09:00:00      33.96      33.99     33.79       33.80   49668.07   \n",
       "2022-09-25 08:00:00      33.81      34.00     33.69       33.97   60737.88   \n",
       "2022-09-25 07:00:00      33.79      33.88     33.71       33.81   35184.37   \n",
       "2022-09-25 06:00:00      34.00      34.02     33.62       33.80   59467.29   \n",
       "2022-09-25 05:00:00      33.70      34.05     33.64       34.00  103911.77   \n",
       "\n",
       "                               NA  \n",
       "CloseTime                          \n",
       "2022-09-25 14:00:00  2.428568e+06  \n",
       "2022-09-25 13:00:00  1.596803e+06  \n",
       "2022-09-25 12:00:00  1.398681e+06  \n",
       "2022-09-25 11:00:00  1.563037e+06  \n",
       "2022-09-25 10:00:00  4.532586e+06  \n",
       "2022-09-25 09:00:00  1.684259e+06  \n",
       "2022-09-25 08:00:00  2.059831e+06  \n",
       "2022-09-25 07:00:00  1.188373e+06  \n",
       "2022-09-25 06:00:00  2.009218e+06  \n",
       "2022-09-25 05:00:00  3.519755e+06  "
      ]
     },
     "execution_count": 33,
     "metadata": {},
     "output_type": "execute_result"
    }
   ],
   "source": [
    "sol_ohlc_1h.sort_values(\"CloseTime\", ascending=False).head(10)"
   ]
  },
  {
   "cell_type": "markdown",
   "metadata": {},
   "source": [
    "![green-divider](https://user-images.githubusercontent.com/7065401/52071924-c003ad80-2562-11e9-8297-1c6595f8a7ff.png)\n",
    "\n",
    "## Visualization"
   ]
  },
  {
   "cell_type": "markdown",
   "metadata": {},
   "source": [
    "### Bitcoin"
   ]
  },
  {
   "cell_type": "code",
   "execution_count": 34,
   "metadata": {},
   "outputs": [
    {
     "data": {
      "text/html": [
       "<div class=\"bk-root\">\n",
       "        <a href=\"https://bokeh.org\" target=\"_blank\" class=\"bk-logo bk-logo-small bk-logo-notebook\"></a>\n",
       "        <span id=\"2202\">Loading BokehJS ...</span>\n",
       "    </div>\n"
      ]
     },
     "metadata": {},
     "output_type": "display_data"
    },
    {
     "data": {
      "application/javascript": "(function(root) {\n  function now() {\n    return new Date();\n  }\n\n  const force = true;\n\n  if (typeof root._bokeh_onload_callbacks === \"undefined\" || force === true) {\n    root._bokeh_onload_callbacks = [];\n    root._bokeh_is_loading = undefined;\n  }\n\nconst JS_MIME_TYPE = 'application/javascript';\n  const HTML_MIME_TYPE = 'text/html';\n  const EXEC_MIME_TYPE = 'application/vnd.bokehjs_exec.v0+json';\n  const CLASS_NAME = 'output_bokeh rendered_html';\n\n  /**\n   * Render data to the DOM node\n   */\n  function render(props, node) {\n    const script = document.createElement(\"script\");\n    node.appendChild(script);\n  }\n\n  /**\n   * Handle when an output is cleared or removed\n   */\n  function handleClearOutput(event, handle) {\n    const cell = handle.cell;\n\n    const id = cell.output_area._bokeh_element_id;\n    const server_id = cell.output_area._bokeh_server_id;\n    // Clean up Bokeh references\n    if (id != null && id in Bokeh.index) {\n      Bokeh.index[id].model.document.clear();\n      delete Bokeh.index[id];\n    }\n\n    if (server_id !== undefined) {\n      // Clean up Bokeh references\n      const cmd_clean = \"from bokeh.io.state import curstate; print(curstate().uuid_to_server['\" + server_id + \"'].get_sessions()[0].document.roots[0]._id)\";\n      cell.notebook.kernel.execute(cmd_clean, {\n        iopub: {\n          output: function(msg) {\n            const id = msg.content.text.trim();\n            if (id in Bokeh.index) {\n              Bokeh.index[id].model.document.clear();\n              delete Bokeh.index[id];\n            }\n          }\n        }\n      });\n      // Destroy server and session\n      const cmd_destroy = \"import bokeh.io.notebook as ion; ion.destroy_server('\" + server_id + \"')\";\n      cell.notebook.kernel.execute(cmd_destroy);\n    }\n  }\n\n  /**\n   * Handle when a new output is added\n   */\n  function handleAddOutput(event, handle) {\n    const output_area = handle.output_area;\n    const output = handle.output;\n\n    // limit handleAddOutput to display_data with EXEC_MIME_TYPE content only\n    if ((output.output_type != \"display_data\") || (!Object.prototype.hasOwnProperty.call(output.data, EXEC_MIME_TYPE))) {\n      return\n    }\n\n    const toinsert = output_area.element.find(\".\" + CLASS_NAME.split(' ')[0]);\n\n    if (output.metadata[EXEC_MIME_TYPE][\"id\"] !== undefined) {\n      toinsert[toinsert.length - 1].firstChild.textContent = output.data[JS_MIME_TYPE];\n      // store reference to embed id on output_area\n      output_area._bokeh_element_id = output.metadata[EXEC_MIME_TYPE][\"id\"];\n    }\n    if (output.metadata[EXEC_MIME_TYPE][\"server_id\"] !== undefined) {\n      const bk_div = document.createElement(\"div\");\n      bk_div.innerHTML = output.data[HTML_MIME_TYPE];\n      const script_attrs = bk_div.children[0].attributes;\n      for (let i = 0; i < script_attrs.length; i++) {\n        toinsert[toinsert.length - 1].firstChild.setAttribute(script_attrs[i].name, script_attrs[i].value);\n        toinsert[toinsert.length - 1].firstChild.textContent = bk_div.children[0].textContent\n      }\n      // store reference to server id on output_area\n      output_area._bokeh_server_id = output.metadata[EXEC_MIME_TYPE][\"server_id\"];\n    }\n  }\n\n  function register_renderer(events, OutputArea) {\n\n    function append_mime(data, metadata, element) {\n      // create a DOM node to render to\n      const toinsert = this.create_output_subarea(\n        metadata,\n        CLASS_NAME,\n        EXEC_MIME_TYPE\n      );\n      this.keyboard_manager.register_events(toinsert);\n      // Render to node\n      const props = {data: data, metadata: metadata[EXEC_MIME_TYPE]};\n      render(props, toinsert[toinsert.length - 1]);\n      element.append(toinsert);\n      return toinsert\n    }\n\n    /* Handle when an output is cleared or removed */\n    events.on('clear_output.CodeCell', handleClearOutput);\n    events.on('delete.Cell', handleClearOutput);\n\n    /* Handle when a new output is added */\n    events.on('output_added.OutputArea', handleAddOutput);\n\n    /**\n     * Register the mime type and append_mime function with output_area\n     */\n    OutputArea.prototype.register_mime_type(EXEC_MIME_TYPE, append_mime, {\n      /* Is output safe? */\n      safe: true,\n      /* Index of renderer in `output_area.display_order` */\n      index: 0\n    });\n  }\n\n  // register the mime type if in Jupyter Notebook environment and previously unregistered\n  if (root.Jupyter !== undefined) {\n    const events = require('base/js/events');\n    const OutputArea = require('notebook/js/outputarea').OutputArea;\n\n    if (OutputArea.prototype.mime_types().indexOf(EXEC_MIME_TYPE) == -1) {\n      register_renderer(events, OutputArea);\n    }\n  }\n  if (typeof (root._bokeh_timeout) === \"undefined\" || force === true) {\n    root._bokeh_timeout = Date.now() + 5000;\n    root._bokeh_failed_load = false;\n  }\n\n  const NB_LOAD_WARNING = {'data': {'text/html':\n     \"<div style='background-color: #fdd'>\\n\"+\n     \"<p>\\n\"+\n     \"BokehJS does not appear to have successfully loaded. If loading BokehJS from CDN, this \\n\"+\n     \"may be due to a slow or bad network connection. Possible fixes:\\n\"+\n     \"</p>\\n\"+\n     \"<ul>\\n\"+\n     \"<li>re-rerun `output_notebook()` to attempt to load from CDN again, or</li>\\n\"+\n     \"<li>use INLINE resources instead, as so:</li>\\n\"+\n     \"</ul>\\n\"+\n     \"<code>\\n\"+\n     \"from bokeh.resources import INLINE\\n\"+\n     \"output_notebook(resources=INLINE)\\n\"+\n     \"</code>\\n\"+\n     \"</div>\"}};\n\n  function display_loaded() {\n    const el = document.getElementById(\"2202\");\n    if (el != null) {\n      el.textContent = \"BokehJS is loading...\";\n    }\n    if (root.Bokeh !== undefined) {\n      if (el != null) {\n        el.textContent = \"BokehJS \" + root.Bokeh.version + \" successfully loaded.\";\n      }\n    } else if (Date.now() < root._bokeh_timeout) {\n      setTimeout(display_loaded, 100)\n    }\n  }\n\n  function run_callbacks() {\n    try {\n      root._bokeh_onload_callbacks.forEach(function(callback) {\n        if (callback != null)\n          callback();\n      });\n    } finally {\n      delete root._bokeh_onload_callbacks\n    }\n    console.debug(\"Bokeh: all callbacks have finished\");\n  }\n\n  function load_libs(css_urls, js_urls, callback) {\n    if (css_urls == null) css_urls = [];\n    if (js_urls == null) js_urls = [];\n\n    root._bokeh_onload_callbacks.push(callback);\n    if (root._bokeh_is_loading > 0) {\n      console.debug(\"Bokeh: BokehJS is being loaded, scheduling callback at\", now());\n      return null;\n    }\n    if (js_urls == null || js_urls.length === 0) {\n      run_callbacks();\n      return null;\n    }\n    console.debug(\"Bokeh: BokehJS not loaded, scheduling load and callback at\", now());\n    root._bokeh_is_loading = css_urls.length + js_urls.length;\n\n    function on_load() {\n      root._bokeh_is_loading--;\n      if (root._bokeh_is_loading === 0) {\n        console.debug(\"Bokeh: all BokehJS libraries/stylesheets loaded\");\n        run_callbacks()\n      }\n    }\n\n    function on_error(url) {\n      console.error(\"failed to load \" + url);\n    }\n\n    for (let i = 0; i < css_urls.length; i++) {\n      const url = css_urls[i];\n      const element = document.createElement(\"link\");\n      element.onload = on_load;\n      element.onerror = on_error.bind(null, url);\n      element.rel = \"stylesheet\";\n      element.type = \"text/css\";\n      element.href = url;\n      console.debug(\"Bokeh: injecting link tag for BokehJS stylesheet: \", url);\n      document.body.appendChild(element);\n    }\n\n    for (let i = 0; i < js_urls.length; i++) {\n      const url = js_urls[i];\n      const element = document.createElement('script');\n      element.onload = on_load;\n      element.onerror = on_error.bind(null, url);\n      element.async = false;\n      element.src = url;\n      console.debug(\"Bokeh: injecting script tag for BokehJS library: \", url);\n      document.head.appendChild(element);\n    }\n  };\n\n  function inject_raw_css(css) {\n    const element = document.createElement(\"style\");\n    element.appendChild(document.createTextNode(css));\n    document.body.appendChild(element);\n  }\n\n  const js_urls = [\"https://cdn.bokeh.org/bokeh/release/bokeh-2.4.3.min.js\", \"https://cdn.bokeh.org/bokeh/release/bokeh-gl-2.4.3.min.js\", \"https://cdn.bokeh.org/bokeh/release/bokeh-widgets-2.4.3.min.js\", \"https://cdn.bokeh.org/bokeh/release/bokeh-tables-2.4.3.min.js\", \"https://cdn.bokeh.org/bokeh/release/bokeh-mathjax-2.4.3.min.js\"];\n  const css_urls = [];\n\n  const inline_js = [    function(Bokeh) {\n      Bokeh.set_log_level(\"info\");\n    },\nfunction(Bokeh) {\n    }\n  ];\n\n  function run_inline_js() {\n    if (root.Bokeh !== undefined || force === true) {\n          for (let i = 0; i < inline_js.length; i++) {\n      inline_js[i].call(root, root.Bokeh);\n    }\nif (force === true) {\n        display_loaded();\n      }} else if (Date.now() < root._bokeh_timeout) {\n      setTimeout(run_inline_js, 100);\n    } else if (!root._bokeh_failed_load) {\n      console.log(\"Bokeh: BokehJS failed to load within specified timeout.\");\n      root._bokeh_failed_load = true;\n    } else if (force !== true) {\n      const cell = $(document.getElementById(\"2202\")).parents('.cell').data().cell;\n      cell.output_area.append_execute_result(NB_LOAD_WARNING)\n    }\n  }\n\n  if (root._bokeh_is_loading === 0) {\n    console.debug(\"Bokeh: BokehJS loaded, going straight to plotting\");\n    run_inline_js();\n  } else {\n    load_libs(css_urls, js_urls, function() {\n      console.debug(\"Bokeh: BokehJS plotting callback run at\", now());\n      run_inline_js();\n    });\n  }\n}(window));",
      "application/vnd.bokehjs_load.v0+json": ""
     },
     "metadata": {},
     "output_type": "display_data"
    },
    {
     "data": {
      "text/html": [
       "\n",
       "  <div class=\"bk-root\" id=\"8a6ba159-7847-42f1-8048-8f03f19d4f47\" data-root-id=\"2203\"></div>\n"
      ]
     },
     "metadata": {},
     "output_type": "display_data"
    },
    {
     "data": {
      "application/javascript": "(function(root) {\n  function embed_document(root) {\n  const docs_json = {\"969b6ce6-4c71-4db0-886f-25f38b20f828\":{\"defs\":[],\"roots\":{\"references\":[{\"attributes\":{\"below\":[{\"id\":\"2214\"}],\"center\":[{\"id\":\"2217\"},{\"id\":\"2221\"},{\"id\":\"2264\"}],\"left\":[{\"id\":\"2218\"}],\"renderers\":[{\"id\":\"2240\"}],\"title\":{\"id\":\"2204\"},\"toolbar\":{\"id\":\"2229\"},\"width\":800,\"x_range\":{\"id\":\"2206\"},\"x_scale\":{\"id\":\"2210\"},\"y_range\":{\"id\":\"2208\"},\"y_scale\":{\"id\":\"2212\"}},\"id\":\"2203\",\"subtype\":\"Figure\",\"type\":\"Plot\"},{\"attributes\":{},\"id\":\"2248\",\"type\":\"AllLabels\"},{\"attributes\":{\"label\":{\"value\":\"Bitcoin\"},\"renderers\":[{\"id\":\"2240\"}]},\"id\":\"2265\",\"type\":\"LegendItem\"},{\"attributes\":{\"days\":[1,4,7,10,13,16,19,22,25,28]},\"id\":\"2256\",\"type\":\"DaysTicker\"},{\"attributes\":{\"days\":[1,15]},\"id\":\"2258\",\"type\":\"DaysTicker\"},{\"attributes\":{\"months\":[0,6]},\"id\":\"2262\",\"type\":\"MonthsTicker\"},{\"attributes\":{\"days\":[1,8,15,22]},\"id\":\"2257\",\"type\":\"DaysTicker\"},{\"attributes\":{\"coordinates\":null,\"group\":null,\"text\":\"Crypto Prices\"},\"id\":\"2204\",\"type\":\"Title\"},{\"attributes\":{},\"id\":\"2263\",\"type\":\"YearsTicker\"},{\"attributes\":{\"bottom_units\":\"screen\",\"coordinates\":null,\"fill_alpha\":0.5,\"fill_color\":\"lightgrey\",\"group\":null,\"left_units\":\"screen\",\"level\":\"overlay\",\"line_alpha\":1.0,\"line_color\":\"black\",\"line_dash\":[4,4],\"line_width\":2,\"right_units\":\"screen\",\"syncable\":false,\"top_units\":\"screen\"},\"id\":\"2228\",\"type\":\"BoxAnnotation\"},{\"attributes\":{},\"id\":\"2249\",\"type\":\"UnionRenderers\"},{\"attributes\":{\"months\":[0,4,8]},\"id\":\"2261\",\"type\":\"MonthsTicker\"},{\"attributes\":{},\"id\":\"2212\",\"type\":\"LinearScale\"},{\"attributes\":{},\"id\":\"2210\",\"type\":\"LinearScale\"},{\"attributes\":{},\"id\":\"2227\",\"type\":\"HelpTool\"},{\"attributes\":{},\"id\":\"2250\",\"type\":\"Selection\"},{\"attributes\":{\"tools\":[{\"id\":\"2222\"},{\"id\":\"2223\"},{\"id\":\"2224\"},{\"id\":\"2225\"},{\"id\":\"2226\"},{\"id\":\"2227\"}]},\"id\":\"2229\",\"type\":\"Toolbar\"},{\"attributes\":{},\"id\":\"2208\",\"type\":\"DataRange1d\"},{\"attributes\":{},\"id\":\"2206\",\"type\":\"DataRange1d\"},{\"attributes\":{\"axis\":{\"id\":\"2214\"},\"coordinates\":null,\"grid_line_alpha\":0.3,\"group\":null,\"ticker\":null},\"id\":\"2217\",\"type\":\"Grid\"},{\"attributes\":{},\"id\":\"2219\",\"type\":\"BasicTicker\"},{\"attributes\":{},\"id\":\"2245\",\"type\":\"AllLabels\"},{\"attributes\":{},\"id\":\"2223\",\"type\":\"WheelZoomTool\"},{\"attributes\":{\"months\":[0,2,4,6,8,10]},\"id\":\"2260\",\"type\":\"MonthsTicker\"},{\"attributes\":{\"axis_label\":\"Date\",\"coordinates\":null,\"formatter\":{\"id\":\"2247\"},\"group\":null,\"major_label_policy\":{\"id\":\"2248\"},\"ticker\":{\"id\":\"2215\"}},\"id\":\"2214\",\"type\":\"DatetimeAxis\"},{\"attributes\":{},\"id\":\"2222\",\"type\":\"PanTool\"},{\"attributes\":{\"data\":{\"x\":{\"__ndarray__\":\"AABAPxU1eEIAACiuGDV4QgAAEB0cNXhCAAD4ix81eEIAAOD6IjV4QgAAyGkmNXhCAACw2Ck1eEIAAJhHLTV4QgAAgLYwNXhCAABoJTQ1eEIAAFCUNzV4QgAAOAM7NXhCAAAgcj41eEIAAAjhQTV4QgAA8E9FNXhCAADYvkg1eEIAAMAtTDV4QgAAqJxPNXhCAACQC1M1eEIAAHh6VjV4QgAAYOlZNXhCAABIWF01eEIAADDHYDV4QgAAGDZkNXhCAAAApWc1eEIAAOgTazV4QgAA0IJuNXhCAAC48XE1eEIAAKBgdTV4QgAAiM94NXhCAABwPnw1eEIAAFitfzV4QgAAQByDNXhCAAAoi4Y1eEIAABD6iTV4QgAA+GiNNXhCAADg15A1eEIAAMhGlDV4QgAAsLWXNXhCAACYJJs1eEIAAICTnjV4QgAAaAKiNXhCAABQcaU1eEIAADjgqDV4QgAAIE+sNXhCAAAIvq81eEIAAPAsszV4QgAA2Ju2NXhCAADACro1eEIAAKh5vTV4QgAAkOjANXhCAAB4V8Q1eEIAAGDGxzV4QgAASDXLNXhCAAAwpM41eEIAABgT0jV4QgAAAILVNXhCAADo8Ng1eEIAANBf3DV4QgAAuM7fNXhCAACgPeM1eEIAAIis5jV4QgAAcBvqNXhCAABYiu01eEIAAED58DV4QgAAKGj0NXhCAAAQ1/c1eEIAAPhF+zV4QgAA4LT+NXhCAADIIwI2eEIAALCSBTZ4QgAAmAEJNnhCAACAcAw2eEIAAGjfDzZ4QgAAUE4TNnhCAAA4vRY2eEIAACAsGjZ4QgAACJsdNnhCAADwCSE2eEIAANh4JDZ4QgAAwOcnNnhCAACoVis2eEIAAJDFLjZ4QgAAeDQyNnhCAABgozU2eEIAAEgSOTZ4QgAAMIE8NnhCAAAY8D82eEIAAABfQzZ4QgAA6M1GNnhCAADQPEo2eEIAALirTTZ4QgAAoBpRNnhCAACIiVQ2eEIAAHD4VzZ4QgAAWGdbNnhCAABA1l42eEIAAChFYjZ4QgAAELRlNnhCAAD4Imk2eEIAAOCRbDZ4QgAAyABwNnhCAACwb3M2eEIAAJjedjZ4QgAAgE16NnhCAABovH02eEIAAFArgTZ4QgAAOJqENnhCAAAgCYg2eEIAAAh4izZ4QgAA8OaONnhCAADYVZI2eEIAAMDElTZ4QgAAqDOZNnhCAACQopw2eEIAAHgRoDZ4QgAAYICjNnhCAABI76Y2eEIAADBeqjZ4QgAAGM2tNnhCAAAAPLE2eEIAAOiqtDZ4QgAA0Bm4NnhCAAC4iLs2eEIAAKD3vjZ4QgAAiGbCNnhCAABw1cU2eEIAAFhEyTZ4QgAAQLPMNnhCAAAoItA2eEIAABCR0zZ4QgAA+P/WNnhCAADgbto2eEIAAMjd3TZ4QgAAsEzhNnhCAACYu+Q2eEIAAIAq6DZ4QgAAaJnrNnhCAABQCO82eEIAADh38jZ4QgAAIOb1NnhCAAAIVfk2eEIAAPDD/DZ4QgAA2DIAN3hCAADAoQM3eEIAAKgQBzd4QgAAkH8KN3hCAAB47g03eEIAAGBdETd4QgAASMwUN3hCAAAwOxg3eEIAABiqGzd4QgAAABkfN3hCAADohyI3eEIAAND2JTd4QgAAuGUpN3hCAACg1Cw3eEIAAIhDMDd4QgAAcLIzN3hCAABYITc3eEIAAECQOjd4QgAAKP89N3hCAAAQbkE3eEIAAPjcRDd4QgAA4EtIN3hCAADIuks3eEIAALApTzd4Qg==\",\"dtype\":\"float64\",\"order\":\"little\",\"shape\":[167]},\"y\":{\"__ndarray__\":\"H4XrUahZ00D2KFyPokjTQBSuR+EaLNNAMzMzM/Ms00DhehSud0PTQKRwPQqXQtNAFK5H4eoB00AfhetRuP3SQFK4HoUL9tJAzczMzIwA00CPwvUo7P3SQJqZmZlJU9JAUrgehTtW0kAfhetReF/SQArXo3DtBtJA7FG4HsUK0kDD9ShcLwnSQB+F61Eo/NFAKVyPwsUH0kCkcD0KV1bSQOF6FK43P9JAUrgehbtg0kCPwvUozKjSQOF6FK7X2dJAw/UoXB+i0kCkcD0K58HSQClcj8IlhdJA9ihcj+K10kAzMzMzsw7TQFK4HoW7D9NAw/UoXJ8P00AUrkfhyiTTQHsUrkdBFNNAXI/C9TgP00AUrkfhWgLTQLgehesBA9NAj8L1KAzp0kAAAAAA4ODSQOF6FK4369JAXI/C9fjs0kBSuB6Fe+fSQGZmZmYW2tJAw/UoXH/H0kDsUbgeddvSQMP1KFzfxNJAj8L1KDyt0kDhehSuV3rSQOxRuB5ln9JAZmZmZobJ0kDD9Shcf6fSQOxRuB61U9JASOF6FI6H0kDsUbgeVYzSQM3MzMwMh9JAMzMzM/Nu0kBmZmZmJoTSQAAAAADAbtJA4XoUrmd90kD2KFyPgnHSQNejcD16kdJAFK5H4UqT0kBmZmZm1o7SQGZmZmbGetJAAAAAADBv0kCuR+F69IDSQD0K16OgbdJA16NwPWqN0kCamZmZ6afSQFK4HoV7t9JAuB6F6/HL0kAzMzMz49HSQPYoXI9SzdJAFK5H4cq90kAK16NwzcjSQFK4HoX7ZtNAPQrXowAt00C4HoXrQY7SQD0K16OQe9JA4XoUrrcI0kBSuB6FOw7SQKRwPQpXB9JASOF6FE710UCPwvUoXBTSQHsUrkcBTtJAXI/C9ZhA0kAUrkfhWkTSQArXo3BNO9JAw/UoXO9T0kD2KFyPkn3SQD0K16PAwNJAcT0K1/O60kBxPQrXY7PSQHE9Ctdzx9JApHA9CufA0kAUrkfh6nXSQEjhehQOcNJAXI/C9biK0kCuR+F6hJjSQClcj8I1n9JAZmZmZla+0kCPwvUozNvSQIXrUbgezNJAzczMzMy50kBxPQrXY/HSQB+F61Fo8tJACtejcN3a0kAzMzMz0+bSQAAAAADA19JA4XoUrqfw0kDhehSuJ/XSQFyPwvVY59JApHA9Cpfg0kB7FK5H0cXSQClcj8JVn9JAuB6F6/Gi0kDXo3A9GoXSQEjhehSua9JAw/UoXC900kD2KFyPQjTSQM3MzMycPNJApHA9CvdF0kD2KFyPYlPSQAAAAACAVNJAexSuR8Ey0kCuR+F65F3SQBSuR+EKadJAUrgehZuQ0kBSuB6FS+HSQNejcD161tJA4XoUroey0kCF61G4jqvSQNejcD26rdJAFK5H4Xqs0kDsUbgeFbfSQPYoXI8CsNJAj8L1KIyh0kBcj8L1SI3SQLgehethotJAPQrXo2CU0kCkcD0Kh5fSQB+F61HomtJA9ihcj5K00kAAAAAA8KvSQKRwPQpXo9JAXI/C9Qit0kCkcD0Kd6XSQJqZmZlpo9JApHA9Cgeu0kAzMzMz06fSQOxRuB5FsdJAuB6F67GB0kApXI/ClXHSQAAAAAAgetJAH4XrUciE0kCPwvUoHIjSQFyPwvU4gdJAFK5H4Wqb0kDXo3A9OpDSQAAAAAAwjNJAcT0K1xOU0kApXI/ChabSQOxRuB7VotJAH4XrUXiY0kBI4XoUXp/SQI/C9Sh8q9JAH4XrUfij0kCPwvUorHrSQA==\",\"dtype\":\"float64\",\"order\":\"little\",\"shape\":[167]}},\"selected\":{\"id\":\"2250\"},\"selection_policy\":{\"id\":\"2249\"}},\"id\":\"2236\",\"type\":\"ColumnDataSource\"},{\"attributes\":{\"axis_label\":\"Price\",\"coordinates\":null,\"formatter\":{\"id\":\"2244\"},\"group\":null,\"major_label_policy\":{\"id\":\"2245\"},\"ticker\":{\"id\":\"2219\"}},\"id\":\"2218\",\"type\":\"LinearAxis\"},{\"attributes\":{},\"id\":\"2244\",\"type\":\"BasicTickFormatter\"},{\"attributes\":{\"coordinates\":null,\"data_source\":{\"id\":\"2236\"},\"glyph\":{\"id\":\"2237\"},\"group\":null,\"hover_glyph\":null,\"muted_glyph\":{\"id\":\"2239\"},\"nonselection_glyph\":{\"id\":\"2238\"},\"view\":{\"id\":\"2241\"}},\"id\":\"2240\",\"type\":\"GlyphRenderer\"},{\"attributes\":{},\"id\":\"2225\",\"type\":\"SaveTool\"},{\"attributes\":{\"line_color\":\"#f2a900\",\"x\":{\"field\":\"x\"},\"y\":{\"field\":\"y\"}},\"id\":\"2237\",\"type\":\"Line\"},{\"attributes\":{\"num_minor_ticks\":5,\"tickers\":[{\"id\":\"2252\"},{\"id\":\"2253\"},{\"id\":\"2254\"},{\"id\":\"2255\"},{\"id\":\"2256\"},{\"id\":\"2257\"},{\"id\":\"2258\"},{\"id\":\"2259\"},{\"id\":\"2260\"},{\"id\":\"2261\"},{\"id\":\"2262\"},{\"id\":\"2263\"}]},\"id\":\"2215\",\"type\":\"DatetimeTicker\"},{\"attributes\":{},\"id\":\"2247\",\"type\":\"DatetimeTickFormatter\"},{\"attributes\":{\"mantissas\":[1,2,5],\"max_interval\":500.0,\"num_minor_ticks\":0},\"id\":\"2252\",\"type\":\"AdaptiveTicker\"},{\"attributes\":{\"axis\":{\"id\":\"2218\"},\"coordinates\":null,\"dimension\":1,\"grid_line_alpha\":0.3,\"group\":null,\"ticker\":null},\"id\":\"2221\",\"type\":\"Grid\"},{\"attributes\":{\"base\":60,\"mantissas\":[1,2,5,10,15,20,30],\"max_interval\":1800000.0,\"min_interval\":1000.0,\"num_minor_ticks\":0},\"id\":\"2253\",\"type\":\"AdaptiveTicker\"},{\"attributes\":{\"coordinates\":null,\"group\":null,\"items\":[{\"id\":\"2265\"}],\"location\":\"top_left\"},\"id\":\"2264\",\"type\":\"Legend\"},{\"attributes\":{\"days\":[1,2,3,4,5,6,7,8,9,10,11,12,13,14,15,16,17,18,19,20,21,22,23,24,25,26,27,28,29,30,31]},\"id\":\"2255\",\"type\":\"DaysTicker\"},{\"attributes\":{\"line_alpha\":0.1,\"line_color\":\"#f2a900\",\"x\":{\"field\":\"x\"},\"y\":{\"field\":\"y\"}},\"id\":\"2238\",\"type\":\"Line\"},{\"attributes\":{\"base\":24,\"mantissas\":[1,2,4,6,8,12],\"max_interval\":43200000.0,\"min_interval\":3600000.0,\"num_minor_ticks\":0},\"id\":\"2254\",\"type\":\"AdaptiveTicker\"},{\"attributes\":{\"source\":{\"id\":\"2236\"}},\"id\":\"2241\",\"type\":\"CDSView\"},{\"attributes\":{\"overlay\":{\"id\":\"2228\"}},\"id\":\"2224\",\"type\":\"BoxZoomTool\"},{\"attributes\":{\"months\":[0,1,2,3,4,5,6,7,8,9,10,11]},\"id\":\"2259\",\"type\":\"MonthsTicker\"},{\"attributes\":{},\"id\":\"2226\",\"type\":\"ResetTool\"},{\"attributes\":{\"line_alpha\":0.2,\"line_color\":\"#f2a900\",\"x\":{\"field\":\"x\"},\"y\":{\"field\":\"y\"}},\"id\":\"2239\",\"type\":\"Line\"}],\"root_ids\":[\"2203\"]},\"title\":\"Bokeh Application\",\"version\":\"2.4.3\"}};\n  const render_items = [{\"docid\":\"969b6ce6-4c71-4db0-886f-25f38b20f828\",\"root_ids\":[\"2203\"],\"roots\":{\"2203\":\"8a6ba159-7847-42f1-8048-8f03f19d4f47\"}}];\n  root.Bokeh.embed.embed_items_notebook(docs_json, render_items);\n  }\n  if (root.Bokeh !== undefined) {\n    embed_document(root);\n  } else {\n    let attempts = 0;\n    const timer = setInterval(function(root) {\n      if (root.Bokeh !== undefined) {\n        clearInterval(timer);\n        embed_document(root);\n      } else {\n        attempts++;\n        if (attempts > 100) {\n          clearInterval(timer);\n          console.log(\"Bokeh: ERROR: Unable to run BokehJS code because BokehJS library is missing\");\n        }\n      }\n    }, 10, root)\n  }\n})(window);",
      "application/vnd.bokehjs_exec.v0+json": ""
     },
     "metadata": {
      "application/vnd.bokehjs_exec.v0+json": {
       "id": "2203"
      }
     },
     "output_type": "display_data"
    }
   ],
   "source": [
    "output_notebook()\n",
    "p = figure(x_axis_type=\"datetime\", title=\"Crypto Prices\", width=800)\n",
    "p.grid.grid_line_alpha=0.3\n",
    "p.xaxis.axis_label = 'Date'\n",
    "p.yaxis.axis_label = 'Price'\n",
    "\n",
    "p.line(btc_ohlc_1h.index, btc_ohlc_1h['ClosePrice'], color='#f2a900', legend_label='Bitcoin')\n",
    "p.legend.location = \"top_left\"\n",
    "\n",
    "show(p)"
   ]
  },
  {
   "cell_type": "markdown",
   "metadata": {},
   "source": [
    "### Ethereum"
   ]
  },
  {
   "cell_type": "code",
   "execution_count": 35,
   "metadata": {},
   "outputs": [
    {
     "data": {
      "text/html": [
       "<div class=\"bk-root\">\n",
       "        <a href=\"https://bokeh.org\" target=\"_blank\" class=\"bk-logo bk-logo-small bk-logo-notebook\"></a>\n",
       "        <span id=\"2508\">Loading BokehJS ...</span>\n",
       "    </div>\n"
      ]
     },
     "metadata": {},
     "output_type": "display_data"
    },
    {
     "data": {
      "application/javascript": "(function(root) {\n  function now() {\n    return new Date();\n  }\n\n  const force = true;\n\n  if (typeof root._bokeh_onload_callbacks === \"undefined\" || force === true) {\n    root._bokeh_onload_callbacks = [];\n    root._bokeh_is_loading = undefined;\n  }\n\nconst JS_MIME_TYPE = 'application/javascript';\n  const HTML_MIME_TYPE = 'text/html';\n  const EXEC_MIME_TYPE = 'application/vnd.bokehjs_exec.v0+json';\n  const CLASS_NAME = 'output_bokeh rendered_html';\n\n  /**\n   * Render data to the DOM node\n   */\n  function render(props, node) {\n    const script = document.createElement(\"script\");\n    node.appendChild(script);\n  }\n\n  /**\n   * Handle when an output is cleared or removed\n   */\n  function handleClearOutput(event, handle) {\n    const cell = handle.cell;\n\n    const id = cell.output_area._bokeh_element_id;\n    const server_id = cell.output_area._bokeh_server_id;\n    // Clean up Bokeh references\n    if (id != null && id in Bokeh.index) {\n      Bokeh.index[id].model.document.clear();\n      delete Bokeh.index[id];\n    }\n\n    if (server_id !== undefined) {\n      // Clean up Bokeh references\n      const cmd_clean = \"from bokeh.io.state import curstate; print(curstate().uuid_to_server['\" + server_id + \"'].get_sessions()[0].document.roots[0]._id)\";\n      cell.notebook.kernel.execute(cmd_clean, {\n        iopub: {\n          output: function(msg) {\n            const id = msg.content.text.trim();\n            if (id in Bokeh.index) {\n              Bokeh.index[id].model.document.clear();\n              delete Bokeh.index[id];\n            }\n          }\n        }\n      });\n      // Destroy server and session\n      const cmd_destroy = \"import bokeh.io.notebook as ion; ion.destroy_server('\" + server_id + \"')\";\n      cell.notebook.kernel.execute(cmd_destroy);\n    }\n  }\n\n  /**\n   * Handle when a new output is added\n   */\n  function handleAddOutput(event, handle) {\n    const output_area = handle.output_area;\n    const output = handle.output;\n\n    // limit handleAddOutput to display_data with EXEC_MIME_TYPE content only\n    if ((output.output_type != \"display_data\") || (!Object.prototype.hasOwnProperty.call(output.data, EXEC_MIME_TYPE))) {\n      return\n    }\n\n    const toinsert = output_area.element.find(\".\" + CLASS_NAME.split(' ')[0]);\n\n    if (output.metadata[EXEC_MIME_TYPE][\"id\"] !== undefined) {\n      toinsert[toinsert.length - 1].firstChild.textContent = output.data[JS_MIME_TYPE];\n      // store reference to embed id on output_area\n      output_area._bokeh_element_id = output.metadata[EXEC_MIME_TYPE][\"id\"];\n    }\n    if (output.metadata[EXEC_MIME_TYPE][\"server_id\"] !== undefined) {\n      const bk_div = document.createElement(\"div\");\n      bk_div.innerHTML = output.data[HTML_MIME_TYPE];\n      const script_attrs = bk_div.children[0].attributes;\n      for (let i = 0; i < script_attrs.length; i++) {\n        toinsert[toinsert.length - 1].firstChild.setAttribute(script_attrs[i].name, script_attrs[i].value);\n        toinsert[toinsert.length - 1].firstChild.textContent = bk_div.children[0].textContent\n      }\n      // store reference to server id on output_area\n      output_area._bokeh_server_id = output.metadata[EXEC_MIME_TYPE][\"server_id\"];\n    }\n  }\n\n  function register_renderer(events, OutputArea) {\n\n    function append_mime(data, metadata, element) {\n      // create a DOM node to render to\n      const toinsert = this.create_output_subarea(\n        metadata,\n        CLASS_NAME,\n        EXEC_MIME_TYPE\n      );\n      this.keyboard_manager.register_events(toinsert);\n      // Render to node\n      const props = {data: data, metadata: metadata[EXEC_MIME_TYPE]};\n      render(props, toinsert[toinsert.length - 1]);\n      element.append(toinsert);\n      return toinsert\n    }\n\n    /* Handle when an output is cleared or removed */\n    events.on('clear_output.CodeCell', handleClearOutput);\n    events.on('delete.Cell', handleClearOutput);\n\n    /* Handle when a new output is added */\n    events.on('output_added.OutputArea', handleAddOutput);\n\n    /**\n     * Register the mime type and append_mime function with output_area\n     */\n    OutputArea.prototype.register_mime_type(EXEC_MIME_TYPE, append_mime, {\n      /* Is output safe? */\n      safe: true,\n      /* Index of renderer in `output_area.display_order` */\n      index: 0\n    });\n  }\n\n  // register the mime type if in Jupyter Notebook environment and previously unregistered\n  if (root.Jupyter !== undefined) {\n    const events = require('base/js/events');\n    const OutputArea = require('notebook/js/outputarea').OutputArea;\n\n    if (OutputArea.prototype.mime_types().indexOf(EXEC_MIME_TYPE) == -1) {\n      register_renderer(events, OutputArea);\n    }\n  }\n  if (typeof (root._bokeh_timeout) === \"undefined\" || force === true) {\n    root._bokeh_timeout = Date.now() + 5000;\n    root._bokeh_failed_load = false;\n  }\n\n  const NB_LOAD_WARNING = {'data': {'text/html':\n     \"<div style='background-color: #fdd'>\\n\"+\n     \"<p>\\n\"+\n     \"BokehJS does not appear to have successfully loaded. If loading BokehJS from CDN, this \\n\"+\n     \"may be due to a slow or bad network connection. Possible fixes:\\n\"+\n     \"</p>\\n\"+\n     \"<ul>\\n\"+\n     \"<li>re-rerun `output_notebook()` to attempt to load from CDN again, or</li>\\n\"+\n     \"<li>use INLINE resources instead, as so:</li>\\n\"+\n     \"</ul>\\n\"+\n     \"<code>\\n\"+\n     \"from bokeh.resources import INLINE\\n\"+\n     \"output_notebook(resources=INLINE)\\n\"+\n     \"</code>\\n\"+\n     \"</div>\"}};\n\n  function display_loaded() {\n    const el = document.getElementById(\"2508\");\n    if (el != null) {\n      el.textContent = \"BokehJS is loading...\";\n    }\n    if (root.Bokeh !== undefined) {\n      if (el != null) {\n        el.textContent = \"BokehJS \" + root.Bokeh.version + \" successfully loaded.\";\n      }\n    } else if (Date.now() < root._bokeh_timeout) {\n      setTimeout(display_loaded, 100)\n    }\n  }\n\n  function run_callbacks() {\n    try {\n      root._bokeh_onload_callbacks.forEach(function(callback) {\n        if (callback != null)\n          callback();\n      });\n    } finally {\n      delete root._bokeh_onload_callbacks\n    }\n    console.debug(\"Bokeh: all callbacks have finished\");\n  }\n\n  function load_libs(css_urls, js_urls, callback) {\n    if (css_urls == null) css_urls = [];\n    if (js_urls == null) js_urls = [];\n\n    root._bokeh_onload_callbacks.push(callback);\n    if (root._bokeh_is_loading > 0) {\n      console.debug(\"Bokeh: BokehJS is being loaded, scheduling callback at\", now());\n      return null;\n    }\n    if (js_urls == null || js_urls.length === 0) {\n      run_callbacks();\n      return null;\n    }\n    console.debug(\"Bokeh: BokehJS not loaded, scheduling load and callback at\", now());\n    root._bokeh_is_loading = css_urls.length + js_urls.length;\n\n    function on_load() {\n      root._bokeh_is_loading--;\n      if (root._bokeh_is_loading === 0) {\n        console.debug(\"Bokeh: all BokehJS libraries/stylesheets loaded\");\n        run_callbacks()\n      }\n    }\n\n    function on_error(url) {\n      console.error(\"failed to load \" + url);\n    }\n\n    for (let i = 0; i < css_urls.length; i++) {\n      const url = css_urls[i];\n      const element = document.createElement(\"link\");\n      element.onload = on_load;\n      element.onerror = on_error.bind(null, url);\n      element.rel = \"stylesheet\";\n      element.type = \"text/css\";\n      element.href = url;\n      console.debug(\"Bokeh: injecting link tag for BokehJS stylesheet: \", url);\n      document.body.appendChild(element);\n    }\n\n    for (let i = 0; i < js_urls.length; i++) {\n      const url = js_urls[i];\n      const element = document.createElement('script');\n      element.onload = on_load;\n      element.onerror = on_error.bind(null, url);\n      element.async = false;\n      element.src = url;\n      console.debug(\"Bokeh: injecting script tag for BokehJS library: \", url);\n      document.head.appendChild(element);\n    }\n  };\n\n  function inject_raw_css(css) {\n    const element = document.createElement(\"style\");\n    element.appendChild(document.createTextNode(css));\n    document.body.appendChild(element);\n  }\n\n  const js_urls = [\"https://cdn.bokeh.org/bokeh/release/bokeh-2.4.3.min.js\", \"https://cdn.bokeh.org/bokeh/release/bokeh-gl-2.4.3.min.js\", \"https://cdn.bokeh.org/bokeh/release/bokeh-widgets-2.4.3.min.js\", \"https://cdn.bokeh.org/bokeh/release/bokeh-tables-2.4.3.min.js\", \"https://cdn.bokeh.org/bokeh/release/bokeh-mathjax-2.4.3.min.js\"];\n  const css_urls = [];\n\n  const inline_js = [    function(Bokeh) {\n      Bokeh.set_log_level(\"info\");\n    },\nfunction(Bokeh) {\n    }\n  ];\n\n  function run_inline_js() {\n    if (root.Bokeh !== undefined || force === true) {\n          for (let i = 0; i < inline_js.length; i++) {\n      inline_js[i].call(root, root.Bokeh);\n    }\nif (force === true) {\n        display_loaded();\n      }} else if (Date.now() < root._bokeh_timeout) {\n      setTimeout(run_inline_js, 100);\n    } else if (!root._bokeh_failed_load) {\n      console.log(\"Bokeh: BokehJS failed to load within specified timeout.\");\n      root._bokeh_failed_load = true;\n    } else if (force !== true) {\n      const cell = $(document.getElementById(\"2508\")).parents('.cell').data().cell;\n      cell.output_area.append_execute_result(NB_LOAD_WARNING)\n    }\n  }\n\n  if (root._bokeh_is_loading === 0) {\n    console.debug(\"Bokeh: BokehJS loaded, going straight to plotting\");\n    run_inline_js();\n  } else {\n    load_libs(css_urls, js_urls, function() {\n      console.debug(\"Bokeh: BokehJS plotting callback run at\", now());\n      run_inline_js();\n    });\n  }\n}(window));",
      "application/vnd.bokehjs_load.v0+json": ""
     },
     "metadata": {},
     "output_type": "display_data"
    },
    {
     "data": {
      "text/html": [
       "\n",
       "  <div class=\"bk-root\" id=\"37e24639-73ee-40d7-9f13-32d42db0493d\" data-root-id=\"2509\"></div>\n"
      ]
     },
     "metadata": {},
     "output_type": "display_data"
    },
    {
     "data": {
      "application/javascript": "(function(root) {\n  function embed_document(root) {\n  const docs_json = {\"2e36f1d0-bac9-41c0-b62b-438b3d6cd56e\":{\"defs\":[],\"roots\":{\"references\":[{\"attributes\":{\"below\":[{\"id\":\"2520\"}],\"center\":[{\"id\":\"2523\"},{\"id\":\"2527\"},{\"id\":\"2570\"}],\"left\":[{\"id\":\"2524\"}],\"renderers\":[{\"id\":\"2546\"}],\"title\":{\"id\":\"2510\"},\"toolbar\":{\"id\":\"2535\"},\"width\":800,\"x_range\":{\"id\":\"2512\"},\"x_scale\":{\"id\":\"2516\"},\"y_range\":{\"id\":\"2514\"},\"y_scale\":{\"id\":\"2518\"}},\"id\":\"2509\",\"subtype\":\"Figure\",\"type\":\"Plot\"},{\"attributes\":{\"coordinates\":null,\"group\":null,\"text\":\"Crypto Prices\"},\"id\":\"2510\",\"type\":\"Title\"},{\"attributes\":{\"coordinates\":null,\"data_source\":{\"id\":\"2542\"},\"glyph\":{\"id\":\"2543\"},\"group\":null,\"hover_glyph\":null,\"muted_glyph\":{\"id\":\"2545\"},\"nonselection_glyph\":{\"id\":\"2544\"},\"view\":{\"id\":\"2547\"}},\"id\":\"2546\",\"type\":\"GlyphRenderer\"},{\"attributes\":{},\"id\":\"2553\",\"type\":\"DatetimeTickFormatter\"},{\"attributes\":{\"months\":[0,1,2,3,4,5,6,7,8,9,10,11]},\"id\":\"2565\",\"type\":\"MonthsTicker\"},{\"attributes\":{\"data\":{\"x\":{\"__ndarray__\":\"AADg+iI1eEIAAMhpJjV4QgAAaCU0NXhCAABQlDc1eEIAADgDOzV4QgAAIHI+NXhCAAAI4UE1eEIAAPBPRTV4QgAA2L5INXhCAADALUw1eEIAAKicTzV4QgAAkAtTNXhCAAB4elY1eEIAAGDpWTV4QgAASFhdNXhCAAAwx2A1eEIAAAClZzV4QgAA6BNrNXhCAADQgm41eEIAALjxcTV4QgAAoGB1NXhCAACIz3g1eEIAAHA+fDV4QgAAWK1/NXhCAABAHIM1eEIAACiLhjV4QgAAEPqJNXhCAAD4aI01eEIAAODXkDV4QgAAyEaUNXhCAACwtZc1eEIAAJgkmzV4QgAAgJOeNXhCAABoAqI1eEIAAFBxpTV4QgAAOOCoNXhCAAAgT6w1eEIAAAi+rzV4QgAA8CyzNXhCAADYm7Y1eEIAAMAKujV4QgAAqHm9NXhCAACQ6MA1eEIAAHhXxDV4QgAAYMbHNXhCAABINcs1eEIAADCkzjV4QgAAGBPSNXhCAAAAgtU1eEIAAOjw2DV4QgAA0F/cNXhCAAC4zt81eEIAAKA94zV4QgAAiKzmNXhCAABwG+o1eEIAAFiK7TV4QgAAQPnwNXhCAAAoaPQ1eEIAABDX9zV4QgAA+EX7NXhCAADgtP41eEIAAMgjAjZ4QgAAsJIFNnhCAACYAQk2eEIAAIBwDDZ4QgAAaN8PNnhCAABQThM2eEIAADi9FjZ4QgAAICwaNnhCAAAImx02eEIAAPAJITZ4QgAA2HgkNnhCAADA5yc2eEIAAKhWKzZ4QgAAkMUuNnhCAAB4NDI2eEIAAGCjNTZ4QgAASBI5NnhCAAAwgTw2eEIAABjwPzZ4QgAAAF9DNnhCAADozUY2eEIAANA8SjZ4QgAAuKtNNnhCAACgGlE2eEIAAIiJVDZ4QgAAcPhXNnhCAABYZ1s2eEIAAEDWXjZ4QgAAKEViNnhCAAAQtGU2eEIAAPgiaTZ4QgAA4JFsNnhCAADIAHA2eEIAALBvczZ4QgAAmN52NnhCAACATXo2eEIAAGi8fTZ4QgAAUCuBNnhCAAA4moQ2eEIAACAJiDZ4QgAACHiLNnhCAADw5o42eEIAANhVkjZ4QgAAwMSVNnhCAACoM5k2eEIAAJCinDZ4QgAAeBGgNnhCAABggKM2eEIAAEjvpjZ4QgAAMF6qNnhCAAAYza02eEIAAAA8sTZ4QgAA6Kq0NnhCAADQGbg2eEIAALiIuzZ4QgAAoPe+NnhCAACIZsI2eEIAAHDVxTZ4QgAAWETJNnhCAABAs8w2eEIAACgi0DZ4QgAAEJHTNnhCAAD4/9Y2eEIAAOBu2jZ4QgAAyN3dNnhCAACwTOE2eEIAAJi75DZ4QgAAgCroNnhCAABomes2eEIAAFAI7zZ4QgAAOHfyNnhCAAAg5vU2eEIAAAhV+TZ4QgAA8MP8NnhCAADYMgA3eEIAAMChAzd4QgAAqBAHN3hCAACQfwo3eEIAAHjuDTd4QgAAYF0RN3hCAABIzBQ3eEIAADA7GDd4QgAAGKobN3hCAAAAGR83eEIAAOiHIjd4QgAA0PYlN3hCAAC4ZSk3eEIAAKDULDd4QgAAiEMwN3hCAABwsjM3eEIAAFghNzd4QgAAQJA6N3hCAAAo/z03eEIAABBuQTd4QgAA+NxEN3hCAADgS0g3eEIAAMi6Szd4QgAAsClPN3hC\",\"dtype\":\"float64\",\"order\":\"little\",\"shape\":[159]},\"y\":{\"__ndarray__\":\"exSuR+GXlUBI4XoUrnuVQPYoXI/C/5RAhetRuB7ylEBSuB6F61aUQDMzMzMzOpRA4XoUrkdnlEAK16NwPWGUQM3MzMzMMpRApHA9CtdYlEAfhetRuDaUQBSuR+F6Q5RAPQrXo3BPlEBxPQrXo2+UQOF6FK5HmpRA16NwPQqGlEBmZmZmZv2UQNejcD0KIpVAH4XrUbjFlEBmZmZmZv6UQNejcD0KPpVAuB6F61E0lUA9CtejcIeVQD0K16Nwm5VACtejcD1/lUCF61G4HmWVQArXo3A9V5VAKVyPwvVXlUAAAAAAACyVQMP1KFyPM5VAw/UoXI81lUAzMzMzMz+VQFyPwvUoOpVA16NwPQo2lUDhehSuRyKVQNejcD0KQZVA16NwPQoxlUC4HoXrUReVQI/C9Shc/5RASOF6FK4+lUAfhetRuISVQOF6FK5HXZVAH4XrUbjdlEDNzMzMzASVQGZmZmZmIJVAH4XrUbj8lECkcD0K15eUQBSuR+F6zJRAH4XrUbirlECF61G4HtmUQEjhehSuxZRA4XoUrkfwlECkcD0K1+SUQArXo3A96ZRAexSuR+HNlEDD9Shcj7uUQHsUrkfhz5RAuB6F61HDlECkcD0K1+uUQGZmZmZmCJVASOF6FK4blUDD9ShcjzCVQPYoXI/CEJVAFK5H4Xr6lEAzMzMzM/yUQLgehetR9JRAAAAAAADWlUA9CtejcH6VQHsUrkfhrZRArkfhehSMlEA9CtejcJSTQMP1KFyPb5NAhetRuB53k0DsUbgehWuTQB+F61G4o5NAcT0K16PGk0BxPQrXo7uTQFyPwvUowJNA7FG4HoWqk0CPwvUoXMuTQI/C9Shc+pNArkfhehQmlEDsUbgehTCUQHsUrkfhPpRAAAAAAABylEA9CtejcGyUQIXrUbge35NA4XoUrkfJk0AAAAAAAN2TQBSuR+F6BpRAMzMzMzMplEBcj8L1KFuUQBSuR+F6r5RAw/UoXI+xlEDNzMzMzG6UQFyPwvUorpRApHA9Cte5lECkcD0K16SUQPYoXI/C0ZRACtejcD2xlECuR+F6FPOUQD0K16NwF5VAH4XrUbj5lEBcj8L1KPmUQOF6FK5Hz5RAAAAAAACWlEBSuB6F64OUQDMzMzMzO5RAKVyPwvUelEAfhetRuEiUQBSuR+F625NAH4XrUbgOlED2KFyPwjeUQM3MzMzMPZRAXI/C9Sg/lEA9CtejcAqUQNejcD0KMZRAPQrXo3BSlEDNzMzMzLeUQIXrUbgex5RAAAAAAAC9lECF61G4HpiUQKRwPQrXmpRAMzMzMzOylECamZmZmaaUQBSuR+F6wJRA4XoUrkfSlEAAAAAAALKUQHE9CtejqZRAKVyPwvXElECPwvUoXLqUQClcj8L1t5RAKVyPwvW7lEApXI/C9c+UQKRwPQrX+pRA7FG4HoX5lECF61G4Hu+UQOF6FK5H55RAFK5H4XrhlED2KFyPwv6UQArXo3A9+ZRAAAAAAAD4lECkcD0K16uUQClcj8L1iZRA7FG4HoWUlEDhehSuR6aUQLgehetRppRAcT0K16OklEDsUbgehcWUQMP1KFyPvpRAH4XrUbiqlEAK16NwPbmUQI/C9Shc05RAMzMzMzPKlEA9CtejcKyUQArXo3A9tZRAuB6F61HFlEDhehSuR66UQOxRuB6FbpRA\",\"dtype\":\"float64\",\"order\":\"little\",\"shape\":[159]}},\"selected\":{\"id\":\"2556\"},\"selection_policy\":{\"id\":\"2555\"}},\"id\":\"2542\",\"type\":\"ColumnDataSource\"},{\"attributes\":{\"axis_label\":\"Date\",\"coordinates\":null,\"formatter\":{\"id\":\"2553\"},\"group\":null,\"major_label_policy\":{\"id\":\"2554\"},\"ticker\":{\"id\":\"2521\"}},\"id\":\"2520\",\"type\":\"DatetimeAxis\"},{\"attributes\":{\"line_color\":\"#f2a900\",\"x\":{\"field\":\"x\"},\"y\":{\"field\":\"y\"}},\"id\":\"2543\",\"type\":\"Line\"},{\"attributes\":{},\"id\":\"2518\",\"type\":\"LinearScale\"},{\"attributes\":{\"mantissas\":[1,2,5],\"max_interval\":500.0,\"num_minor_ticks\":0},\"id\":\"2558\",\"type\":\"AdaptiveTicker\"},{\"attributes\":{},\"id\":\"2554\",\"type\":\"AllLabels\"},{\"attributes\":{\"coordinates\":null,\"group\":null,\"items\":[{\"id\":\"2571\"}],\"location\":\"top_left\"},\"id\":\"2570\",\"type\":\"Legend\"},{\"attributes\":{\"axis\":{\"id\":\"2524\"},\"coordinates\":null,\"dimension\":1,\"grid_line_alpha\":0.3,\"group\":null,\"ticker\":null},\"id\":\"2527\",\"type\":\"Grid\"},{\"attributes\":{\"base\":60,\"mantissas\":[1,2,5,10,15,20,30],\"max_interval\":1800000.0,\"min_interval\":1000.0,\"num_minor_ticks\":0},\"id\":\"2559\",\"type\":\"AdaptiveTicker\"},{\"attributes\":{\"line_alpha\":0.1,\"line_color\":\"#f2a900\",\"x\":{\"field\":\"x\"},\"y\":{\"field\":\"y\"}},\"id\":\"2544\",\"type\":\"Line\"},{\"attributes\":{},\"id\":\"2528\",\"type\":\"PanTool\"},{\"attributes\":{\"source\":{\"id\":\"2542\"}},\"id\":\"2547\",\"type\":\"CDSView\"},{\"attributes\":{\"months\":[0,2,4,6,8,10]},\"id\":\"2566\",\"type\":\"MonthsTicker\"},{\"attributes\":{\"months\":[0,4,8]},\"id\":\"2567\",\"type\":\"MonthsTicker\"},{\"attributes\":{\"line_alpha\":0.2,\"line_color\":\"#f2a900\",\"x\":{\"field\":\"x\"},\"y\":{\"field\":\"y\"}},\"id\":\"2545\",\"type\":\"Line\"},{\"attributes\":{\"num_minor_ticks\":5,\"tickers\":[{\"id\":\"2558\"},{\"id\":\"2559\"},{\"id\":\"2560\"},{\"id\":\"2561\"},{\"id\":\"2562\"},{\"id\":\"2563\"},{\"id\":\"2564\"},{\"id\":\"2565\"},{\"id\":\"2566\"},{\"id\":\"2567\"},{\"id\":\"2568\"},{\"id\":\"2569\"}]},\"id\":\"2521\",\"type\":\"DatetimeTicker\"},{\"attributes\":{},\"id\":\"2569\",\"type\":\"YearsTicker\"},{\"attributes\":{},\"id\":\"2529\",\"type\":\"WheelZoomTool\"},{\"attributes\":{\"label\":{\"value\":\"Ethereum\"},\"renderers\":[{\"id\":\"2546\"}]},\"id\":\"2571\",\"type\":\"LegendItem\"},{\"attributes\":{},\"id\":\"2551\",\"type\":\"AllLabels\"},{\"attributes\":{\"months\":[0,6]},\"id\":\"2568\",\"type\":\"MonthsTicker\"},{\"attributes\":{\"tools\":[{\"id\":\"2528\"},{\"id\":\"2529\"},{\"id\":\"2530\"},{\"id\":\"2531\"},{\"id\":\"2532\"},{\"id\":\"2533\"}]},\"id\":\"2535\",\"type\":\"Toolbar\"},{\"attributes\":{\"axis_label\":\"Price\",\"coordinates\":null,\"formatter\":{\"id\":\"2550\"},\"group\":null,\"major_label_policy\":{\"id\":\"2551\"},\"ticker\":{\"id\":\"2525\"}},\"id\":\"2524\",\"type\":\"LinearAxis\"},{\"attributes\":{},\"id\":\"2555\",\"type\":\"UnionRenderers\"},{\"attributes\":{},\"id\":\"2532\",\"type\":\"ResetTool\"},{\"attributes\":{\"overlay\":{\"id\":\"2534\"}},\"id\":\"2530\",\"type\":\"BoxZoomTool\"},{\"attributes\":{},\"id\":\"2556\",\"type\":\"Selection\"},{\"attributes\":{},\"id\":\"2531\",\"type\":\"SaveTool\"},{\"attributes\":{\"days\":[1,8,15,22]},\"id\":\"2563\",\"type\":\"DaysTicker\"},{\"attributes\":{\"days\":[1,2,3,4,5,6,7,8,9,10,11,12,13,14,15,16,17,18,19,20,21,22,23,24,25,26,27,28,29,30,31]},\"id\":\"2561\",\"type\":\"DaysTicker\"},{\"attributes\":{\"days\":[1,4,7,10,13,16,19,22,25,28]},\"id\":\"2562\",\"type\":\"DaysTicker\"},{\"attributes\":{\"days\":[1,15]},\"id\":\"2564\",\"type\":\"DaysTicker\"},{\"attributes\":{},\"id\":\"2514\",\"type\":\"DataRange1d\"},{\"attributes\":{\"base\":24,\"mantissas\":[1,2,4,6,8,12],\"max_interval\":43200000.0,\"min_interval\":3600000.0,\"num_minor_ticks\":0},\"id\":\"2560\",\"type\":\"AdaptiveTicker\"},{\"attributes\":{\"bottom_units\":\"screen\",\"coordinates\":null,\"fill_alpha\":0.5,\"fill_color\":\"lightgrey\",\"group\":null,\"left_units\":\"screen\",\"level\":\"overlay\",\"line_alpha\":1.0,\"line_color\":\"black\",\"line_dash\":[4,4],\"line_width\":2,\"right_units\":\"screen\",\"syncable\":false,\"top_units\":\"screen\"},\"id\":\"2534\",\"type\":\"BoxAnnotation\"},{\"attributes\":{},\"id\":\"2533\",\"type\":\"HelpTool\"},{\"attributes\":{},\"id\":\"2516\",\"type\":\"LinearScale\"},{\"attributes\":{},\"id\":\"2550\",\"type\":\"BasicTickFormatter\"},{\"attributes\":{},\"id\":\"2525\",\"type\":\"BasicTicker\"},{\"attributes\":{},\"id\":\"2512\",\"type\":\"DataRange1d\"},{\"attributes\":{\"axis\":{\"id\":\"2520\"},\"coordinates\":null,\"grid_line_alpha\":0.3,\"group\":null,\"ticker\":null},\"id\":\"2523\",\"type\":\"Grid\"}],\"root_ids\":[\"2509\"]},\"title\":\"Bokeh Application\",\"version\":\"2.4.3\"}};\n  const render_items = [{\"docid\":\"2e36f1d0-bac9-41c0-b62b-438b3d6cd56e\",\"root_ids\":[\"2509\"],\"roots\":{\"2509\":\"37e24639-73ee-40d7-9f13-32d42db0493d\"}}];\n  root.Bokeh.embed.embed_items_notebook(docs_json, render_items);\n  }\n  if (root.Bokeh !== undefined) {\n    embed_document(root);\n  } else {\n    let attempts = 0;\n    const timer = setInterval(function(root) {\n      if (root.Bokeh !== undefined) {\n        clearInterval(timer);\n        embed_document(root);\n      } else {\n        attempts++;\n        if (attempts > 100) {\n          clearInterval(timer);\n          console.log(\"Bokeh: ERROR: Unable to run BokehJS code because BokehJS library is missing\");\n        }\n      }\n    }, 10, root)\n  }\n})(window);",
      "application/vnd.bokehjs_exec.v0+json": ""
     },
     "metadata": {
      "application/vnd.bokehjs_exec.v0+json": {
       "id": "2509"
      }
     },
     "output_type": "display_data"
    }
   ],
   "source": [
    "output_notebook()\n",
    "p = figure(x_axis_type=\"datetime\", title=\"Crypto Prices\", width=800)\n",
    "p.grid.grid_line_alpha=0.3\n",
    "p.xaxis.axis_label = 'Date'\n",
    "p.yaxis.axis_label = 'Price'\n",
    "\n",
    "p.line(eth_ohlc_1h.index, eth_ohlc_1h['ClosePrice'], color='#f2a900', legend_label='Ethereum')\n",
    "p.legend.location = \"top_left\"\n",
    "\n",
    "show(p)"
   ]
  },
  {
   "cell_type": "markdown",
   "metadata": {},
   "source": [
    "### Binance coin"
   ]
  },
  {
   "cell_type": "code",
   "execution_count": 36,
   "metadata": {},
   "outputs": [
    {
     "data": {
      "text/html": [
       "<div class=\"bk-root\">\n",
       "        <a href=\"https://bokeh.org\" target=\"_blank\" class=\"bk-logo bk-logo-small bk-logo-notebook\"></a>\n",
       "        <span id=\"2836\">Loading BokehJS ...</span>\n",
       "    </div>\n"
      ]
     },
     "metadata": {},
     "output_type": "display_data"
    },
    {
     "data": {
      "application/javascript": "(function(root) {\n  function now() {\n    return new Date();\n  }\n\n  const force = true;\n\n  if (typeof root._bokeh_onload_callbacks === \"undefined\" || force === true) {\n    root._bokeh_onload_callbacks = [];\n    root._bokeh_is_loading = undefined;\n  }\n\nconst JS_MIME_TYPE = 'application/javascript';\n  const HTML_MIME_TYPE = 'text/html';\n  const EXEC_MIME_TYPE = 'application/vnd.bokehjs_exec.v0+json';\n  const CLASS_NAME = 'output_bokeh rendered_html';\n\n  /**\n   * Render data to the DOM node\n   */\n  function render(props, node) {\n    const script = document.createElement(\"script\");\n    node.appendChild(script);\n  }\n\n  /**\n   * Handle when an output is cleared or removed\n   */\n  function handleClearOutput(event, handle) {\n    const cell = handle.cell;\n\n    const id = cell.output_area._bokeh_element_id;\n    const server_id = cell.output_area._bokeh_server_id;\n    // Clean up Bokeh references\n    if (id != null && id in Bokeh.index) {\n      Bokeh.index[id].model.document.clear();\n      delete Bokeh.index[id];\n    }\n\n    if (server_id !== undefined) {\n      // Clean up Bokeh references\n      const cmd_clean = \"from bokeh.io.state import curstate; print(curstate().uuid_to_server['\" + server_id + \"'].get_sessions()[0].document.roots[0]._id)\";\n      cell.notebook.kernel.execute(cmd_clean, {\n        iopub: {\n          output: function(msg) {\n            const id = msg.content.text.trim();\n            if (id in Bokeh.index) {\n              Bokeh.index[id].model.document.clear();\n              delete Bokeh.index[id];\n            }\n          }\n        }\n      });\n      // Destroy server and session\n      const cmd_destroy = \"import bokeh.io.notebook as ion; ion.destroy_server('\" + server_id + \"')\";\n      cell.notebook.kernel.execute(cmd_destroy);\n    }\n  }\n\n  /**\n   * Handle when a new output is added\n   */\n  function handleAddOutput(event, handle) {\n    const output_area = handle.output_area;\n    const output = handle.output;\n\n    // limit handleAddOutput to display_data with EXEC_MIME_TYPE content only\n    if ((output.output_type != \"display_data\") || (!Object.prototype.hasOwnProperty.call(output.data, EXEC_MIME_TYPE))) {\n      return\n    }\n\n    const toinsert = output_area.element.find(\".\" + CLASS_NAME.split(' ')[0]);\n\n    if (output.metadata[EXEC_MIME_TYPE][\"id\"] !== undefined) {\n      toinsert[toinsert.length - 1].firstChild.textContent = output.data[JS_MIME_TYPE];\n      // store reference to embed id on output_area\n      output_area._bokeh_element_id = output.metadata[EXEC_MIME_TYPE][\"id\"];\n    }\n    if (output.metadata[EXEC_MIME_TYPE][\"server_id\"] !== undefined) {\n      const bk_div = document.createElement(\"div\");\n      bk_div.innerHTML = output.data[HTML_MIME_TYPE];\n      const script_attrs = bk_div.children[0].attributes;\n      for (let i = 0; i < script_attrs.length; i++) {\n        toinsert[toinsert.length - 1].firstChild.setAttribute(script_attrs[i].name, script_attrs[i].value);\n        toinsert[toinsert.length - 1].firstChild.textContent = bk_div.children[0].textContent\n      }\n      // store reference to server id on output_area\n      output_area._bokeh_server_id = output.metadata[EXEC_MIME_TYPE][\"server_id\"];\n    }\n  }\n\n  function register_renderer(events, OutputArea) {\n\n    function append_mime(data, metadata, element) {\n      // create a DOM node to render to\n      const toinsert = this.create_output_subarea(\n        metadata,\n        CLASS_NAME,\n        EXEC_MIME_TYPE\n      );\n      this.keyboard_manager.register_events(toinsert);\n      // Render to node\n      const props = {data: data, metadata: metadata[EXEC_MIME_TYPE]};\n      render(props, toinsert[toinsert.length - 1]);\n      element.append(toinsert);\n      return toinsert\n    }\n\n    /* Handle when an output is cleared or removed */\n    events.on('clear_output.CodeCell', handleClearOutput);\n    events.on('delete.Cell', handleClearOutput);\n\n    /* Handle when a new output is added */\n    events.on('output_added.OutputArea', handleAddOutput);\n\n    /**\n     * Register the mime type and append_mime function with output_area\n     */\n    OutputArea.prototype.register_mime_type(EXEC_MIME_TYPE, append_mime, {\n      /* Is output safe? */\n      safe: true,\n      /* Index of renderer in `output_area.display_order` */\n      index: 0\n    });\n  }\n\n  // register the mime type if in Jupyter Notebook environment and previously unregistered\n  if (root.Jupyter !== undefined) {\n    const events = require('base/js/events');\n    const OutputArea = require('notebook/js/outputarea').OutputArea;\n\n    if (OutputArea.prototype.mime_types().indexOf(EXEC_MIME_TYPE) == -1) {\n      register_renderer(events, OutputArea);\n    }\n  }\n  if (typeof (root._bokeh_timeout) === \"undefined\" || force === true) {\n    root._bokeh_timeout = Date.now() + 5000;\n    root._bokeh_failed_load = false;\n  }\n\n  const NB_LOAD_WARNING = {'data': {'text/html':\n     \"<div style='background-color: #fdd'>\\n\"+\n     \"<p>\\n\"+\n     \"BokehJS does not appear to have successfully loaded. If loading BokehJS from CDN, this \\n\"+\n     \"may be due to a slow or bad network connection. Possible fixes:\\n\"+\n     \"</p>\\n\"+\n     \"<ul>\\n\"+\n     \"<li>re-rerun `output_notebook()` to attempt to load from CDN again, or</li>\\n\"+\n     \"<li>use INLINE resources instead, as so:</li>\\n\"+\n     \"</ul>\\n\"+\n     \"<code>\\n\"+\n     \"from bokeh.resources import INLINE\\n\"+\n     \"output_notebook(resources=INLINE)\\n\"+\n     \"</code>\\n\"+\n     \"</div>\"}};\n\n  function display_loaded() {\n    const el = document.getElementById(\"2836\");\n    if (el != null) {\n      el.textContent = \"BokehJS is loading...\";\n    }\n    if (root.Bokeh !== undefined) {\n      if (el != null) {\n        el.textContent = \"BokehJS \" + root.Bokeh.version + \" successfully loaded.\";\n      }\n    } else if (Date.now() < root._bokeh_timeout) {\n      setTimeout(display_loaded, 100)\n    }\n  }\n\n  function run_callbacks() {\n    try {\n      root._bokeh_onload_callbacks.forEach(function(callback) {\n        if (callback != null)\n          callback();\n      });\n    } finally {\n      delete root._bokeh_onload_callbacks\n    }\n    console.debug(\"Bokeh: all callbacks have finished\");\n  }\n\n  function load_libs(css_urls, js_urls, callback) {\n    if (css_urls == null) css_urls = [];\n    if (js_urls == null) js_urls = [];\n\n    root._bokeh_onload_callbacks.push(callback);\n    if (root._bokeh_is_loading > 0) {\n      console.debug(\"Bokeh: BokehJS is being loaded, scheduling callback at\", now());\n      return null;\n    }\n    if (js_urls == null || js_urls.length === 0) {\n      run_callbacks();\n      return null;\n    }\n    console.debug(\"Bokeh: BokehJS not loaded, scheduling load and callback at\", now());\n    root._bokeh_is_loading = css_urls.length + js_urls.length;\n\n    function on_load() {\n      root._bokeh_is_loading--;\n      if (root._bokeh_is_loading === 0) {\n        console.debug(\"Bokeh: all BokehJS libraries/stylesheets loaded\");\n        run_callbacks()\n      }\n    }\n\n    function on_error(url) {\n      console.error(\"failed to load \" + url);\n    }\n\n    for (let i = 0; i < css_urls.length; i++) {\n      const url = css_urls[i];\n      const element = document.createElement(\"link\");\n      element.onload = on_load;\n      element.onerror = on_error.bind(null, url);\n      element.rel = \"stylesheet\";\n      element.type = \"text/css\";\n      element.href = url;\n      console.debug(\"Bokeh: injecting link tag for BokehJS stylesheet: \", url);\n      document.body.appendChild(element);\n    }\n\n    for (let i = 0; i < js_urls.length; i++) {\n      const url = js_urls[i];\n      const element = document.createElement('script');\n      element.onload = on_load;\n      element.onerror = on_error.bind(null, url);\n      element.async = false;\n      element.src = url;\n      console.debug(\"Bokeh: injecting script tag for BokehJS library: \", url);\n      document.head.appendChild(element);\n    }\n  };\n\n  function inject_raw_css(css) {\n    const element = document.createElement(\"style\");\n    element.appendChild(document.createTextNode(css));\n    document.body.appendChild(element);\n  }\n\n  const js_urls = [\"https://cdn.bokeh.org/bokeh/release/bokeh-2.4.3.min.js\", \"https://cdn.bokeh.org/bokeh/release/bokeh-gl-2.4.3.min.js\", \"https://cdn.bokeh.org/bokeh/release/bokeh-widgets-2.4.3.min.js\", \"https://cdn.bokeh.org/bokeh/release/bokeh-tables-2.4.3.min.js\", \"https://cdn.bokeh.org/bokeh/release/bokeh-mathjax-2.4.3.min.js\"];\n  const css_urls = [];\n\n  const inline_js = [    function(Bokeh) {\n      Bokeh.set_log_level(\"info\");\n    },\nfunction(Bokeh) {\n    }\n  ];\n\n  function run_inline_js() {\n    if (root.Bokeh !== undefined || force === true) {\n          for (let i = 0; i < inline_js.length; i++) {\n      inline_js[i].call(root, root.Bokeh);\n    }\nif (force === true) {\n        display_loaded();\n      }} else if (Date.now() < root._bokeh_timeout) {\n      setTimeout(run_inline_js, 100);\n    } else if (!root._bokeh_failed_load) {\n      console.log(\"Bokeh: BokehJS failed to load within specified timeout.\");\n      root._bokeh_failed_load = true;\n    } else if (force !== true) {\n      const cell = $(document.getElementById(\"2836\")).parents('.cell').data().cell;\n      cell.output_area.append_execute_result(NB_LOAD_WARNING)\n    }\n  }\n\n  if (root._bokeh_is_loading === 0) {\n    console.debug(\"Bokeh: BokehJS loaded, going straight to plotting\");\n    run_inline_js();\n  } else {\n    load_libs(css_urls, js_urls, function() {\n      console.debug(\"Bokeh: BokehJS plotting callback run at\", now());\n      run_inline_js();\n    });\n  }\n}(window));",
      "application/vnd.bokehjs_load.v0+json": ""
     },
     "metadata": {},
     "output_type": "display_data"
    },
    {
     "data": {
      "text/html": [
       "\n",
       "  <div class=\"bk-root\" id=\"843c13cf-acc3-43d7-9107-8749a440b867\" data-root-id=\"2837\"></div>\n"
      ]
     },
     "metadata": {},
     "output_type": "display_data"
    },
    {
     "data": {
      "application/javascript": "(function(root) {\n  function embed_document(root) {\n  const docs_json = {\"ccd68342-5537-4b87-8d42-de9dea72d33e\":{\"defs\":[],\"roots\":{\"references\":[{\"attributes\":{\"below\":[{\"id\":\"2848\"}],\"center\":[{\"id\":\"2851\"},{\"id\":\"2855\"},{\"id\":\"2898\"}],\"left\":[{\"id\":\"2852\"}],\"renderers\":[{\"id\":\"2874\"}],\"title\":{\"id\":\"2838\"},\"toolbar\":{\"id\":\"2863\"},\"width\":800,\"x_range\":{\"id\":\"2840\"},\"x_scale\":{\"id\":\"2844\"},\"y_range\":{\"id\":\"2842\"},\"y_scale\":{\"id\":\"2846\"}},\"id\":\"2837\",\"subtype\":\"Figure\",\"type\":\"Plot\"},{\"attributes\":{},\"id\":\"2878\",\"type\":\"BasicTickFormatter\"},{\"attributes\":{},\"id\":\"2857\",\"type\":\"WheelZoomTool\"},{\"attributes\":{},\"id\":\"2879\",\"type\":\"AllLabels\"},{\"attributes\":{\"tools\":[{\"id\":\"2856\"},{\"id\":\"2857\"},{\"id\":\"2858\"},{\"id\":\"2859\"},{\"id\":\"2860\"},{\"id\":\"2861\"}]},\"id\":\"2863\",\"type\":\"Toolbar\"},{\"attributes\":{},\"id\":\"2881\",\"type\":\"DatetimeTickFormatter\"},{\"attributes\":{},\"id\":\"2844\",\"type\":\"LinearScale\"},{\"attributes\":{\"coordinates\":null,\"group\":null,\"items\":[{\"id\":\"2899\"}],\"location\":\"top_left\"},\"id\":\"2898\",\"type\":\"Legend\"},{\"attributes\":{\"mantissas\":[1,2,5],\"max_interval\":500.0,\"num_minor_ticks\":0},\"id\":\"2886\",\"type\":\"AdaptiveTicker\"},{\"attributes\":{\"base\":60,\"mantissas\":[1,2,5,10,15,20,30],\"max_interval\":1800000.0,\"min_interval\":1000.0,\"num_minor_ticks\":0},\"id\":\"2887\",\"type\":\"AdaptiveTicker\"},{\"attributes\":{},\"id\":\"2882\",\"type\":\"AllLabels\"},{\"attributes\":{\"days\":[1,2,3,4,5,6,7,8,9,10,11,12,13,14,15,16,17,18,19,20,21,22,23,24,25,26,27,28,29,30,31]},\"id\":\"2889\",\"type\":\"DaysTicker\"},{\"attributes\":{\"base\":24,\"mantissas\":[1,2,4,6,8,12],\"max_interval\":43200000.0,\"min_interval\":3600000.0,\"num_minor_ticks\":0},\"id\":\"2888\",\"type\":\"AdaptiveTicker\"},{\"attributes\":{\"months\":[0,1,2,3,4,5,6,7,8,9,10,11]},\"id\":\"2893\",\"type\":\"MonthsTicker\"},{\"attributes\":{\"source\":{\"id\":\"2870\"}},\"id\":\"2875\",\"type\":\"CDSView\"},{\"attributes\":{\"months\":[0,2,4,6,8,10]},\"id\":\"2894\",\"type\":\"MonthsTicker\"},{\"attributes\":{},\"id\":\"2861\",\"type\":\"HelpTool\"},{\"attributes\":{\"data\":{\"x\":{\"__ndarray__\":\"AABAPxU1eEIAAOD6IjV4QgAAyGkmNXhCAABoJTQ1eEIAAFCUNzV4QgAAOAM7NXhCAAAgcj41eEIAAAjhQTV4QgAA8E9FNXhCAADYvkg1eEIAAMAtTDV4QgAAqJxPNXhCAACQC1M1eEIAAHh6VjV4QgAAYOlZNXhCAABIWF01eEIAADDHYDV4QgAAGDZkNXhCAAAApWc1eEIAAOgTazV4QgAA0IJuNXhCAAC48XE1eEIAAKBgdTV4QgAAiM94NXhCAABwPnw1eEIAAFitfzV4QgAAQByDNXhCAAAoi4Y1eEIAABD6iTV4QgAA+GiNNXhCAADg15A1eEIAAMhGlDV4QgAAsLWXNXhCAACYJJs1eEIAAICTnjV4QgAAaAKiNXhCAABQcaU1eEIAADjgqDV4QgAAIE+sNXhCAAAIvq81eEIAAPAsszV4QgAA2Ju2NXhCAADACro1eEIAAKh5vTV4QgAAkOjANXhCAAB4V8Q1eEIAAGDGxzV4QgAASDXLNXhCAAAwpM41eEIAABgT0jV4QgAAAILVNXhCAADo8Ng1eEIAANBf3DV4QgAAuM7fNXhCAACgPeM1eEIAAIis5jV4QgAAcBvqNXhCAABYiu01eEIAAED58DV4QgAAKGj0NXhCAAAQ1/c1eEIAAPhF+zV4QgAA4LT+NXhCAADIIwI2eEIAALCSBTZ4QgAAmAEJNnhCAACAcAw2eEIAAGjfDzZ4QgAAUE4TNnhCAAA4vRY2eEIAACAsGjZ4QgAACJsdNnhCAADwCSE2eEIAANh4JDZ4QgAAwOcnNnhCAACoVis2eEIAAJDFLjZ4QgAAeDQyNnhCAABgozU2eEIAAEgSOTZ4QgAAMIE8NnhCAAAY8D82eEIAAABfQzZ4QgAA6M1GNnhCAADQPEo2eEIAALirTTZ4QgAAoBpRNnhCAACIiVQ2eEIAAHD4VzZ4QgAAWGdbNnhCAABA1l42eEIAAChFYjZ4QgAAELRlNnhCAAD4Imk2eEIAAOCRbDZ4QgAAyABwNnhCAACwb3M2eEIAAJjedjZ4QgAAgE16NnhCAABovH02eEIAAFArgTZ4QgAAOJqENnhCAAAgCYg2eEIAAAh4izZ4QgAA8OaONnhCAADYVZI2eEIAAMDElTZ4QgAAqDOZNnhCAACQopw2eEIAAHgRoDZ4QgAAYICjNnhCAABI76Y2eEIAADBeqjZ4QgAAGM2tNnhCAAAAPLE2eEIAAOiqtDZ4QgAA0Bm4NnhCAAC4iLs2eEIAAKD3vjZ4QgAAiGbCNnhCAABw1cU2eEIAAFhEyTZ4QgAAQLPMNnhCAAAoItA2eEIAABCR0zZ4QgAA+P/WNnhCAADgbto2eEIAAMjd3TZ4QgAAsEzhNnhCAACYu+Q2eEIAAIAq6DZ4QgAAaJnrNnhCAABQCO82eEIAADh38jZ4QgAAIOb1NnhCAAAIVfk2eEIAAPDD/DZ4QgAA2DIAN3hCAADAoQM3eEIAAKgQBzd4QgAAkH8KN3hCAAB47g03eEIAAGBdETd4QgAASMwUN3hCAAAwOxg3eEIAABiqGzd4QgAAABkfN3hCAADohyI3eEIAAND2JTd4QgAAuGUpN3hCAACg1Cw3eEIAAIhDMDd4QgAAcLIzN3hCAABYITc3eEIAAECQOjd4QgAAKP89N3hCAAAQbkE3eEIAAPjcRDd4QgAA4EtIN3hCAADIuks3eEIAALApTzd4Qg==\",\"dtype\":\"float64\",\"order\":\"little\",\"shape\":[161]},\"y\":{\"__ndarray__\":\"ZmZmZmY+cUDNzMzMzAxxQDMzMzMzA3FAZmZmZmbGcECamZmZmbFwQAAAAAAAWHBAzczMzMxccEDNzMzMzFxwQM3MzMzMbHBAMzMzMzMzcEBmZmZmZjZwQJqZmZmZKXBAZmZmZmYucEBmZmZmZj5wQAAAAAAAYHBAZmZmZmaGcECamZmZmYlwQAAAAAAA0HBAZmZmZmamcEBmZmZmZq5wQGZmZmZmlnBAmpmZmZmpcEAzMzMzM8twQAAAAAAAyHBAAAAAAADQcEAAAAAAAOBwQM3MzMzMBHFAMzMzMzPrcEAzMzMzM9NwQDMzMzMz23BAZmZmZmbWcEDNzMzMzNxwQJqZmZmZ4XBAzczMzMzscEAzMzMzM+NwQDMzMzMz23BAZmZmZmbOcEBmZmZmZuZwQDMzMzMz43BAmpmZmZnBcEAzMzMzM7twQGZmZmZm1nBAzczMzMzkcEAzMzMzM9twQAAAAAAAmHBAzczMzMy8cEBmZmZmZsZwQJqZmZmZuXBAzczMzMyccECamZmZmbFwQM3MzMzMpHBAzczMzMy0cECamZmZmaFwQAAAAAAAsHBAMzMzMzOzcEAzMzMzM7NwQM3MzMzMpHBAzczMzMyUcEBmZmZmZp5wQJqZmZmZkXBAmpmZmZm5cEAzMzMzM7NwQGZmZmZm1nBAmpmZmZnhcEDNzMzMzNxwQJqZmZmZyXBAzczMzMy0cECamZmZmblwQGZmZmZm9nBAAAAAAAA4cUBmZmZmZs5wQAAAAAAAyHBAAAAAAACIcEAzMzMzM2twQAAAAAAAgHBAMzMzMzOLcECamZmZmZlwQDMzMzMzm3BAMzMzMzOTcEAAAAAAAJBwQJqZmZmZkXBAzczMzMyccEBmZmZmZq5wQGZmZmZmxnBAzczMzMzEcEDNzMzMzMRwQDMzMzMz43BAmpmZmZnpcEDNzMzMzLRwQJqZmZmZuXBAZmZmZmbGcEBmZmZmZt5wQJqZmZmZ8XBAMzMzMzPzcEDNzMzMzCRxQAAAAAAAKHFAZmZmZmYWcUAzMzMzMytxQM3MzMzMNHFAzczMzMwUcUCamZmZmSlxQJqZmZmZIXFAMzMzMzMrcUCamZmZmUlxQGZmZmZmTnFAAAAAAABQcUDNzMzMzCxxQGZmZmZmDnFAAAAAAAAwcUAAAAAAABhxQM3MzMzMDHFAZmZmZmYOcUAAAAAAAOBwQJqZmZmZ4XBAzczMzMz0cECamZmZmflwQDMzMzMz83BAMzMzMzPjcEAzMzMzM/twQJqZmZmZEXFAAAAAAAAwcUBmZmZmZkZxQDMzMzMzS3FAZmZmZmZGcUBmZmZmZk5xQDMzMzMzY3FAZmZmZmZucUCamZmZmZlxQDMzMzMzw3FAZmZmZma2cUAzMzMzM4txQDMzMzMzq3FAmpmZmZmhcUAzMzMzM4txQDMzMzMzg3FAZmZmZmaOcUDNzMzMzIxxQM3MzMzMhHFAMzMzMzN7cUAAAAAAAGBxQM3MzMzMTHFAmpmZmZlhcUDNzMzMzGRxQGZmZmZmXnFAMzMzMzNDcUAzMzMzM0NxQGZmZmZmJnFAAAAAAAAwcUCamZmZmTlxQDMzMzMzO3FAZmZmZmZGcUAAAAAAADhxQGZmZmZmPnFAAAAAAABIcUBmZmZmZl5xQDMzMzMza3FAmpmZmZlRcUAAAAAAAGhxQDMzMzMzY3FAzczMzMxMcUCamZmZmUFxQA==\",\"dtype\":\"float64\",\"order\":\"little\",\"shape\":[161]}},\"selected\":{\"id\":\"2884\"},\"selection_policy\":{\"id\":\"2883\"}},\"id\":\"2870\",\"type\":\"ColumnDataSource\"},{\"attributes\":{\"days\":[1,4,7,10,13,16,19,22,25,28]},\"id\":\"2890\",\"type\":\"DaysTicker\"},{\"attributes\":{\"line_color\":\"#f2a900\",\"x\":{\"field\":\"x\"},\"y\":{\"field\":\"y\"}},\"id\":\"2871\",\"type\":\"Line\"},{\"attributes\":{\"days\":[1,15]},\"id\":\"2892\",\"type\":\"DaysTicker\"},{\"attributes\":{\"months\":[0,6]},\"id\":\"2896\",\"type\":\"MonthsTicker\"},{\"attributes\":{\"days\":[1,8,15,22]},\"id\":\"2891\",\"type\":\"DaysTicker\"},{\"attributes\":{\"line_alpha\":0.2,\"line_color\":\"#f2a900\",\"x\":{\"field\":\"x\"},\"y\":{\"field\":\"y\"}},\"id\":\"2873\",\"type\":\"Line\"},{\"attributes\":{},\"id\":\"2897\",\"type\":\"YearsTicker\"},{\"attributes\":{\"axis\":{\"id\":\"2852\"},\"coordinates\":null,\"dimension\":1,\"grid_line_alpha\":0.3,\"group\":null,\"ticker\":null},\"id\":\"2855\",\"type\":\"Grid\"},{\"attributes\":{\"axis_label\":\"Date\",\"coordinates\":null,\"formatter\":{\"id\":\"2881\"},\"group\":null,\"major_label_policy\":{\"id\":\"2882\"},\"ticker\":{\"id\":\"2849\"}},\"id\":\"2848\",\"type\":\"DatetimeAxis\"},{\"attributes\":{},\"id\":\"2840\",\"type\":\"DataRange1d\"},{\"attributes\":{},\"id\":\"2883\",\"type\":\"UnionRenderers\"},{\"attributes\":{\"months\":[0,4,8]},\"id\":\"2895\",\"type\":\"MonthsTicker\"},{\"attributes\":{\"axis\":{\"id\":\"2848\"},\"coordinates\":null,\"grid_line_alpha\":0.3,\"group\":null,\"ticker\":null},\"id\":\"2851\",\"type\":\"Grid\"},{\"attributes\":{\"line_alpha\":0.1,\"line_color\":\"#f2a900\",\"x\":{\"field\":\"x\"},\"y\":{\"field\":\"y\"}},\"id\":\"2872\",\"type\":\"Line\"},{\"attributes\":{},\"id\":\"2859\",\"type\":\"SaveTool\"},{\"attributes\":{},\"id\":\"2860\",\"type\":\"ResetTool\"},{\"attributes\":{},\"id\":\"2842\",\"type\":\"DataRange1d\"},{\"attributes\":{},\"id\":\"2884\",\"type\":\"Selection\"},{\"attributes\":{},\"id\":\"2846\",\"type\":\"LinearScale\"},{\"attributes\":{\"coordinates\":null,\"data_source\":{\"id\":\"2870\"},\"glyph\":{\"id\":\"2871\"},\"group\":null,\"hover_glyph\":null,\"muted_glyph\":{\"id\":\"2873\"},\"nonselection_glyph\":{\"id\":\"2872\"},\"view\":{\"id\":\"2875\"}},\"id\":\"2874\",\"type\":\"GlyphRenderer\"},{\"attributes\":{\"label\":{\"value\":\"Binance coin\"},\"renderers\":[{\"id\":\"2874\"}]},\"id\":\"2899\",\"type\":\"LegendItem\"},{\"attributes\":{\"axis_label\":\"Price\",\"coordinates\":null,\"formatter\":{\"id\":\"2878\"},\"group\":null,\"major_label_policy\":{\"id\":\"2879\"},\"ticker\":{\"id\":\"2853\"}},\"id\":\"2852\",\"type\":\"LinearAxis\"},{\"attributes\":{},\"id\":\"2853\",\"type\":\"BasicTicker\"},{\"attributes\":{},\"id\":\"2856\",\"type\":\"PanTool\"},{\"attributes\":{\"overlay\":{\"id\":\"2862\"}},\"id\":\"2858\",\"type\":\"BoxZoomTool\"},{\"attributes\":{\"coordinates\":null,\"group\":null,\"text\":\"Crypto Prices\"},\"id\":\"2838\",\"type\":\"Title\"},{\"attributes\":{\"bottom_units\":\"screen\",\"coordinates\":null,\"fill_alpha\":0.5,\"fill_color\":\"lightgrey\",\"group\":null,\"left_units\":\"screen\",\"level\":\"overlay\",\"line_alpha\":1.0,\"line_color\":\"black\",\"line_dash\":[4,4],\"line_width\":2,\"right_units\":\"screen\",\"syncable\":false,\"top_units\":\"screen\"},\"id\":\"2862\",\"type\":\"BoxAnnotation\"},{\"attributes\":{\"num_minor_ticks\":5,\"tickers\":[{\"id\":\"2886\"},{\"id\":\"2887\"},{\"id\":\"2888\"},{\"id\":\"2889\"},{\"id\":\"2890\"},{\"id\":\"2891\"},{\"id\":\"2892\"},{\"id\":\"2893\"},{\"id\":\"2894\"},{\"id\":\"2895\"},{\"id\":\"2896\"},{\"id\":\"2897\"}]},\"id\":\"2849\",\"type\":\"DatetimeTicker\"}],\"root_ids\":[\"2837\"]},\"title\":\"Bokeh Application\",\"version\":\"2.4.3\"}};\n  const render_items = [{\"docid\":\"ccd68342-5537-4b87-8d42-de9dea72d33e\",\"root_ids\":[\"2837\"],\"roots\":{\"2837\":\"843c13cf-acc3-43d7-9107-8749a440b867\"}}];\n  root.Bokeh.embed.embed_items_notebook(docs_json, render_items);\n  }\n  if (root.Bokeh !== undefined) {\n    embed_document(root);\n  } else {\n    let attempts = 0;\n    const timer = setInterval(function(root) {\n      if (root.Bokeh !== undefined) {\n        clearInterval(timer);\n        embed_document(root);\n      } else {\n        attempts++;\n        if (attempts > 100) {\n          clearInterval(timer);\n          console.log(\"Bokeh: ERROR: Unable to run BokehJS code because BokehJS library is missing\");\n        }\n      }\n    }, 10, root)\n  }\n})(window);",
      "application/vnd.bokehjs_exec.v0+json": ""
     },
     "metadata": {
      "application/vnd.bokehjs_exec.v0+json": {
       "id": "2837"
      }
     },
     "output_type": "display_data"
    }
   ],
   "source": [
    "output_notebook()\n",
    "p = figure(x_axis_type=\"datetime\", title=\"Crypto Prices\", width=800)\n",
    "p.grid.grid_line_alpha=0.3\n",
    "p.xaxis.axis_label = 'Date'\n",
    "p.yaxis.axis_label = 'Price'\n",
    "\n",
    "p.line(bnb_ohlc_1h.index, bnb_ohlc_1h['ClosePrice'], color='#f2a900', legend_label='Binance coin')\n",
    "p.legend.location = \"top_left\"\n",
    "\n",
    "show(p)"
   ]
  },
  {
   "cell_type": "markdown",
   "metadata": {},
   "source": [
    "### Cardano"
   ]
  },
  {
   "cell_type": "code",
   "execution_count": 37,
   "metadata": {},
   "outputs": [
    {
     "data": {
      "text/html": [
       "<div class=\"bk-root\">\n",
       "        <a href=\"https://bokeh.org\" target=\"_blank\" class=\"bk-logo bk-logo-small bk-logo-notebook\"></a>\n",
       "        <span id=\"3186\">Loading BokehJS ...</span>\n",
       "    </div>\n"
      ]
     },
     "metadata": {},
     "output_type": "display_data"
    },
    {
     "data": {
      "application/javascript": "(function(root) {\n  function now() {\n    return new Date();\n  }\n\n  const force = true;\n\n  if (typeof root._bokeh_onload_callbacks === \"undefined\" || force === true) {\n    root._bokeh_onload_callbacks = [];\n    root._bokeh_is_loading = undefined;\n  }\n\nconst JS_MIME_TYPE = 'application/javascript';\n  const HTML_MIME_TYPE = 'text/html';\n  const EXEC_MIME_TYPE = 'application/vnd.bokehjs_exec.v0+json';\n  const CLASS_NAME = 'output_bokeh rendered_html';\n\n  /**\n   * Render data to the DOM node\n   */\n  function render(props, node) {\n    const script = document.createElement(\"script\");\n    node.appendChild(script);\n  }\n\n  /**\n   * Handle when an output is cleared or removed\n   */\n  function handleClearOutput(event, handle) {\n    const cell = handle.cell;\n\n    const id = cell.output_area._bokeh_element_id;\n    const server_id = cell.output_area._bokeh_server_id;\n    // Clean up Bokeh references\n    if (id != null && id in Bokeh.index) {\n      Bokeh.index[id].model.document.clear();\n      delete Bokeh.index[id];\n    }\n\n    if (server_id !== undefined) {\n      // Clean up Bokeh references\n      const cmd_clean = \"from bokeh.io.state import curstate; print(curstate().uuid_to_server['\" + server_id + \"'].get_sessions()[0].document.roots[0]._id)\";\n      cell.notebook.kernel.execute(cmd_clean, {\n        iopub: {\n          output: function(msg) {\n            const id = msg.content.text.trim();\n            if (id in Bokeh.index) {\n              Bokeh.index[id].model.document.clear();\n              delete Bokeh.index[id];\n            }\n          }\n        }\n      });\n      // Destroy server and session\n      const cmd_destroy = \"import bokeh.io.notebook as ion; ion.destroy_server('\" + server_id + \"')\";\n      cell.notebook.kernel.execute(cmd_destroy);\n    }\n  }\n\n  /**\n   * Handle when a new output is added\n   */\n  function handleAddOutput(event, handle) {\n    const output_area = handle.output_area;\n    const output = handle.output;\n\n    // limit handleAddOutput to display_data with EXEC_MIME_TYPE content only\n    if ((output.output_type != \"display_data\") || (!Object.prototype.hasOwnProperty.call(output.data, EXEC_MIME_TYPE))) {\n      return\n    }\n\n    const toinsert = output_area.element.find(\".\" + CLASS_NAME.split(' ')[0]);\n\n    if (output.metadata[EXEC_MIME_TYPE][\"id\"] !== undefined) {\n      toinsert[toinsert.length - 1].firstChild.textContent = output.data[JS_MIME_TYPE];\n      // store reference to embed id on output_area\n      output_area._bokeh_element_id = output.metadata[EXEC_MIME_TYPE][\"id\"];\n    }\n    if (output.metadata[EXEC_MIME_TYPE][\"server_id\"] !== undefined) {\n      const bk_div = document.createElement(\"div\");\n      bk_div.innerHTML = output.data[HTML_MIME_TYPE];\n      const script_attrs = bk_div.children[0].attributes;\n      for (let i = 0; i < script_attrs.length; i++) {\n        toinsert[toinsert.length - 1].firstChild.setAttribute(script_attrs[i].name, script_attrs[i].value);\n        toinsert[toinsert.length - 1].firstChild.textContent = bk_div.children[0].textContent\n      }\n      // store reference to server id on output_area\n      output_area._bokeh_server_id = output.metadata[EXEC_MIME_TYPE][\"server_id\"];\n    }\n  }\n\n  function register_renderer(events, OutputArea) {\n\n    function append_mime(data, metadata, element) {\n      // create a DOM node to render to\n      const toinsert = this.create_output_subarea(\n        metadata,\n        CLASS_NAME,\n        EXEC_MIME_TYPE\n      );\n      this.keyboard_manager.register_events(toinsert);\n      // Render to node\n      const props = {data: data, metadata: metadata[EXEC_MIME_TYPE]};\n      render(props, toinsert[toinsert.length - 1]);\n      element.append(toinsert);\n      return toinsert\n    }\n\n    /* Handle when an output is cleared or removed */\n    events.on('clear_output.CodeCell', handleClearOutput);\n    events.on('delete.Cell', handleClearOutput);\n\n    /* Handle when a new output is added */\n    events.on('output_added.OutputArea', handleAddOutput);\n\n    /**\n     * Register the mime type and append_mime function with output_area\n     */\n    OutputArea.prototype.register_mime_type(EXEC_MIME_TYPE, append_mime, {\n      /* Is output safe? */\n      safe: true,\n      /* Index of renderer in `output_area.display_order` */\n      index: 0\n    });\n  }\n\n  // register the mime type if in Jupyter Notebook environment and previously unregistered\n  if (root.Jupyter !== undefined) {\n    const events = require('base/js/events');\n    const OutputArea = require('notebook/js/outputarea').OutputArea;\n\n    if (OutputArea.prototype.mime_types().indexOf(EXEC_MIME_TYPE) == -1) {\n      register_renderer(events, OutputArea);\n    }\n  }\n  if (typeof (root._bokeh_timeout) === \"undefined\" || force === true) {\n    root._bokeh_timeout = Date.now() + 5000;\n    root._bokeh_failed_load = false;\n  }\n\n  const NB_LOAD_WARNING = {'data': {'text/html':\n     \"<div style='background-color: #fdd'>\\n\"+\n     \"<p>\\n\"+\n     \"BokehJS does not appear to have successfully loaded. If loading BokehJS from CDN, this \\n\"+\n     \"may be due to a slow or bad network connection. Possible fixes:\\n\"+\n     \"</p>\\n\"+\n     \"<ul>\\n\"+\n     \"<li>re-rerun `output_notebook()` to attempt to load from CDN again, or</li>\\n\"+\n     \"<li>use INLINE resources instead, as so:</li>\\n\"+\n     \"</ul>\\n\"+\n     \"<code>\\n\"+\n     \"from bokeh.resources import INLINE\\n\"+\n     \"output_notebook(resources=INLINE)\\n\"+\n     \"</code>\\n\"+\n     \"</div>\"}};\n\n  function display_loaded() {\n    const el = document.getElementById(\"3186\");\n    if (el != null) {\n      el.textContent = \"BokehJS is loading...\";\n    }\n    if (root.Bokeh !== undefined) {\n      if (el != null) {\n        el.textContent = \"BokehJS \" + root.Bokeh.version + \" successfully loaded.\";\n      }\n    } else if (Date.now() < root._bokeh_timeout) {\n      setTimeout(display_loaded, 100)\n    }\n  }\n\n  function run_callbacks() {\n    try {\n      root._bokeh_onload_callbacks.forEach(function(callback) {\n        if (callback != null)\n          callback();\n      });\n    } finally {\n      delete root._bokeh_onload_callbacks\n    }\n    console.debug(\"Bokeh: all callbacks have finished\");\n  }\n\n  function load_libs(css_urls, js_urls, callback) {\n    if (css_urls == null) css_urls = [];\n    if (js_urls == null) js_urls = [];\n\n    root._bokeh_onload_callbacks.push(callback);\n    if (root._bokeh_is_loading > 0) {\n      console.debug(\"Bokeh: BokehJS is being loaded, scheduling callback at\", now());\n      return null;\n    }\n    if (js_urls == null || js_urls.length === 0) {\n      run_callbacks();\n      return null;\n    }\n    console.debug(\"Bokeh: BokehJS not loaded, scheduling load and callback at\", now());\n    root._bokeh_is_loading = css_urls.length + js_urls.length;\n\n    function on_load() {\n      root._bokeh_is_loading--;\n      if (root._bokeh_is_loading === 0) {\n        console.debug(\"Bokeh: all BokehJS libraries/stylesheets loaded\");\n        run_callbacks()\n      }\n    }\n\n    function on_error(url) {\n      console.error(\"failed to load \" + url);\n    }\n\n    for (let i = 0; i < css_urls.length; i++) {\n      const url = css_urls[i];\n      const element = document.createElement(\"link\");\n      element.onload = on_load;\n      element.onerror = on_error.bind(null, url);\n      element.rel = \"stylesheet\";\n      element.type = \"text/css\";\n      element.href = url;\n      console.debug(\"Bokeh: injecting link tag for BokehJS stylesheet: \", url);\n      document.body.appendChild(element);\n    }\n\n    for (let i = 0; i < js_urls.length; i++) {\n      const url = js_urls[i];\n      const element = document.createElement('script');\n      element.onload = on_load;\n      element.onerror = on_error.bind(null, url);\n      element.async = false;\n      element.src = url;\n      console.debug(\"Bokeh: injecting script tag for BokehJS library: \", url);\n      document.head.appendChild(element);\n    }\n  };\n\n  function inject_raw_css(css) {\n    const element = document.createElement(\"style\");\n    element.appendChild(document.createTextNode(css));\n    document.body.appendChild(element);\n  }\n\n  const js_urls = [\"https://cdn.bokeh.org/bokeh/release/bokeh-2.4.3.min.js\", \"https://cdn.bokeh.org/bokeh/release/bokeh-gl-2.4.3.min.js\", \"https://cdn.bokeh.org/bokeh/release/bokeh-widgets-2.4.3.min.js\", \"https://cdn.bokeh.org/bokeh/release/bokeh-tables-2.4.3.min.js\", \"https://cdn.bokeh.org/bokeh/release/bokeh-mathjax-2.4.3.min.js\"];\n  const css_urls = [];\n\n  const inline_js = [    function(Bokeh) {\n      Bokeh.set_log_level(\"info\");\n    },\nfunction(Bokeh) {\n    }\n  ];\n\n  function run_inline_js() {\n    if (root.Bokeh !== undefined || force === true) {\n          for (let i = 0; i < inline_js.length; i++) {\n      inline_js[i].call(root, root.Bokeh);\n    }\nif (force === true) {\n        display_loaded();\n      }} else if (Date.now() < root._bokeh_timeout) {\n      setTimeout(run_inline_js, 100);\n    } else if (!root._bokeh_failed_load) {\n      console.log(\"Bokeh: BokehJS failed to load within specified timeout.\");\n      root._bokeh_failed_load = true;\n    } else if (force !== true) {\n      const cell = $(document.getElementById(\"3186\")).parents('.cell').data().cell;\n      cell.output_area.append_execute_result(NB_LOAD_WARNING)\n    }\n  }\n\n  if (root._bokeh_is_loading === 0) {\n    console.debug(\"Bokeh: BokehJS loaded, going straight to plotting\");\n    run_inline_js();\n  } else {\n    load_libs(css_urls, js_urls, function() {\n      console.debug(\"Bokeh: BokehJS plotting callback run at\", now());\n      run_inline_js();\n    });\n  }\n}(window));",
      "application/vnd.bokehjs_load.v0+json": ""
     },
     "metadata": {},
     "output_type": "display_data"
    },
    {
     "data": {
      "text/html": [
       "\n",
       "  <div class=\"bk-root\" id=\"be171f13-a53e-49df-a459-1dca6860b010\" data-root-id=\"3187\"></div>\n"
      ]
     },
     "metadata": {},
     "output_type": "display_data"
    },
    {
     "data": {
      "application/javascript": "(function(root) {\n  function embed_document(root) {\n  const docs_json = {\"9dd3fceb-31a1-4567-b79f-9b3d6b865805\":{\"defs\":[],\"roots\":{\"references\":[{\"attributes\":{\"below\":[{\"id\":\"3198\"}],\"center\":[{\"id\":\"3201\"},{\"id\":\"3205\"},{\"id\":\"3248\"}],\"left\":[{\"id\":\"3202\"}],\"renderers\":[{\"id\":\"3224\"}],\"title\":{\"id\":\"3188\"},\"toolbar\":{\"id\":\"3213\"},\"width\":800,\"x_range\":{\"id\":\"3190\"},\"x_scale\":{\"id\":\"3194\"},\"y_range\":{\"id\":\"3192\"},\"y_scale\":{\"id\":\"3196\"}},\"id\":\"3187\",\"subtype\":\"Figure\",\"type\":\"Plot\"},{\"attributes\":{\"axis_label\":\"Date\",\"coordinates\":null,\"formatter\":{\"id\":\"3231\"},\"group\":null,\"major_label_policy\":{\"id\":\"3232\"},\"ticker\":{\"id\":\"3199\"}},\"id\":\"3198\",\"type\":\"DatetimeAxis\"},{\"attributes\":{\"days\":[1,15]},\"id\":\"3242\",\"type\":\"DaysTicker\"},{\"attributes\":{\"base\":24,\"mantissas\":[1,2,4,6,8,12],\"max_interval\":43200000.0,\"min_interval\":3600000.0,\"num_minor_ticks\":0},\"id\":\"3238\",\"type\":\"AdaptiveTicker\"},{\"attributes\":{\"days\":[1,8,15,22]},\"id\":\"3241\",\"type\":\"DaysTicker\"},{\"attributes\":{\"coordinates\":null,\"group\":null,\"text\":\"Crypto Prices\"},\"id\":\"3188\",\"type\":\"Title\"},{\"attributes\":{\"axis\":{\"id\":\"3198\"},\"coordinates\":null,\"grid_line_alpha\":0.3,\"group\":null,\"ticker\":null},\"id\":\"3201\",\"type\":\"Grid\"},{\"attributes\":{\"bottom_units\":\"screen\",\"coordinates\":null,\"fill_alpha\":0.5,\"fill_color\":\"lightgrey\",\"group\":null,\"left_units\":\"screen\",\"level\":\"overlay\",\"line_alpha\":1.0,\"line_color\":\"black\",\"line_dash\":[4,4],\"line_width\":2,\"right_units\":\"screen\",\"syncable\":false,\"top_units\":\"screen\"},\"id\":\"3212\",\"type\":\"BoxAnnotation\"},{\"attributes\":{},\"id\":\"3211\",\"type\":\"HelpTool\"},{\"attributes\":{\"num_minor_ticks\":5,\"tickers\":[{\"id\":\"3236\"},{\"id\":\"3237\"},{\"id\":\"3238\"},{\"id\":\"3239\"},{\"id\":\"3240\"},{\"id\":\"3241\"},{\"id\":\"3242\"},{\"id\":\"3243\"},{\"id\":\"3244\"},{\"id\":\"3245\"},{\"id\":\"3246\"},{\"id\":\"3247\"}]},\"id\":\"3199\",\"type\":\"DatetimeTicker\"},{\"attributes\":{\"axis\":{\"id\":\"3202\"},\"coordinates\":null,\"dimension\":1,\"grid_line_alpha\":0.3,\"group\":null,\"ticker\":null},\"id\":\"3205\",\"type\":\"Grid\"},{\"attributes\":{},\"id\":\"3228\",\"type\":\"BasicTickFormatter\"},{\"attributes\":{\"days\":[1,4,7,10,13,16,19,22,25,28]},\"id\":\"3240\",\"type\":\"DaysTicker\"},{\"attributes\":{},\"id\":\"3207\",\"type\":\"WheelZoomTool\"},{\"attributes\":{},\"id\":\"3229\",\"type\":\"AllLabels\"},{\"attributes\":{\"data\":{\"x\":{\"__ndarray__\":\"AABAPxU1eEIAACiuGDV4QgAAEB0cNXhCAAD4ix81eEIAAOD6IjV4QgAAyGkmNXhCAACw2Ck1eEIAAJhHLTV4QgAAgLYwNXhCAABoJTQ1eEIAAFCUNzV4QgAAOAM7NXhCAAAgcj41eEIAAAjhQTV4QgAA8E9FNXhCAADYvkg1eEIAAMAtTDV4QgAAqJxPNXhCAACQC1M1eEIAAHh6VjV4QgAAYOlZNXhCAABIWF01eEIAADDHYDV4QgAAGDZkNXhCAAAApWc1eEIAAOgTazV4QgAA0IJuNXhCAAC48XE1eEIAAKBgdTV4QgAAiM94NXhCAABwPnw1eEIAAFitfzV4QgAAQByDNXhCAAAoi4Y1eEIAABD6iTV4QgAA+GiNNXhCAADg15A1eEIAAMhGlDV4QgAAsLWXNXhCAACYJJs1eEIAAICTnjV4QgAAaAKiNXhCAABQcaU1eEIAADjgqDV4QgAAIE+sNXhCAAAIvq81eEIAAPAsszV4QgAA2Ju2NXhCAADACro1eEIAAKh5vTV4QgAAkOjANXhCAAB4V8Q1eEIAAGDGxzV4QgAASDXLNXhCAAAwpM41eEIAABgT0jV4QgAAAILVNXhCAADo8Ng1eEIAANBf3DV4QgAAuM7fNXhCAACgPeM1eEIAAIis5jV4QgAAcBvqNXhCAABYiu01eEIAAED58DV4QgAAKGj0NXhCAAAQ1/c1eEIAAPhF+zV4QgAA4LT+NXhCAADIIwI2eEIAALCSBTZ4QgAAmAEJNnhCAACAcAw2eEIAAGjfDzZ4QgAAUE4TNnhCAAA4vRY2eEIAACAsGjZ4QgAACJsdNnhCAADwCSE2eEIAANh4JDZ4QgAAwOcnNnhCAACoVis2eEIAAJDFLjZ4QgAAeDQyNnhCAABgozU2eEIAAEgSOTZ4QgAAMIE8NnhCAAAY8D82eEIAAABfQzZ4QgAA6M1GNnhCAADQPEo2eEIAALirTTZ4QgAAoBpRNnhCAACIiVQ2eEIAAHD4VzZ4QgAAWGdbNnhCAABA1l42eEIAAChFYjZ4QgAAELRlNnhCAAD4Imk2eEIAAOCRbDZ4QgAAyABwNnhCAACwb3M2eEIAAJjedjZ4QgAAgE16NnhCAABovH02eEIAAFArgTZ4QgAAOJqENnhCAAAgCYg2eEIAAAh4izZ4QgAA8OaONnhCAADYVZI2eEIAAMDElTZ4QgAAqDOZNnhCAACQopw2eEIAAHgRoDZ4QgAAYICjNnhCAABI76Y2eEIAADBeqjZ4QgAAGM2tNnhCAAAAPLE2eEIAAOiqtDZ4QgAA0Bm4NnhCAAC4iLs2eEIAAKD3vjZ4QgAAiGbCNnhCAABw1cU2eEIAAFhEyTZ4QgAAQLPMNnhCAAAoItA2eEIAABCR0zZ4QgAA+P/WNnhCAADgbto2eEIAAMjd3TZ4QgAAsEzhNnhCAACYu+Q2eEIAAIAq6DZ4QgAAaJnrNnhCAABQCO82eEIAADh38jZ4QgAAIOb1NnhCAAAIVfk2eEIAAPDD/DZ4QgAA2DIAN3hCAADAoQM3eEIAAKgQBzd4QgAAkH8KN3hCAAB47g03eEIAAGBdETd4QgAASMwUN3hCAAAwOxg3eEIAABiqGzd4QgAAABkfN3hCAADohyI3eEIAAND2JTd4QgAAuGUpN3hCAACg1Cw3eEIAAIhDMDd4QgAAcLIzN3hCAABYITc3eEIAAECQOjd4QgAAKP89N3hCAAAQbkE3eEIAAPjcRDd4QgAA4EtIN3hCAADIuks3eEIAALApTzd4Qg==\",\"dtype\":\"float64\",\"order\":\"little\",\"shape\":[167]},\"y\":{\"__ndarray__\":\"t9EA3gIJ3j/biv1l9+TdPynLEMe6uN0/MZkqGJXU3T+wA+eMKO3dP15LyAc9m90/AU2EDU+v3D/uWkI+6NncPyzUmuYdp9w/54wo7Q2+3D8BTYQNT6/cP86qz9VW7Ns/PE7RkVz+2z99PzVeukncP/cGX5hMFdw/klz+Q/rt2z8rhxbZzvfbP/FjzF1LyNs/NIC3QILi2z90RpT2Bl/cP2WqYFRSJ9w/bHh6pSxD3D+tad5xio7cP5p3nKIjudw/z/dT46Wb3D8JG55eKcvcP+m3rwPnjNw/irDh6ZWy3D/jNhrAWyDdP/YoXI/C9dw/bcX+snvy3D/99nXgnBHdP36MuWsJ+dw/EhQ/xty13D8s1JrmHafcP6JFtvP91Nw/aCJseHql3D8LRiV1AprcPz2bVZ+rrdw/LNSa5h2n3D9XW7G/7J7cP5OpglFJndw/ppvEILBy3D8UP8bctYTcP2pN845TdNw/FmpN845T3D/+1HjpJjHcP/p+arx0k9w/mnecoiO53D8UP8bctYTcP+QUHcnlP9w/ylTBqKRO3D/r4jYawFvcPwWjkjoBTdw/VOOlm8Qg3D/129eBc0bcPwWjkjoBTdw/0ETY8PRK3T8kKH6MuWvdP1ioNc07Tt0/MEymCkYl3T+e76fGSzfdP1UwKqkT0Nw/ppvEILBy3D9OYhBYObTcP8/3U+Olm9w/KqkT0ETY3D87cM6I0t7cP+VhodY079w/3GgAb4EE3T9v8IXJVMHcP3EbDeAtkNw/hA1Pr5Rl3D/AWyBB8WPcP6kT0ETY8Nw/gQTFjzF33T82zTtO0ZHcP/p+arx0k9w/WDm0yHa+2z9fB84ZUdrbP7u4jQbwFtw/T0ATYcPT2z9bsb/snjzcP1K4HoXrUdw/SL99HThn3D9Iv30dOGfcP1K4HoXrUdw/OPjCZKpg3D+ad5yiI7ncP7raiv1l99w/1JrmHafo3D+GWtO84xTdP1HaG3xhMt0/YqHWNO843T80orQ3+MLcPzbNO07Rkdw/VTAqqRPQ3D9txf6ye/LcPzlFR3L5D90/H4XrUbge3T/FILByaJHdP9/gC5Opgt0/BcWPMXct3T/5oGez6nPdPy0hH/RsVt0/KH6MuWsJ3T+J0t7gC5PdP84ZUdobfN0/j8L1KFyP3j/pJjEIrBzePwTnjCjtDd4/arx0kxgE3j/OGVHaG3zdPwXFjzF3Ld0/Ne84RUdy3T9iodY07zjdP4Za07zjFN0/MEymCkYl3T9fKcsQx7rcP7MMcayL29w/IbByaJHt3D8Q6bevA+fcP9Sa5h2n6Nw/tTf4wmSq3D+WIY51cRvdPxWMSuoENN0/kst/SL993T+hZ7Pqc7XdPzy9UpYhjt0/PL1SliGO3T/mriXkg57dP9Xnaiv2l90/K/aX3ZOH3T9cIEHxY8zdP2UZ4lgXt90/K/aX3ZOH3T/y0k1iEFjdP6OSOgFNhN0/JCh+jLlr3T/wp8ZLN4ndPyv2l92Th90/mG4Sg8DK3T/3deCcEaXdP0a28/3UeN0/Z0Rpb/CF3T+9UpYhjnXdP6OSOgFNhN0/gQTFjzF33T/5oGez6nPdP84ZUdobfN0/MEymCkYl3T+pE9BE2PDcPztwzojS3tw/7C+7Jw8L3T/caABvgQTdPyh+jLlrCd0/rrZif9k93T+NKO0NvjDdP7ivA+eMKN0/0m9fB84Z3T9I4XoUrkfdP2B2Tx4Wat0/+8vuycNC3T/HSzeJQWDdP4v9ZffkYd0/i/1l9+Rh3T8ofoy5awndPw==\",\"dtype\":\"float64\",\"order\":\"little\",\"shape\":[167]}},\"selected\":{\"id\":\"3234\"},\"selection_policy\":{\"id\":\"3233\"}},\"id\":\"3220\",\"type\":\"ColumnDataSource\"},{\"attributes\":{\"coordinates\":null,\"data_source\":{\"id\":\"3220\"},\"glyph\":{\"id\":\"3221\"},\"group\":null,\"hover_glyph\":null,\"muted_glyph\":{\"id\":\"3223\"},\"nonselection_glyph\":{\"id\":\"3222\"},\"view\":{\"id\":\"3225\"}},\"id\":\"3224\",\"type\":\"GlyphRenderer\"},{\"attributes\":{},\"id\":\"3203\",\"type\":\"BasicTicker\"},{\"attributes\":{\"overlay\":{\"id\":\"3212\"}},\"id\":\"3208\",\"type\":\"BoxZoomTool\"},{\"attributes\":{},\"id\":\"3231\",\"type\":\"DatetimeTickFormatter\"},{\"attributes\":{\"months\":[0,1,2,3,4,5,6,7,8,9,10,11]},\"id\":\"3243\",\"type\":\"MonthsTicker\"},{\"attributes\":{},\"id\":\"3210\",\"type\":\"ResetTool\"},{\"attributes\":{},\"id\":\"3194\",\"type\":\"LinearScale\"},{\"attributes\":{\"line_color\":\"#f2a900\",\"x\":{\"field\":\"x\"},\"y\":{\"field\":\"y\"}},\"id\":\"3221\",\"type\":\"Line\"},{\"attributes\":{\"mantissas\":[1,2,5],\"max_interval\":500.0,\"num_minor_ticks\":0},\"id\":\"3236\",\"type\":\"AdaptiveTicker\"},{\"attributes\":{},\"id\":\"3196\",\"type\":\"LinearScale\"},{\"attributes\":{},\"id\":\"3232\",\"type\":\"AllLabels\"},{\"attributes\":{\"coordinates\":null,\"group\":null,\"items\":[{\"id\":\"3249\"}],\"location\":\"top_left\"},\"id\":\"3248\",\"type\":\"Legend\"},{\"attributes\":{\"base\":60,\"mantissas\":[1,2,5,10,15,20,30],\"max_interval\":1800000.0,\"min_interval\":1000.0,\"num_minor_ticks\":0},\"id\":\"3237\",\"type\":\"AdaptiveTicker\"},{\"attributes\":{\"days\":[1,2,3,4,5,6,7,8,9,10,11,12,13,14,15,16,17,18,19,20,21,22,23,24,25,26,27,28,29,30,31]},\"id\":\"3239\",\"type\":\"DaysTicker\"},{\"attributes\":{\"line_alpha\":0.1,\"line_color\":\"#f2a900\",\"x\":{\"field\":\"x\"},\"y\":{\"field\":\"y\"}},\"id\":\"3222\",\"type\":\"Line\"},{\"attributes\":{\"source\":{\"id\":\"3220\"}},\"id\":\"3225\",\"type\":\"CDSView\"},{\"attributes\":{},\"id\":\"3192\",\"type\":\"DataRange1d\"},{\"attributes\":{\"months\":[0,2,4,6,8,10]},\"id\":\"3244\",\"type\":\"MonthsTicker\"},{\"attributes\":{\"months\":[0,4,8]},\"id\":\"3245\",\"type\":\"MonthsTicker\"},{\"attributes\":{\"line_alpha\":0.2,\"line_color\":\"#f2a900\",\"x\":{\"field\":\"x\"},\"y\":{\"field\":\"y\"}},\"id\":\"3223\",\"type\":\"Line\"},{\"attributes\":{},\"id\":\"3247\",\"type\":\"YearsTicker\"},{\"attributes\":{\"label\":{\"value\":\"Cardano\"},\"renderers\":[{\"id\":\"3224\"}]},\"id\":\"3249\",\"type\":\"LegendItem\"},{\"attributes\":{\"months\":[0,6]},\"id\":\"3246\",\"type\":\"MonthsTicker\"},{\"attributes\":{\"tools\":[{\"id\":\"3206\"},{\"id\":\"3207\"},{\"id\":\"3208\"},{\"id\":\"3209\"},{\"id\":\"3210\"},{\"id\":\"3211\"}]},\"id\":\"3213\",\"type\":\"Toolbar\"},{\"attributes\":{\"axis_label\":\"Price\",\"coordinates\":null,\"formatter\":{\"id\":\"3228\"},\"group\":null,\"major_label_policy\":{\"id\":\"3229\"},\"ticker\":{\"id\":\"3203\"}},\"id\":\"3202\",\"type\":\"LinearAxis\"},{\"attributes\":{},\"id\":\"3209\",\"type\":\"SaveTool\"},{\"attributes\":{},\"id\":\"3233\",\"type\":\"UnionRenderers\"},{\"attributes\":{},\"id\":\"3206\",\"type\":\"PanTool\"},{\"attributes\":{},\"id\":\"3234\",\"type\":\"Selection\"},{\"attributes\":{},\"id\":\"3190\",\"type\":\"DataRange1d\"}],\"root_ids\":[\"3187\"]},\"title\":\"Bokeh Application\",\"version\":\"2.4.3\"}};\n  const render_items = [{\"docid\":\"9dd3fceb-31a1-4567-b79f-9b3d6b865805\",\"root_ids\":[\"3187\"],\"roots\":{\"3187\":\"be171f13-a53e-49df-a459-1dca6860b010\"}}];\n  root.Bokeh.embed.embed_items_notebook(docs_json, render_items);\n  }\n  if (root.Bokeh !== undefined) {\n    embed_document(root);\n  } else {\n    let attempts = 0;\n    const timer = setInterval(function(root) {\n      if (root.Bokeh !== undefined) {\n        clearInterval(timer);\n        embed_document(root);\n      } else {\n        attempts++;\n        if (attempts > 100) {\n          clearInterval(timer);\n          console.log(\"Bokeh: ERROR: Unable to run BokehJS code because BokehJS library is missing\");\n        }\n      }\n    }, 10, root)\n  }\n})(window);",
      "application/vnd.bokehjs_exec.v0+json": ""
     },
     "metadata": {
      "application/vnd.bokehjs_exec.v0+json": {
       "id": "3187"
      }
     },
     "output_type": "display_data"
    }
   ],
   "source": [
    "output_notebook()\n",
    "p = figure(x_axis_type=\"datetime\", title=\"Crypto Prices\", width=800)\n",
    "p.grid.grid_line_alpha=0.3\n",
    "p.xaxis.axis_label = 'Date'\n",
    "p.yaxis.axis_label = 'Price'\n",
    "\n",
    "p.line(ada_ohlc_1h.index, ada_ohlc_1h['ClosePrice'], color='#f2a900', legend_label='Cardano')\n",
    "p.legend.location = \"top_left\"\n",
    "\n",
    "show(p)"
   ]
  },
  {
   "cell_type": "markdown",
   "metadata": {},
   "source": [
    "### Solana"
   ]
  },
  {
   "cell_type": "code",
   "execution_count": 38,
   "metadata": {},
   "outputs": [
    {
     "data": {
      "text/html": [
       "<div class=\"bk-root\">\n",
       "        <a href=\"https://bokeh.org\" target=\"_blank\" class=\"bk-logo bk-logo-small bk-logo-notebook\"></a>\n",
       "        <span id=\"3558\">Loading BokehJS ...</span>\n",
       "    </div>\n"
      ]
     },
     "metadata": {},
     "output_type": "display_data"
    },
    {
     "data": {
      "application/javascript": "(function(root) {\n  function now() {\n    return new Date();\n  }\n\n  const force = true;\n\n  if (typeof root._bokeh_onload_callbacks === \"undefined\" || force === true) {\n    root._bokeh_onload_callbacks = [];\n    root._bokeh_is_loading = undefined;\n  }\n\nconst JS_MIME_TYPE = 'application/javascript';\n  const HTML_MIME_TYPE = 'text/html';\n  const EXEC_MIME_TYPE = 'application/vnd.bokehjs_exec.v0+json';\n  const CLASS_NAME = 'output_bokeh rendered_html';\n\n  /**\n   * Render data to the DOM node\n   */\n  function render(props, node) {\n    const script = document.createElement(\"script\");\n    node.appendChild(script);\n  }\n\n  /**\n   * Handle when an output is cleared or removed\n   */\n  function handleClearOutput(event, handle) {\n    const cell = handle.cell;\n\n    const id = cell.output_area._bokeh_element_id;\n    const server_id = cell.output_area._bokeh_server_id;\n    // Clean up Bokeh references\n    if (id != null && id in Bokeh.index) {\n      Bokeh.index[id].model.document.clear();\n      delete Bokeh.index[id];\n    }\n\n    if (server_id !== undefined) {\n      // Clean up Bokeh references\n      const cmd_clean = \"from bokeh.io.state import curstate; print(curstate().uuid_to_server['\" + server_id + \"'].get_sessions()[0].document.roots[0]._id)\";\n      cell.notebook.kernel.execute(cmd_clean, {\n        iopub: {\n          output: function(msg) {\n            const id = msg.content.text.trim();\n            if (id in Bokeh.index) {\n              Bokeh.index[id].model.document.clear();\n              delete Bokeh.index[id];\n            }\n          }\n        }\n      });\n      // Destroy server and session\n      const cmd_destroy = \"import bokeh.io.notebook as ion; ion.destroy_server('\" + server_id + \"')\";\n      cell.notebook.kernel.execute(cmd_destroy);\n    }\n  }\n\n  /**\n   * Handle when a new output is added\n   */\n  function handleAddOutput(event, handle) {\n    const output_area = handle.output_area;\n    const output = handle.output;\n\n    // limit handleAddOutput to display_data with EXEC_MIME_TYPE content only\n    if ((output.output_type != \"display_data\") || (!Object.prototype.hasOwnProperty.call(output.data, EXEC_MIME_TYPE))) {\n      return\n    }\n\n    const toinsert = output_area.element.find(\".\" + CLASS_NAME.split(' ')[0]);\n\n    if (output.metadata[EXEC_MIME_TYPE][\"id\"] !== undefined) {\n      toinsert[toinsert.length - 1].firstChild.textContent = output.data[JS_MIME_TYPE];\n      // store reference to embed id on output_area\n      output_area._bokeh_element_id = output.metadata[EXEC_MIME_TYPE][\"id\"];\n    }\n    if (output.metadata[EXEC_MIME_TYPE][\"server_id\"] !== undefined) {\n      const bk_div = document.createElement(\"div\");\n      bk_div.innerHTML = output.data[HTML_MIME_TYPE];\n      const script_attrs = bk_div.children[0].attributes;\n      for (let i = 0; i < script_attrs.length; i++) {\n        toinsert[toinsert.length - 1].firstChild.setAttribute(script_attrs[i].name, script_attrs[i].value);\n        toinsert[toinsert.length - 1].firstChild.textContent = bk_div.children[0].textContent\n      }\n      // store reference to server id on output_area\n      output_area._bokeh_server_id = output.metadata[EXEC_MIME_TYPE][\"server_id\"];\n    }\n  }\n\n  function register_renderer(events, OutputArea) {\n\n    function append_mime(data, metadata, element) {\n      // create a DOM node to render to\n      const toinsert = this.create_output_subarea(\n        metadata,\n        CLASS_NAME,\n        EXEC_MIME_TYPE\n      );\n      this.keyboard_manager.register_events(toinsert);\n      // Render to node\n      const props = {data: data, metadata: metadata[EXEC_MIME_TYPE]};\n      render(props, toinsert[toinsert.length - 1]);\n      element.append(toinsert);\n      return toinsert\n    }\n\n    /* Handle when an output is cleared or removed */\n    events.on('clear_output.CodeCell', handleClearOutput);\n    events.on('delete.Cell', handleClearOutput);\n\n    /* Handle when a new output is added */\n    events.on('output_added.OutputArea', handleAddOutput);\n\n    /**\n     * Register the mime type and append_mime function with output_area\n     */\n    OutputArea.prototype.register_mime_type(EXEC_MIME_TYPE, append_mime, {\n      /* Is output safe? */\n      safe: true,\n      /* Index of renderer in `output_area.display_order` */\n      index: 0\n    });\n  }\n\n  // register the mime type if in Jupyter Notebook environment and previously unregistered\n  if (root.Jupyter !== undefined) {\n    const events = require('base/js/events');\n    const OutputArea = require('notebook/js/outputarea').OutputArea;\n\n    if (OutputArea.prototype.mime_types().indexOf(EXEC_MIME_TYPE) == -1) {\n      register_renderer(events, OutputArea);\n    }\n  }\n  if (typeof (root._bokeh_timeout) === \"undefined\" || force === true) {\n    root._bokeh_timeout = Date.now() + 5000;\n    root._bokeh_failed_load = false;\n  }\n\n  const NB_LOAD_WARNING = {'data': {'text/html':\n     \"<div style='background-color: #fdd'>\\n\"+\n     \"<p>\\n\"+\n     \"BokehJS does not appear to have successfully loaded. If loading BokehJS from CDN, this \\n\"+\n     \"may be due to a slow or bad network connection. Possible fixes:\\n\"+\n     \"</p>\\n\"+\n     \"<ul>\\n\"+\n     \"<li>re-rerun `output_notebook()` to attempt to load from CDN again, or</li>\\n\"+\n     \"<li>use INLINE resources instead, as so:</li>\\n\"+\n     \"</ul>\\n\"+\n     \"<code>\\n\"+\n     \"from bokeh.resources import INLINE\\n\"+\n     \"output_notebook(resources=INLINE)\\n\"+\n     \"</code>\\n\"+\n     \"</div>\"}};\n\n  function display_loaded() {\n    const el = document.getElementById(\"3558\");\n    if (el != null) {\n      el.textContent = \"BokehJS is loading...\";\n    }\n    if (root.Bokeh !== undefined) {\n      if (el != null) {\n        el.textContent = \"BokehJS \" + root.Bokeh.version + \" successfully loaded.\";\n      }\n    } else if (Date.now() < root._bokeh_timeout) {\n      setTimeout(display_loaded, 100)\n    }\n  }\n\n  function run_callbacks() {\n    try {\n      root._bokeh_onload_callbacks.forEach(function(callback) {\n        if (callback != null)\n          callback();\n      });\n    } finally {\n      delete root._bokeh_onload_callbacks\n    }\n    console.debug(\"Bokeh: all callbacks have finished\");\n  }\n\n  function load_libs(css_urls, js_urls, callback) {\n    if (css_urls == null) css_urls = [];\n    if (js_urls == null) js_urls = [];\n\n    root._bokeh_onload_callbacks.push(callback);\n    if (root._bokeh_is_loading > 0) {\n      console.debug(\"Bokeh: BokehJS is being loaded, scheduling callback at\", now());\n      return null;\n    }\n    if (js_urls == null || js_urls.length === 0) {\n      run_callbacks();\n      return null;\n    }\n    console.debug(\"Bokeh: BokehJS not loaded, scheduling load and callback at\", now());\n    root._bokeh_is_loading = css_urls.length + js_urls.length;\n\n    function on_load() {\n      root._bokeh_is_loading--;\n      if (root._bokeh_is_loading === 0) {\n        console.debug(\"Bokeh: all BokehJS libraries/stylesheets loaded\");\n        run_callbacks()\n      }\n    }\n\n    function on_error(url) {\n      console.error(\"failed to load \" + url);\n    }\n\n    for (let i = 0; i < css_urls.length; i++) {\n      const url = css_urls[i];\n      const element = document.createElement(\"link\");\n      element.onload = on_load;\n      element.onerror = on_error.bind(null, url);\n      element.rel = \"stylesheet\";\n      element.type = \"text/css\";\n      element.href = url;\n      console.debug(\"Bokeh: injecting link tag for BokehJS stylesheet: \", url);\n      document.body.appendChild(element);\n    }\n\n    for (let i = 0; i < js_urls.length; i++) {\n      const url = js_urls[i];\n      const element = document.createElement('script');\n      element.onload = on_load;\n      element.onerror = on_error.bind(null, url);\n      element.async = false;\n      element.src = url;\n      console.debug(\"Bokeh: injecting script tag for BokehJS library: \", url);\n      document.head.appendChild(element);\n    }\n  };\n\n  function inject_raw_css(css) {\n    const element = document.createElement(\"style\");\n    element.appendChild(document.createTextNode(css));\n    document.body.appendChild(element);\n  }\n\n  const js_urls = [\"https://cdn.bokeh.org/bokeh/release/bokeh-2.4.3.min.js\", \"https://cdn.bokeh.org/bokeh/release/bokeh-gl-2.4.3.min.js\", \"https://cdn.bokeh.org/bokeh/release/bokeh-widgets-2.4.3.min.js\", \"https://cdn.bokeh.org/bokeh/release/bokeh-tables-2.4.3.min.js\", \"https://cdn.bokeh.org/bokeh/release/bokeh-mathjax-2.4.3.min.js\"];\n  const css_urls = [];\n\n  const inline_js = [    function(Bokeh) {\n      Bokeh.set_log_level(\"info\");\n    },\nfunction(Bokeh) {\n    }\n  ];\n\n  function run_inline_js() {\n    if (root.Bokeh !== undefined || force === true) {\n          for (let i = 0; i < inline_js.length; i++) {\n      inline_js[i].call(root, root.Bokeh);\n    }\nif (force === true) {\n        display_loaded();\n      }} else if (Date.now() < root._bokeh_timeout) {\n      setTimeout(run_inline_js, 100);\n    } else if (!root._bokeh_failed_load) {\n      console.log(\"Bokeh: BokehJS failed to load within specified timeout.\");\n      root._bokeh_failed_load = true;\n    } else if (force !== true) {\n      const cell = $(document.getElementById(\"3558\")).parents('.cell').data().cell;\n      cell.output_area.append_execute_result(NB_LOAD_WARNING)\n    }\n  }\n\n  if (root._bokeh_is_loading === 0) {\n    console.debug(\"Bokeh: BokehJS loaded, going straight to plotting\");\n    run_inline_js();\n  } else {\n    load_libs(css_urls, js_urls, function() {\n      console.debug(\"Bokeh: BokehJS plotting callback run at\", now());\n      run_inline_js();\n    });\n  }\n}(window));",
      "application/vnd.bokehjs_load.v0+json": ""
     },
     "metadata": {},
     "output_type": "display_data"
    },
    {
     "data": {
      "text/html": [
       "\n",
       "  <div class=\"bk-root\" id=\"b22ecdbd-edb8-4b6f-88a6-b3d9622d0d52\" data-root-id=\"3559\"></div>\n"
      ]
     },
     "metadata": {},
     "output_type": "display_data"
    },
    {
     "data": {
      "application/javascript": "(function(root) {\n  function embed_document(root) {\n  const docs_json = {\"4eb152b9-034e-48e2-adbf-a119a8160de5\":{\"defs\":[],\"roots\":{\"references\":[{\"attributes\":{\"below\":[{\"id\":\"3570\"}],\"center\":[{\"id\":\"3573\"},{\"id\":\"3577\"},{\"id\":\"3620\"}],\"left\":[{\"id\":\"3574\"}],\"renderers\":[{\"id\":\"3596\"}],\"title\":{\"id\":\"3560\"},\"toolbar\":{\"id\":\"3585\"},\"width\":800,\"x_range\":{\"id\":\"3562\"},\"x_scale\":{\"id\":\"3566\"},\"y_range\":{\"id\":\"3564\"},\"y_scale\":{\"id\":\"3568\"}},\"id\":\"3559\",\"subtype\":\"Figure\",\"type\":\"Plot\"},{\"attributes\":{\"coordinates\":null,\"group\":null,\"text\":\"Crypto Prices\"},\"id\":\"3560\",\"type\":\"Title\"},{\"attributes\":{},\"id\":\"3606\",\"type\":\"Selection\"},{\"attributes\":{\"days\":[1,8,15,22]},\"id\":\"3613\",\"type\":\"DaysTicker\"},{\"attributes\":{\"coordinates\":null,\"data_source\":{\"id\":\"3592\"},\"glyph\":{\"id\":\"3593\"},\"group\":null,\"hover_glyph\":null,\"muted_glyph\":{\"id\":\"3595\"},\"nonselection_glyph\":{\"id\":\"3594\"},\"view\":{\"id\":\"3597\"}},\"id\":\"3596\",\"type\":\"GlyphRenderer\"},{\"attributes\":{\"coordinates\":null,\"group\":null,\"items\":[{\"id\":\"3621\"}],\"location\":\"top_left\"},\"id\":\"3620\",\"type\":\"Legend\"},{\"attributes\":{\"bottom_units\":\"screen\",\"coordinates\":null,\"fill_alpha\":0.5,\"fill_color\":\"lightgrey\",\"group\":null,\"left_units\":\"screen\",\"level\":\"overlay\",\"line_alpha\":1.0,\"line_color\":\"black\",\"line_dash\":[4,4],\"line_width\":2,\"right_units\":\"screen\",\"syncable\":false,\"top_units\":\"screen\"},\"id\":\"3584\",\"type\":\"BoxAnnotation\"},{\"attributes\":{\"months\":[0,4,8]},\"id\":\"3617\",\"type\":\"MonthsTicker\"},{\"attributes\":{},\"id\":\"3619\",\"type\":\"YearsTicker\"},{\"attributes\":{\"source\":{\"id\":\"3592\"}},\"id\":\"3597\",\"type\":\"CDSView\"},{\"attributes\":{\"overlay\":{\"id\":\"3584\"}},\"id\":\"3580\",\"type\":\"BoxZoomTool\"},{\"attributes\":{\"axis_label\":\"Date\",\"coordinates\":null,\"formatter\":{\"id\":\"3603\"},\"group\":null,\"major_label_policy\":{\"id\":\"3604\"},\"ticker\":{\"id\":\"3571\"}},\"id\":\"3570\",\"type\":\"DatetimeAxis\"},{\"attributes\":{},\"id\":\"3568\",\"type\":\"LinearScale\"},{\"attributes\":{},\"id\":\"3600\",\"type\":\"BasicTickFormatter\"},{\"attributes\":{},\"id\":\"3562\",\"type\":\"DataRange1d\"},{\"attributes\":{},\"id\":\"3564\",\"type\":\"DataRange1d\"},{\"attributes\":{\"line_color\":\"#f2a900\",\"x\":{\"field\":\"x\"},\"y\":{\"field\":\"y\"}},\"id\":\"3593\",\"type\":\"Line\"},{\"attributes\":{},\"id\":\"3578\",\"type\":\"PanTool\"},{\"attributes\":{},\"id\":\"3601\",\"type\":\"AllLabels\"},{\"attributes\":{\"axis\":{\"id\":\"3570\"},\"coordinates\":null,\"grid_line_alpha\":0.3,\"group\":null,\"ticker\":null},\"id\":\"3573\",\"type\":\"Grid\"},{\"attributes\":{\"line_alpha\":0.2,\"line_color\":\"#f2a900\",\"x\":{\"field\":\"x\"},\"y\":{\"field\":\"y\"}},\"id\":\"3595\",\"type\":\"Line\"},{\"attributes\":{},\"id\":\"3603\",\"type\":\"DatetimeTickFormatter\"},{\"attributes\":{\"mantissas\":[1,2,5],\"max_interval\":500.0,\"num_minor_ticks\":0},\"id\":\"3608\",\"type\":\"AdaptiveTicker\"},{\"attributes\":{\"label\":{\"value\":\"Solana\"},\"renderers\":[{\"id\":\"3596\"}]},\"id\":\"3621\",\"type\":\"LegendItem\"},{\"attributes\":{\"base\":60,\"mantissas\":[1,2,5,10,15,20,30],\"max_interval\":1800000.0,\"min_interval\":1000.0,\"num_minor_ticks\":0},\"id\":\"3609\",\"type\":\"AdaptiveTicker\"},{\"attributes\":{},\"id\":\"3604\",\"type\":\"AllLabels\"},{\"attributes\":{\"days\":[1,2,3,4,5,6,7,8,9,10,11,12,13,14,15,16,17,18,19,20,21,22,23,24,25,26,27,28,29,30,31]},\"id\":\"3611\",\"type\":\"DaysTicker\"},{\"attributes\":{},\"id\":\"3581\",\"type\":\"SaveTool\"},{\"attributes\":{\"base\":24,\"mantissas\":[1,2,4,6,8,12],\"max_interval\":43200000.0,\"min_interval\":3600000.0,\"num_minor_ticks\":0},\"id\":\"3610\",\"type\":\"AdaptiveTicker\"},{\"attributes\":{\"axis\":{\"id\":\"3574\"},\"coordinates\":null,\"dimension\":1,\"grid_line_alpha\":0.3,\"group\":null,\"ticker\":null},\"id\":\"3577\",\"type\":\"Grid\"},{\"attributes\":{\"line_alpha\":0.1,\"line_color\":\"#f2a900\",\"x\":{\"field\":\"x\"},\"y\":{\"field\":\"y\"}},\"id\":\"3594\",\"type\":\"Line\"},{\"attributes\":{\"data\":{\"x\":{\"__ndarray__\":\"AABAPxU1eEIAACiuGDV4QgAAEB0cNXhCAAD4ix81eEIAAOD6IjV4QgAAyGkmNXhCAACw2Ck1eEIAAJhHLTV4QgAAgLYwNXhCAABoJTQ1eEIAAFCUNzV4QgAAOAM7NXhCAAAgcj41eEIAAAjhQTV4QgAA8E9FNXhCAADYvkg1eEIAAMAtTDV4QgAAqJxPNXhCAACQC1M1eEIAAHh6VjV4QgAAYOlZNXhCAABIWF01eEIAADDHYDV4QgAAGDZkNXhCAAAApWc1eEIAAOgTazV4QgAA0IJuNXhCAAC48XE1eEIAAKBgdTV4QgAAiM94NXhCAABwPnw1eEIAAFitfzV4QgAAQByDNXhCAAAoi4Y1eEIAABD6iTV4QgAA+GiNNXhCAADg15A1eEIAAMhGlDV4QgAAsLWXNXhCAACYJJs1eEIAAICTnjV4QgAAaAKiNXhCAABQcaU1eEIAADjgqDV4QgAAIE+sNXhCAAAIvq81eEIAAPAsszV4QgAA2Ju2NXhCAADACro1eEIAAKh5vTV4QgAAkOjANXhCAAB4V8Q1eEIAAGDGxzV4QgAASDXLNXhCAAAwpM41eEIAABgT0jV4QgAAAILVNXhCAADo8Ng1eEIAANBf3DV4QgAAuM7fNXhCAACgPeM1eEIAAIis5jV4QgAAcBvqNXhCAABYiu01eEIAAED58DV4QgAAKGj0NXhCAAAQ1/c1eEIAAPhF+zV4QgAA4LT+NXhCAADIIwI2eEIAALCSBTZ4QgAAmAEJNnhCAACAcAw2eEIAAGjfDzZ4QgAAUE4TNnhCAAA4vRY2eEIAACAsGjZ4QgAACJsdNnhCAADwCSE2eEIAANh4JDZ4QgAAwOcnNnhCAACoVis2eEIAAJDFLjZ4QgAAeDQyNnhCAABgozU2eEIAAEgSOTZ4QgAAMIE8NnhCAAAY8D82eEIAAABfQzZ4QgAA6M1GNnhCAADQPEo2eEIAALirTTZ4QgAAoBpRNnhCAACIiVQ2eEIAAHD4VzZ4QgAAWGdbNnhCAABA1l42eEIAAChFYjZ4QgAAELRlNnhCAAD4Imk2eEIAAOCRbDZ4QgAAyABwNnhCAACwb3M2eEIAAJjedjZ4QgAAgE16NnhCAABovH02eEIAAFArgTZ4QgAAOJqENnhCAAAgCYg2eEIAAAh4izZ4QgAA8OaONnhCAADYVZI2eEIAAMDElTZ4QgAAqDOZNnhCAACQopw2eEIAAHgRoDZ4QgAAYICjNnhCAABI76Y2eEIAADBeqjZ4QgAAGM2tNnhCAAAAPLE2eEIAAOiqtDZ4QgAA0Bm4NnhCAAC4iLs2eEIAAKD3vjZ4QgAAiGbCNnhCAABw1cU2eEIAAFhEyTZ4QgAAQLPMNnhCAAAoItA2eEIAABCR0zZ4QgAA+P/WNnhCAADgbto2eEIAAMjd3TZ4QgAAsEzhNnhCAACYu+Q2eEIAAIAq6DZ4QgAAaJnrNnhCAABQCO82eEIAADh38jZ4QgAAIOb1NnhCAAAIVfk2eEIAAPDD/DZ4QgAA2DIAN3hCAADAoQM3eEIAAKgQBzd4QgAAkH8KN3hCAAB47g03eEIAAGBdETd4QgAASMwUN3hCAAAwOxg3eEIAABiqGzd4QgAAABkfN3hCAADohyI3eEIAAND2JTd4QgAAuGUpN3hCAACg1Cw3eEIAAIhDMDd4QgAAcLIzN3hCAABYITc3eEIAAECQOjd4QgAAKP89N3hCAAAQbkE3eEIAAPjcRDd4QgAA4EtIN3hCAADIuks3eEIAALApTzd4Qg==\",\"dtype\":\"float64\",\"order\":\"little\",\"shape\":[167]},\"y\":{\"__ndarray__\":\"MzMzMzNzQEBI4XoUrkdAQHE9CtejMEBApHA9CtcjQEAUrkfhejRAQKRwPQrXI0BAXI/C9ShcP0BI4XoUrkc/QJqZmZmZGT9A16NwPQqXP0AAAAAAAIA/QM3MzMzMzD5AZmZmZmbmPkApXI/C9Wg/QFK4HoXrET9ApHA9CtcjP0Bcj8L1KBw/QNejcD0K1z5APQrXo3D9PkDhehSuR2E/QMP1KFyPQj9AuB6F61F4P0CkcD0K1+M/QClcj8L1CEBA7FG4HoXrP0BxPQrXoxBAQJqZmZmZ2T9AFK5H4Xo0QEBI4XoUrmdAQFyPwvUoXEBAH4XrUbheQEDNzMzMzGxAQI/C9ShcT0BAZmZmZmZGQEDhehSuR0FAQJqZmZmZOUBAuB6F61E4QEBmZmZmZiZAQGZmZmZmJkBAZmZmZmYmQEApXI/C9ShAQIXrUbgeJUBAhetRuB4FQEDXo3A9ChdAQLgehetRGEBASOF6FK4HQEDXo3A9Ctc/QClcj8L1KEBA4XoUrkdBQEB7FK5H4RpAQEjhehSuhz9AhetRuB7FP0DXo3A9Ctc/QPYoXI/CtT9ASOF6FK6HP0C4HoXrUbg/QClcj8L1aD9AuB6F61G4P0DsUbgehas/QArXo3A9yj9A16NwPQrXP0AzMzMzM/M/QDMzMzMzsz9AKVyPwvWoP0DD9Shcj8I/QB+F61G4nj9ApHA9CtejP0BmZmZmZuY/QIXrUbgeBUBAFK5H4XoUQECuR+F6FA5AQHE9CtejsD9Aw/UoXI+CP0CuR+F6FK4/QDMzMzMzM0BAhetRuB6FQEDNzMzMzIw/QArXo3A9ij9AcT0K16OwPkCkcD0K16M+QGZmZmZmpj5A4XoUrkehPkAK16NwPQo/QAAAAAAAAD9AhetRuB4FP0BxPQrXozA/QKRwPQrXIz9Aj8L1KFxPP0A9CtejcL0/QHsUrkfhGkBAFK5H4XoUQEAfhetRuB5AQM3MzMzMLEBAAAAAAAAgQEDD9Shcj8I/QHE9CtejsD9AKVyPwvXoP0ApXI/C9eg/QKRwPQrXA0BAMzMzMzMTQEB7FK5H4TpAQEjhehSuJ0BArkfhehQOQEBxPQrXozBAQNejcD0KN0BA16NwPQoXQEDsUbgehUtAQMP1KFyPQkBAAAAAAACAQECkcD0K14NAQHsUrkfhekBAexSuR+F6QEAK16NwPUpAQAAAAAAAAEBAKVyPwvUIQEA9CtejcL0/QAAAAAAAwD9AMzMzMzPzP0CamZmZmZk/QOxRuB6Faz9A16NwPQqXP0CamZmZmZk/QD0K16NwvT9AUrgeheuRP0CuR+F6FO4/QGZmZmZmRkBA4XoUrkfBQEAAAAAAAOBAQBSuR+F61EBAcT0K16PQQEApXI/C9QhBQK5H4XoUDkFAPQrXo3D9QEBSuB6F6/FAQDMzMzMz80BAuB6F61HYQEA9CtejcN1AQDMzMzMz80BAMzMzMzMTQUCuR+F6FC5BQD0K16NwPUFACtejcD0qQUA9CtejcP1AQArXo3A96kBAXI/C9SjcQEDNzMzMzMxAQHsUrkfhukBAFK5H4XrUQEBI4XoUrgdBQNejcD0K90BAXI/C9Si8QEA9CtejcL1AQHE9CtejsEBAhetRuB7FQEDNzMzMzMxAQEjhehSux0BAuB6F61HYQEAAAAAAAABBQGZmZmZm5kBASOF6FK7nQEBcj8L1KPxAQGZmZmZm5kBAMzMzMzPTQEDXo3A9CtdAQFK4HoXr0UBAzczMzMzMQECuR+F6FK5AQA==\",\"dtype\":\"float64\",\"order\":\"little\",\"shape\":[167]}},\"selected\":{\"id\":\"3606\"},\"selection_policy\":{\"id\":\"3605\"}},\"id\":\"3592\",\"type\":\"ColumnDataSource\"},{\"attributes\":{},\"id\":\"3579\",\"type\":\"WheelZoomTool\"},{\"attributes\":{},\"id\":\"3566\",\"type\":\"LinearScale\"},{\"attributes\":{\"months\":[0,1,2,3,4,5,6,7,8,9,10,11]},\"id\":\"3615\",\"type\":\"MonthsTicker\"},{\"attributes\":{\"months\":[0,2,4,6,8,10]},\"id\":\"3616\",\"type\":\"MonthsTicker\"},{\"attributes\":{\"num_minor_ticks\":5,\"tickers\":[{\"id\":\"3608\"},{\"id\":\"3609\"},{\"id\":\"3610\"},{\"id\":\"3611\"},{\"id\":\"3612\"},{\"id\":\"3613\"},{\"id\":\"3614\"},{\"id\":\"3615\"},{\"id\":\"3616\"},{\"id\":\"3617\"},{\"id\":\"3618\"},{\"id\":\"3619\"}]},\"id\":\"3571\",\"type\":\"DatetimeTicker\"},{\"attributes\":{\"days\":[1,4,7,10,13,16,19,22,25,28]},\"id\":\"3612\",\"type\":\"DaysTicker\"},{\"attributes\":{\"days\":[1,15]},\"id\":\"3614\",\"type\":\"DaysTicker\"},{\"attributes\":{\"axis_label\":\"Price\",\"coordinates\":null,\"formatter\":{\"id\":\"3600\"},\"group\":null,\"major_label_policy\":{\"id\":\"3601\"},\"ticker\":{\"id\":\"3575\"}},\"id\":\"3574\",\"type\":\"LinearAxis\"},{\"attributes\":{\"months\":[0,6]},\"id\":\"3618\",\"type\":\"MonthsTicker\"},{\"attributes\":{\"tools\":[{\"id\":\"3578\"},{\"id\":\"3579\"},{\"id\":\"3580\"},{\"id\":\"3581\"},{\"id\":\"3582\"},{\"id\":\"3583\"}]},\"id\":\"3585\",\"type\":\"Toolbar\"},{\"attributes\":{},\"id\":\"3582\",\"type\":\"ResetTool\"},{\"attributes\":{},\"id\":\"3583\",\"type\":\"HelpTool\"},{\"attributes\":{},\"id\":\"3575\",\"type\":\"BasicTicker\"},{\"attributes\":{},\"id\":\"3605\",\"type\":\"UnionRenderers\"}],\"root_ids\":[\"3559\"]},\"title\":\"Bokeh Application\",\"version\":\"2.4.3\"}};\n  const render_items = [{\"docid\":\"4eb152b9-034e-48e2-adbf-a119a8160de5\",\"root_ids\":[\"3559\"],\"roots\":{\"3559\":\"b22ecdbd-edb8-4b6f-88a6-b3d9622d0d52\"}}];\n  root.Bokeh.embed.embed_items_notebook(docs_json, render_items);\n  }\n  if (root.Bokeh !== undefined) {\n    embed_document(root);\n  } else {\n    let attempts = 0;\n    const timer = setInterval(function(root) {\n      if (root.Bokeh !== undefined) {\n        clearInterval(timer);\n        embed_document(root);\n      } else {\n        attempts++;\n        if (attempts > 100) {\n          clearInterval(timer);\n          console.log(\"Bokeh: ERROR: Unable to run BokehJS code because BokehJS library is missing\");\n        }\n      }\n    }, 10, root)\n  }\n})(window);",
      "application/vnd.bokehjs_exec.v0+json": ""
     },
     "metadata": {
      "application/vnd.bokehjs_exec.v0+json": {
       "id": "3559"
      }
     },
     "output_type": "display_data"
    }
   ],
   "source": [
    "output_notebook()\n",
    "p = figure(x_axis_type=\"datetime\", title=\"Crypto Prices\", width=800)\n",
    "p.grid.grid_line_alpha=0.3\n",
    "p.xaxis.axis_label = 'Date'\n",
    "p.yaxis.axis_label = 'Price'\n",
    "\n",
    "p.line(sol_ohlc_1h.index, sol_ohlc_1h['ClosePrice'], color='#f2a900', legend_label='Solana')\n",
    "p.legend.location = \"top_left\"\n",
    "\n",
    "show(p)"
   ]
  },
  {
   "cell_type": "markdown",
   "metadata": {},
   "source": [
    "![green-divider](https://user-images.githubusercontent.com/7065401/52071924-c003ad80-2562-11e9-8297-1c6595f8a7ff.png)\n",
    "\n",
    "## Correlation between coins"
   ]
  },
  {
   "cell_type": "code",
   "execution_count": 39,
   "metadata": {},
   "outputs": [
    {
     "data": {
      "text/html": [
       "<div>\n",
       "<style scoped>\n",
       "    .dataframe tbody tr th:only-of-type {\n",
       "        vertical-align: middle;\n",
       "    }\n",
       "\n",
       "    .dataframe tbody tr th {\n",
       "        vertical-align: top;\n",
       "    }\n",
       "\n",
       "    .dataframe thead th {\n",
       "        text-align: right;\n",
       "    }\n",
       "</style>\n",
       "<table border=\"1\" class=\"dataframe\">\n",
       "  <thead>\n",
       "    <tr style=\"text-align: right;\">\n",
       "      <th></th>\n",
       "      <th>btc</th>\n",
       "      <th>eth</th>\n",
       "      <th>bnb</th>\n",
       "      <th>ada</th>\n",
       "      <th>sol</th>\n",
       "    </tr>\n",
       "  </thead>\n",
       "  <tbody>\n",
       "    <tr>\n",
       "      <th>btc</th>\n",
       "      <td>1.000000</td>\n",
       "      <td>0.189460</td>\n",
       "      <td>0.175162</td>\n",
       "      <td>0.751868</td>\n",
       "      <td>0.828345</td>\n",
       "    </tr>\n",
       "    <tr>\n",
       "      <th>eth</th>\n",
       "      <td>0.189460</td>\n",
       "      <td>1.000000</td>\n",
       "      <td>0.377394</td>\n",
       "      <td>0.217950</td>\n",
       "      <td>0.405088</td>\n",
       "    </tr>\n",
       "    <tr>\n",
       "      <th>bnb</th>\n",
       "      <td>0.175162</td>\n",
       "      <td>0.377394</td>\n",
       "      <td>1.000000</td>\n",
       "      <td>0.355603</td>\n",
       "      <td>0.467909</td>\n",
       "    </tr>\n",
       "    <tr>\n",
       "      <th>ada</th>\n",
       "      <td>0.751868</td>\n",
       "      <td>0.217950</td>\n",
       "      <td>0.355603</td>\n",
       "      <td>1.000000</td>\n",
       "      <td>0.715611</td>\n",
       "    </tr>\n",
       "    <tr>\n",
       "      <th>sol</th>\n",
       "      <td>0.828345</td>\n",
       "      <td>0.405088</td>\n",
       "      <td>0.467909</td>\n",
       "      <td>0.715611</td>\n",
       "      <td>1.000000</td>\n",
       "    </tr>\n",
       "  </tbody>\n",
       "</table>\n",
       "</div>"
      ],
      "text/plain": [
       "          btc       eth       bnb       ada       sol\n",
       "btc  1.000000  0.189460  0.175162  0.751868  0.828345\n",
       "eth  0.189460  1.000000  0.377394  0.217950  0.405088\n",
       "bnb  0.175162  0.377394  1.000000  0.355603  0.467909\n",
       "ada  0.751868  0.217950  0.355603  1.000000  0.715611\n",
       "sol  0.828345  0.405088  0.467909  0.715611  1.000000"
      ]
     },
     "execution_count": 39,
     "metadata": {},
     "output_type": "execute_result"
    }
   ],
   "source": [
    "close_price_matrix = pd.DataFrame({\n",
    "        \"btc\": btc_ohlc_1h[\"ClosePrice\"].to_list()[0:100],\n",
    "        \"eth\": eth_ohlc_1h[\"ClosePrice\"].to_list()[0:100],\n",
    "        \"bnb\": bnb_ohlc_1h[\"ClosePrice\"].to_list()[0:100],\n",
    "        \"ada\": ada_ohlc_1h[\"ClosePrice\"].to_list()[0:100],\n",
    "        \"sol\": sol_ohlc_1h[\"ClosePrice\"].to_list()[0:100]\n",
    "    })\n",
    "\n",
    "corr = close_price_matrix.corr()\n",
    "corr"
   ]
  },
  {
   "cell_type": "code",
   "execution_count": 40,
   "metadata": {},
   "outputs": [
    {
     "data": {
      "image/png": "[encoded data removed]",
      "text/plain": [
       "<Figure size 800x800 with 1 Axes>"
      ]
     },
     "metadata": {},
     "output_type": "display_data"
    }
   ],
   "source": [
    "fig = plt.figure(figsize=(8,8))\n",
    "plt.matshow(corr, cmap='RdBu', fignum=fig.number)\n",
    "plt.xticks(range(len(corr.columns)), corr.columns, rotation='vertical');\n",
    "plt.yticks(range(len(corr.columns)), corr.columns);"
   ]
  },
  {
   "cell_type": "markdown",
   "metadata": {},
   "source": [
    "## Save data"
   ]
  },
  {
   "cell_type": "markdown",
   "metadata": {},
   "source": [
    "### OHLC datasources"
   ]
  },
  {
   "cell_type": "code",
   "execution_count": 41,
   "metadata": {},
   "outputs": [
    {
     "name": "stderr",
     "output_type": "stream",
     "text": [
      "/tmp/ipykernel_53115/308026876.py:9: FutureWarning: save is not part of the public API, usage can give in unexpected results and will be removed in a future version\n",
      "  writer.save()\n"
     ]
    }
   ],
   "source": [
    "writer = pd.ExcelWriter(\"data/cryptos.xlsx\")\n",
    "\n",
    "btc_ohlc_1h.to_excel(writer, sheet_name=\"Bitcoin\")\n",
    "eth_ohlc_1h.to_excel(writer, sheet_name=\"Ethereum\")\n",
    "bnb_ohlc_1h.to_excel(writer, sheet_name=\"Binance coin\")\n",
    "ada_ohlc_1h.to_excel(writer, sheet_name=\"Cardano\")\n",
    "sol_ohlc_1h.to_excel(writer, sheet_name=\"Solana\")\n",
    "\n",
    "writer.save()"
   ]
  },
  {
   "cell_type": "markdown",
   "metadata": {},
   "source": [
    "### Descriptions"
   ]
  },
  {
   "cell_type": "code",
   "execution_count": 42,
   "metadata": {},
   "outputs": [],
   "source": [
    "with open('data/crypto_descriptions.yaml', 'w') as outfile:\n",
    "    yaml.dump(coin_descriptions, outfile, default_flow_style=False)"
   ]
  },
  {
   "cell_type": "markdown",
   "metadata": {},
   "source": [
    "## Resources\n",
    "\n",
    "* [CoinMarketCap](https://coinmarketcap.com/)\n",
    "* [Cryptowat.ch](https://www.cryptowat.ch/)\n",
    "* [Wikipedia](https://www.wikipedia.org/)"
   ]
  }
 ],
 "metadata": {
  "kernelspec": {
   "display_name": "Python 3.8.10 ('venv': venv)",
   "language": "python",
   "name": "python3"
  },
  "language_info": {
   "codemirror_mode": {
    "name": "ipython",
    "version": 3
   },
   "file_extension": ".py",
   "mimetype": "text/x-python",
   "name": "python",
   "nbconvert_exporter": "python",
   "pygments_lexer": "ipython3",
   "version": "3.8.10"
  },
  "orig_nbformat": 4,
  "vscode": {
   "interpreter": {
    "hash": "cca588db4036ab39f8f84b85a4e081f19c6b7145aa4a9bba2f4fb80b6af26477"
   }
  }
 },
 "nbformat": 4,
 "nbformat_minor": 2
}
